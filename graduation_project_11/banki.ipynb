{
 "cells": [
  {
   "cell_type": "markdown",
   "metadata": {
    "toc": true
   },
   "source": [
    "<h1>Содержание<span class=\"tocSkip\"></span></h1>\n",
    "<div class=\"toc\"><ul class=\"toc-item\"><li><ul class=\"toc-item\"><li><span><a href=\"#Описание-исследования\" data-toc-modified-id=\"Описание-исследования-0.1\"><span class=\"toc-item-num\">0.1&nbsp;&nbsp;</span>Описание исследования</a></span></li><li><span><a href=\"#Цель-исследования\" data-toc-modified-id=\"Цель-исследования-0.2\"><span class=\"toc-item-num\">0.2&nbsp;&nbsp;</span>Цель исследования</a></span></li><li><span><a href=\"#Задачи-исследования\" data-toc-modified-id=\"Задачи-исследования-0.3\"><span class=\"toc-item-num\">0.3&nbsp;&nbsp;</span>Задачи исследования</a></span></li><li><span><a href=\"#Исходные-данные\" data-toc-modified-id=\"Исходные-данные-0.4\"><span class=\"toc-item-num\">0.4&nbsp;&nbsp;</span>Исходные данные</a></span></li><li><span><a href=\"#Стейкхолдеры\" data-toc-modified-id=\"Стейкхолдеры-0.5\"><span class=\"toc-item-num\">0.5&nbsp;&nbsp;</span>Стейкхолдеры</a></span></li></ul></li><li><span><a href=\"#Изучение-данных-из-файла-\" data-toc-modified-id=\"Изучение-данных-из-файла--1\"><span class=\"toc-item-num\">1&nbsp;&nbsp;</span>Изучение данных из файла <a id=\"1-bullet\" rel=\"nofollow\"></a></a></span><ul class=\"toc-item\"><li><span><a href=\"#Вывод\" data-toc-modified-id=\"Вывод-1.1\"><span class=\"toc-item-num\">1.1&nbsp;&nbsp;</span>Вывод</a></span></li></ul></li><li><span><a href=\"#Визуализация-данных\" data-toc-modified-id=\"Визуализация-данных-2\"><span class=\"toc-item-num\">2&nbsp;&nbsp;</span>Визуализация данных</a></span><ul class=\"toc-item\"><li><span><a href=\"#Вывод\" data-toc-modified-id=\"Вывод-2.1\"><span class=\"toc-item-num\">2.1&nbsp;&nbsp;</span>Вывод</a></span></li></ul></li><li><span><a href=\"#Кластеризация-клиентов\" data-toc-modified-id=\"Кластеризация-клиентов-3\"><span class=\"toc-item-num\">3&nbsp;&nbsp;</span>Кластеризация клиентов</a></span><ul class=\"toc-item\"><li><span><a href=\"#Вывод\" data-toc-modified-id=\"Вывод-3.1\"><span class=\"toc-item-num\">3.1&nbsp;&nbsp;</span>Вывод</a></span></li><li><span><a href=\"#Проверка-гипотез\" data-toc-modified-id=\"Проверка-гипотез-3.2\"><span class=\"toc-item-num\">3.2&nbsp;&nbsp;</span>Проверка гипотез</a></span></li></ul></li><li><span><a href=\"#Выводы-и-рекомендации\" data-toc-modified-id=\"Выводы-и-рекомендации-4\"><span class=\"toc-item-num\">4&nbsp;&nbsp;</span>Выводы и рекомендации</a></span></li><li><span><a href=\"#Дашборд-и-презентация\" data-toc-modified-id=\"Дашборд-и-презентация-5\"><span class=\"toc-item-num\">5&nbsp;&nbsp;</span>Дашборд и презентация</a></span></li></ul></div>"
   ]
  },
  {
   "cell_type": "markdown",
   "metadata": {},
   "source": [
    "# Описание проекта\n",
    "\n",
    "### Описание исследования\n",
    "Предоставлены данные о клиентах банка «Метанпром». Банк располагается в Ярославле и областных городах: Ростов Великий и Рыбинск. В исследовании будут проанализированы клиенты регионального банка и выделен портрет клиентов, которые склонны уходить из банка.\n",
    "    \n",
    "_____\n",
    "### Цель исследования\n",
    "Дать рекомендации по повышению лояльности клиентов банка и удержанию их в числе постоянных клиентов на основе аналитических данных и материалов по проверке гипотез. \n",
    "    \n",
    "_____\n",
    "### Задачи исследования\n",
    "\n",
    "1. Провести предварительную подготовку данных:\n",
    "- исследовать пропущенные значения;\n",
    "- исследовать соответствие типов;\n",
    "- исследовать дубликаты;\n",
    "- проверить корректность наименований колонок;\n",
    "- переименовать колонки, если необходимо;\n",
    "- удалить дубликаты;\n",
    "- привести типы;\n",
    "- заменить пропущенные значения.\n",
    "2. Проанализировать полученные данные. \n",
    "3. Проверить гипотезы:\n",
    "* >Гипотеза различия среднего дохода между экспериментальными группами клиентов банка по числу используемых услуг:\n",
    "* Н0 - различия среднего дохода между экспериментальными группами клиентов банка которые пользуются двумя и более продуктами банка, и теми, которые пользуются одним, статистически не значимы\n",
    "* Н1 - различия среднего дохода между экспериментальными группами клиентов банка которые пользуются двумя и более продуктами банка, и теми, которые пользуются одним, статистически, статистически значимы\n",
    "* >Гипотеза относительно представленных данных.\n",
    "\n",
    "Для формирования гипотез следует решить подзадачи:  \n",
    "3.1. Рассмотреть распределение и важность признаков в группах клиентов (ушедших и оставшихся);  \n",
    "3.2. Определить зависимость частоты и числа покупки услуг(банковских продуктов) и вероятности ухода;  \n",
    "3.3. Сегментировать группы клиентов по объему потребляемых услуг и составить портреты клиентов для разработки рекомендаций по удержанию;  \n",
    "3.4. Проверить гипотезы и разработать конкретные рекомендации по удержанию клиентских групп.  \n",
    "4. Подготовить дашборд и презентацию.\n",
    "_____\n",
    "### Исходные данные\n",
    "    \n",
    "Данные клиентов банка:\n",
    "\n",
    "- `userid` — идентификатор пользователя,\n",
    "- `score` — баллы кредитного скоринга,\n",
    "- `City` — город,\n",
    "- `Gender` — пол,\n",
    "- `Age` — возраст,\n",
    "- `Objects` — количество объектов в собственности,\n",
    "- `Balance` — баланс на счёте,\n",
    "- `Products` — количество продуктов, которыми пользуется клиент,\n",
    "- `CreditCard` — есть ли кредитная карта,\n",
    "- `Loyalty` — активный клиент,\n",
    "- `estimated_salary` — заработная плата клиента,\n",
    "- `Churn` — ушёл или нет.\n",
    "______\n",
    "### Стейкхолдеры\n",
    "    \n",
    "`Заказчик и основной пользователь` - менеджер продукта, разрабатывающий решения по удержанию клиентов.\n"
   ]
  },
  {
   "cell_type": "markdown",
   "metadata": {},
   "source": [
    "## Изучение данных из файла <a id='1-bullet'></a>"
   ]
  },
  {
   "cell_type": "code",
   "execution_count": 1,
   "metadata": {
    "scrolled": true
   },
   "outputs": [
    {
     "name": "stdout",
     "output_type": "stream",
     "text": [
      "Requirement already satisfied: seaborn in c:\\users\\dmitriy\\anaconda3\\envs\\praktikum_env_win_new\\lib\\site-packages (0.11.2)\n",
      "Collecting seaborn\n",
      "  Downloading seaborn-0.12.0-py3-none-any.whl (285 kB)\n",
      "Requirement already satisfied: pandas>=0.25 in c:\\users\\dmitriy\\anaconda3\\envs\\praktikum_env_win_new\\lib\\site-packages (from seaborn) (0.25.1)\n",
      "Requirement already satisfied: numpy>=1.17 in c:\\users\\dmitriy\\anaconda3\\envs\\praktikum_env_win_new\\lib\\site-packages (from seaborn) (1.18.3)\n",
      "Requirement already satisfied: matplotlib>=3.1 in c:\\users\\dmitriy\\anaconda3\\envs\\praktikum_env_win_new\\lib\\site-packages (from seaborn) (3.1.0)\n",
      "Requirement already satisfied: typing_extensions in c:\\users\\dmitriy\\anaconda3\\envs\\praktikum_env_win_new\\lib\\site-packages (from seaborn) (4.0.1)\n",
      "Requirement already satisfied: python-dateutil>=2.1 in c:\\users\\dmitriy\\anaconda3\\envs\\praktikum_env_win_new\\lib\\site-packages (from matplotlib>=3.1->seaborn) (2.8.2)\n",
      "Requirement already satisfied: pyparsing!=2.0.4,!=2.1.2,!=2.1.6,>=2.0.1 in c:\\users\\dmitriy\\anaconda3\\envs\\praktikum_env_win_new\\lib\\site-packages (from matplotlib>=3.1->seaborn) (3.0.6)\n",
      "Requirement already satisfied: cycler>=0.10 in c:\\users\\dmitriy\\anaconda3\\envs\\praktikum_env_win_new\\lib\\site-packages (from matplotlib>=3.1->seaborn) (0.11.0)\n",
      "Requirement already satisfied: kiwisolver>=1.0.1 in c:\\users\\dmitriy\\anaconda3\\envs\\praktikum_env_win_new\\lib\\site-packages (from matplotlib>=3.1->seaborn) (1.3.2)\n",
      "Requirement already satisfied: pytz>=2017.2 in c:\\users\\dmitriy\\anaconda3\\envs\\praktikum_env_win_new\\lib\\site-packages (from pandas>=0.25->seaborn) (2021.3)\n",
      "Requirement already satisfied: six>=1.5 in c:\\users\\dmitriy\\anaconda3\\envs\\praktikum_env_win_new\\lib\\site-packages (from python-dateutil>=2.1->matplotlib>=3.1->seaborn) (1.16.0)\n",
      "Installing collected packages: seaborn\n",
      "  Attempting uninstall: seaborn\n",
      "    Found existing installation: seaborn 0.11.2\n",
      "    Uninstalling seaborn-0.11.2:\n",
      "      Successfully uninstalled seaborn-0.11.2\n",
      "Successfully installed seaborn-0.12.0\n",
      "Requirement already satisfied: seaborn in c:\\users\\dmitriy\\anaconda3\\envs\\praktikum_env_win_new\\lib\\site-packages (0.12.0)\n",
      "Requirement already satisfied: typing_extensions in c:\\users\\dmitriy\\anaconda3\\envs\\praktikum_env_win_new\\lib\\site-packages (from seaborn) (4.0.1)\n",
      "Requirement already satisfied: matplotlib>=3.1 in c:\\users\\dmitriy\\anaconda3\\envs\\praktikum_env_win_new\\lib\\site-packages (from seaborn) (3.1.0)\n",
      "Requirement already satisfied: numpy>=1.17 in c:\\users\\dmitriy\\anaconda3\\envs\\praktikum_env_win_new\\lib\\site-packages (from seaborn) (1.18.3)\n",
      "Requirement already satisfied: pandas>=0.25 in c:\\users\\dmitriy\\anaconda3\\envs\\praktikum_env_win_new\\lib\\site-packages (from seaborn) (0.25.1)\n",
      "Requirement already satisfied: pyparsing!=2.0.4,!=2.1.2,!=2.1.6,>=2.0.1 in c:\\users\\dmitriy\\anaconda3\\envs\\praktikum_env_win_new\\lib\\site-packages (from matplotlib>=3.1->seaborn) (3.0.6)\n",
      "Requirement already satisfied: python-dateutil>=2.1 in c:\\users\\dmitriy\\anaconda3\\envs\\praktikum_env_win_new\\lib\\site-packages (from matplotlib>=3.1->seaborn) (2.8.2)\n",
      "Requirement already satisfied: kiwisolver>=1.0.1 in c:\\users\\dmitriy\\anaconda3\\envs\\praktikum_env_win_new\\lib\\site-packages (from matplotlib>=3.1->seaborn) (1.3.2)\n",
      "Requirement already satisfied: cycler>=0.10 in c:\\users\\dmitriy\\anaconda3\\envs\\praktikum_env_win_new\\lib\\site-packages (from matplotlib>=3.1->seaborn) (0.11.0)\n",
      "Requirement already satisfied: pytz>=2017.2 in c:\\users\\dmitriy\\anaconda3\\envs\\praktikum_env_win_new\\lib\\site-packages (from pandas>=0.25->seaborn) (2021.3)\n",
      "Requirement already satisfied: six>=1.5 in c:\\users\\dmitriy\\anaconda3\\envs\\praktikum_env_win_new\\lib\\site-packages (from python-dateutil>=2.1->matplotlib>=3.1->seaborn) (1.16.0)\n"
     ]
    }
   ],
   "source": [
    "!pip install seaborn --upgrade  \n",
    "!pip install seaborn"
   ]
  },
  {
   "cell_type": "code",
   "execution_count": 2,
   "metadata": {
    "scrolled": true
   },
   "outputs": [],
   "source": [
    "#импортируем бибилиотеки\n",
    "import pandas as pd\n",
    "import seaborn as sns\n",
    "\n",
    "from sklearn.preprocessing import StandardScaler\n",
    "from sklearn.cluster import KMeans\n",
    "from sklearn.model_selection import train_test_split\n",
    "from sklearn.linear_model import Lasso, Ridge\n",
    "from sklearn.tree import DecisionTreeRegressor\n",
    "from sklearn.ensemble import RandomForestRegressor, GradientBoostingRegressor\n",
    "\n",
    "import matplotlib.pyplot as plt\n",
    "from sklearn.metrics import mean_absolute_error, mean_squared_error, r2_score\n",
    "\n",
    "import numpy as np\n",
    "from IPython.display import display\n",
    "\n",
    "from scipy import stats as st\n",
    "import numpy as np\n",
    "import math as mth\n",
    "import plotly.express as px\n",
    "\n",
    "from statsmodels.stats.proportion import proportions_ztest\n",
    "import warnings\n",
    "warnings.filterwarnings('ignore')"
   ]
  },
  {
   "cell_type": "code",
   "execution_count": 3,
   "metadata": {
    "scrolled": true
   },
   "outputs": [
    {
     "data": {
      "text/html": [
       "<div>\n",
       "<style scoped>\n",
       "    .dataframe tbody tr th:only-of-type {\n",
       "        vertical-align: middle;\n",
       "    }\n",
       "\n",
       "    .dataframe tbody tr th {\n",
       "        vertical-align: top;\n",
       "    }\n",
       "\n",
       "    .dataframe thead th {\n",
       "        text-align: right;\n",
       "    }\n",
       "</style>\n",
       "<table border=\"1\" class=\"dataframe\">\n",
       "  <thead>\n",
       "    <tr style=\"text-align: right;\">\n",
       "      <th></th>\n",
       "      <th>userid</th>\n",
       "      <th>score</th>\n",
       "      <th>City</th>\n",
       "      <th>Gender</th>\n",
       "      <th>Age</th>\n",
       "      <th>Objects</th>\n",
       "      <th>Balance</th>\n",
       "      <th>Products</th>\n",
       "      <th>CreditCard</th>\n",
       "      <th>Loyalty</th>\n",
       "      <th>estimated_salary</th>\n",
       "      <th>Churn</th>\n",
       "    </tr>\n",
       "  </thead>\n",
       "  <tbody>\n",
       "    <tr>\n",
       "      <td>0</td>\n",
       "      <td>15677338</td>\n",
       "      <td>619</td>\n",
       "      <td>Ярославль</td>\n",
       "      <td>Ж</td>\n",
       "      <td>42</td>\n",
       "      <td>2</td>\n",
       "      <td>NaN</td>\n",
       "      <td>1</td>\n",
       "      <td>1</td>\n",
       "      <td>1</td>\n",
       "      <td>101348.88</td>\n",
       "      <td>1</td>\n",
       "    </tr>\n",
       "    <tr>\n",
       "      <td>1</td>\n",
       "      <td>15690047</td>\n",
       "      <td>608</td>\n",
       "      <td>Рыбинск</td>\n",
       "      <td>Ж</td>\n",
       "      <td>41</td>\n",
       "      <td>1</td>\n",
       "      <td>83807.86</td>\n",
       "      <td>1</td>\n",
       "      <td>0</td>\n",
       "      <td>1</td>\n",
       "      <td>112542.58</td>\n",
       "      <td>0</td>\n",
       "    </tr>\n",
       "    <tr>\n",
       "      <td>2</td>\n",
       "      <td>15662040</td>\n",
       "      <td>502</td>\n",
       "      <td>Ярославль</td>\n",
       "      <td>Ж</td>\n",
       "      <td>42</td>\n",
       "      <td>8</td>\n",
       "      <td>159660.80</td>\n",
       "      <td>3</td>\n",
       "      <td>1</td>\n",
       "      <td>0</td>\n",
       "      <td>113931.57</td>\n",
       "      <td>1</td>\n",
       "    </tr>\n",
       "    <tr>\n",
       "      <td>3</td>\n",
       "      <td>15744090</td>\n",
       "      <td>699</td>\n",
       "      <td>Ярославль</td>\n",
       "      <td>Ж</td>\n",
       "      <td>39</td>\n",
       "      <td>1</td>\n",
       "      <td>NaN</td>\n",
       "      <td>2</td>\n",
       "      <td>0</td>\n",
       "      <td>0</td>\n",
       "      <td>93826.63</td>\n",
       "      <td>0</td>\n",
       "    </tr>\n",
       "    <tr>\n",
       "      <td>4</td>\n",
       "      <td>15780624</td>\n",
       "      <td>850</td>\n",
       "      <td>Рыбинск</td>\n",
       "      <td>Ж</td>\n",
       "      <td>43</td>\n",
       "      <td>2</td>\n",
       "      <td>125510.82</td>\n",
       "      <td>1</td>\n",
       "      <td>1</td>\n",
       "      <td>1</td>\n",
       "      <td>79084.10</td>\n",
       "      <td>0</td>\n",
       "    </tr>\n",
       "  </tbody>\n",
       "</table>\n",
       "</div>"
      ],
      "text/plain": [
       "     userid  score       City Gender  Age  Objects    Balance  Products  \\\n",
       "0  15677338    619  Ярославль      Ж   42        2        NaN         1   \n",
       "1  15690047    608    Рыбинск      Ж   41        1   83807.86         1   \n",
       "2  15662040    502  Ярославль      Ж   42        8  159660.80         3   \n",
       "3  15744090    699  Ярославль      Ж   39        1        NaN         2   \n",
       "4  15780624    850    Рыбинск      Ж   43        2  125510.82         1   \n",
       "\n",
       "   CreditCard  Loyalty  estimated_salary  Churn  \n",
       "0           1        1         101348.88      1  \n",
       "1           0        1         112542.58      0  \n",
       "2           1        0         113931.57      1  \n",
       "3           0        0          93826.63      0  \n",
       "4           1        1          79084.10      0  "
      ]
     },
     "metadata": {},
     "output_type": "display_data"
    }
   ],
   "source": [
    "try:\n",
    "    bank_data = pd.read_csv('bank_dataset.csv', sep=',')\n",
    "except:\n",
    "    bank_data = pd.read_csv('/datasets/bank_dataset.csv', sep=',')\n",
    "\n",
    "display(bank_data.head())\n",
    "#сохраним данные для дашборда\n",
    "bank_data.to_csv('final_tableau.csv', index = False)"
   ]
  },
  {
   "cell_type": "code",
   "execution_count": 4,
   "metadata": {
    "scrolled": true
   },
   "outputs": [
    {
     "data": {
      "text/html": [
       "<div>\n",
       "<style scoped>\n",
       "    .dataframe tbody tr th:only-of-type {\n",
       "        vertical-align: middle;\n",
       "    }\n",
       "\n",
       "    .dataframe tbody tr th {\n",
       "        vertical-align: top;\n",
       "    }\n",
       "\n",
       "    .dataframe thead th {\n",
       "        text-align: right;\n",
       "    }\n",
       "</style>\n",
       "<table border=\"1\" class=\"dataframe\">\n",
       "  <thead>\n",
       "    <tr style=\"text-align: right;\">\n",
       "      <th></th>\n",
       "      <th>userid</th>\n",
       "      <th>score</th>\n",
       "      <th>City</th>\n",
       "      <th>Gender</th>\n",
       "      <th>Age</th>\n",
       "      <th>Objects</th>\n",
       "      <th>Balance</th>\n",
       "      <th>Products</th>\n",
       "      <th>сredit_сard</th>\n",
       "      <th>Loyalty</th>\n",
       "      <th>estimated_salary</th>\n",
       "      <th>Churn</th>\n",
       "    </tr>\n",
       "  </thead>\n",
       "  <tbody>\n",
       "    <tr>\n",
       "      <td>0</td>\n",
       "      <td>15677338</td>\n",
       "      <td>619</td>\n",
       "      <td>Ярославль</td>\n",
       "      <td>Ж</td>\n",
       "      <td>42</td>\n",
       "      <td>2</td>\n",
       "      <td>NaN</td>\n",
       "      <td>1</td>\n",
       "      <td>1</td>\n",
       "      <td>1</td>\n",
       "      <td>101348.88</td>\n",
       "      <td>1</td>\n",
       "    </tr>\n",
       "    <tr>\n",
       "      <td>1</td>\n",
       "      <td>15690047</td>\n",
       "      <td>608</td>\n",
       "      <td>Рыбинск</td>\n",
       "      <td>Ж</td>\n",
       "      <td>41</td>\n",
       "      <td>1</td>\n",
       "      <td>83807.86</td>\n",
       "      <td>1</td>\n",
       "      <td>0</td>\n",
       "      <td>1</td>\n",
       "      <td>112542.58</td>\n",
       "      <td>0</td>\n",
       "    </tr>\n",
       "    <tr>\n",
       "      <td>2</td>\n",
       "      <td>15662040</td>\n",
       "      <td>502</td>\n",
       "      <td>Ярославль</td>\n",
       "      <td>Ж</td>\n",
       "      <td>42</td>\n",
       "      <td>8</td>\n",
       "      <td>159660.80</td>\n",
       "      <td>3</td>\n",
       "      <td>1</td>\n",
       "      <td>0</td>\n",
       "      <td>113931.57</td>\n",
       "      <td>1</td>\n",
       "    </tr>\n",
       "    <tr>\n",
       "      <td>3</td>\n",
       "      <td>15744090</td>\n",
       "      <td>699</td>\n",
       "      <td>Ярославль</td>\n",
       "      <td>Ж</td>\n",
       "      <td>39</td>\n",
       "      <td>1</td>\n",
       "      <td>NaN</td>\n",
       "      <td>2</td>\n",
       "      <td>0</td>\n",
       "      <td>0</td>\n",
       "      <td>93826.63</td>\n",
       "      <td>0</td>\n",
       "    </tr>\n",
       "    <tr>\n",
       "      <td>4</td>\n",
       "      <td>15780624</td>\n",
       "      <td>850</td>\n",
       "      <td>Рыбинск</td>\n",
       "      <td>Ж</td>\n",
       "      <td>43</td>\n",
       "      <td>2</td>\n",
       "      <td>125510.82</td>\n",
       "      <td>1</td>\n",
       "      <td>1</td>\n",
       "      <td>1</td>\n",
       "      <td>79084.10</td>\n",
       "      <td>0</td>\n",
       "    </tr>\n",
       "  </tbody>\n",
       "</table>\n",
       "</div>"
      ],
      "text/plain": [
       "     userid  score       City Gender  Age  Objects    Balance  Products  \\\n",
       "0  15677338    619  Ярославль      Ж   42        2        NaN         1   \n",
       "1  15690047    608    Рыбинск      Ж   41        1   83807.86         1   \n",
       "2  15662040    502  Ярославль      Ж   42        8  159660.80         3   \n",
       "3  15744090    699  Ярославль      Ж   39        1        NaN         2   \n",
       "4  15780624    850    Рыбинск      Ж   43        2  125510.82         1   \n",
       "\n",
       "   сredit_сard  Loyalty  estimated_salary  Churn  \n",
       "0            1        1         101348.88      1  \n",
       "1            0        1         112542.58      0  \n",
       "2            1        0         113931.57      1  \n",
       "3            0        0          93826.63      0  \n",
       "4            1        1          79084.10      0  "
      ]
     },
     "metadata": {},
     "output_type": "display_data"
    },
    {
     "name": "stdout",
     "output_type": "stream",
     "text": [
      "<class 'pandas.core.frame.DataFrame'>\n",
      "RangeIndex: 10000 entries, 0 to 9999\n",
      "Data columns (total 12 columns):\n",
      "userid              10000 non-null int64\n",
      "score               10000 non-null int64\n",
      "City                10000 non-null object\n",
      "Gender              10000 non-null object\n",
      "Age                 10000 non-null int64\n",
      "Objects             10000 non-null int64\n",
      "Balance             6383 non-null float64\n",
      "Products            10000 non-null int64\n",
      "сredit_сard         10000 non-null int64\n",
      "Loyalty             10000 non-null int64\n",
      "estimated_salary    10000 non-null float64\n",
      "Churn               10000 non-null int64\n",
      "dtypes: float64(2), int64(8), object(2)\n",
      "memory usage: 937.6+ KB\n",
      "Количество дубликатов - 0\n"
     ]
    },
    {
     "data": {
      "text/html": [
       "<div>\n",
       "<style scoped>\n",
       "    .dataframe tbody tr th:only-of-type {\n",
       "        vertical-align: middle;\n",
       "    }\n",
       "\n",
       "    .dataframe tbody tr th {\n",
       "        vertical-align: top;\n",
       "    }\n",
       "\n",
       "    .dataframe thead th {\n",
       "        text-align: right;\n",
       "    }\n",
       "</style>\n",
       "<table border=\"1\" class=\"dataframe\">\n",
       "  <thead>\n",
       "    <tr style=\"text-align: right;\">\n",
       "      <th></th>\n",
       "      <th>userid</th>\n",
       "      <th>score</th>\n",
       "      <th>Age</th>\n",
       "      <th>Objects</th>\n",
       "      <th>Balance</th>\n",
       "      <th>Products</th>\n",
       "      <th>сredit_сard</th>\n",
       "      <th>Loyalty</th>\n",
       "      <th>estimated_salary</th>\n",
       "      <th>Churn</th>\n",
       "    </tr>\n",
       "  </thead>\n",
       "  <tbody>\n",
       "    <tr>\n",
       "      <td>count</td>\n",
       "      <td>1.000000e+04</td>\n",
       "      <td>10000.000000</td>\n",
       "      <td>10000.000000</td>\n",
       "      <td>10000.000000</td>\n",
       "      <td>6383.000000</td>\n",
       "      <td>10000.000000</td>\n",
       "      <td>10000.00000</td>\n",
       "      <td>10000.000000</td>\n",
       "      <td>10000.000000</td>\n",
       "      <td>10000.000000</td>\n",
       "    </tr>\n",
       "    <tr>\n",
       "      <td>mean</td>\n",
       "      <td>1.573368e+07</td>\n",
       "      <td>650.528800</td>\n",
       "      <td>38.921800</td>\n",
       "      <td>5.012800</td>\n",
       "      <td>119827.493793</td>\n",
       "      <td>1.530200</td>\n",
       "      <td>0.70550</td>\n",
       "      <td>0.515100</td>\n",
       "      <td>100090.239881</td>\n",
       "      <td>0.203700</td>\n",
       "    </tr>\n",
       "    <tr>\n",
       "      <td>std</td>\n",
       "      <td>7.193619e+04</td>\n",
       "      <td>96.653299</td>\n",
       "      <td>10.487806</td>\n",
       "      <td>2.892174</td>\n",
       "      <td>30095.056462</td>\n",
       "      <td>0.581654</td>\n",
       "      <td>0.45584</td>\n",
       "      <td>0.499797</td>\n",
       "      <td>57510.492818</td>\n",
       "      <td>0.402769</td>\n",
       "    </tr>\n",
       "    <tr>\n",
       "      <td>min</td>\n",
       "      <td>1.560844e+07</td>\n",
       "      <td>350.000000</td>\n",
       "      <td>18.000000</td>\n",
       "      <td>0.000000</td>\n",
       "      <td>3768.690000</td>\n",
       "      <td>1.000000</td>\n",
       "      <td>0.00000</td>\n",
       "      <td>0.000000</td>\n",
       "      <td>11.580000</td>\n",
       "      <td>0.000000</td>\n",
       "    </tr>\n",
       "    <tr>\n",
       "      <td>25%</td>\n",
       "      <td>1.567126e+07</td>\n",
       "      <td>584.000000</td>\n",
       "      <td>32.000000</td>\n",
       "      <td>3.000000</td>\n",
       "      <td>100181.975000</td>\n",
       "      <td>1.000000</td>\n",
       "      <td>0.00000</td>\n",
       "      <td>0.000000</td>\n",
       "      <td>51002.110000</td>\n",
       "      <td>0.000000</td>\n",
       "    </tr>\n",
       "    <tr>\n",
       "      <td>50%</td>\n",
       "      <td>1.573347e+07</td>\n",
       "      <td>652.000000</td>\n",
       "      <td>37.000000</td>\n",
       "      <td>5.000000</td>\n",
       "      <td>119839.690000</td>\n",
       "      <td>1.000000</td>\n",
       "      <td>1.00000</td>\n",
       "      <td>1.000000</td>\n",
       "      <td>100193.915000</td>\n",
       "      <td>0.000000</td>\n",
       "    </tr>\n",
       "    <tr>\n",
       "      <td>75%</td>\n",
       "      <td>1.579597e+07</td>\n",
       "      <td>718.000000</td>\n",
       "      <td>44.000000</td>\n",
       "      <td>7.000000</td>\n",
       "      <td>139512.290000</td>\n",
       "      <td>2.000000</td>\n",
       "      <td>1.00000</td>\n",
       "      <td>1.000000</td>\n",
       "      <td>149388.247500</td>\n",
       "      <td>0.000000</td>\n",
       "    </tr>\n",
       "    <tr>\n",
       "      <td>max</td>\n",
       "      <td>1.585843e+07</td>\n",
       "      <td>850.000000</td>\n",
       "      <td>92.000000</td>\n",
       "      <td>10.000000</td>\n",
       "      <td>250898.090000</td>\n",
       "      <td>4.000000</td>\n",
       "      <td>1.00000</td>\n",
       "      <td>1.000000</td>\n",
       "      <td>199992.480000</td>\n",
       "      <td>1.000000</td>\n",
       "    </tr>\n",
       "  </tbody>\n",
       "</table>\n",
       "</div>"
      ],
      "text/plain": [
       "             userid         score           Age       Objects        Balance  \\\n",
       "count  1.000000e+04  10000.000000  10000.000000  10000.000000    6383.000000   \n",
       "mean   1.573368e+07    650.528800     38.921800      5.012800  119827.493793   \n",
       "std    7.193619e+04     96.653299     10.487806      2.892174   30095.056462   \n",
       "min    1.560844e+07    350.000000     18.000000      0.000000    3768.690000   \n",
       "25%    1.567126e+07    584.000000     32.000000      3.000000  100181.975000   \n",
       "50%    1.573347e+07    652.000000     37.000000      5.000000  119839.690000   \n",
       "75%    1.579597e+07    718.000000     44.000000      7.000000  139512.290000   \n",
       "max    1.585843e+07    850.000000     92.000000     10.000000  250898.090000   \n",
       "\n",
       "           Products  сredit_сard       Loyalty  estimated_salary         Churn  \n",
       "count  10000.000000  10000.00000  10000.000000      10000.000000  10000.000000  \n",
       "mean       1.530200      0.70550      0.515100     100090.239881      0.203700  \n",
       "std        0.581654      0.45584      0.499797      57510.492818      0.402769  \n",
       "min        1.000000      0.00000      0.000000         11.580000      0.000000  \n",
       "25%        1.000000      0.00000      0.000000      51002.110000      0.000000  \n",
       "50%        1.000000      1.00000      1.000000     100193.915000      0.000000  \n",
       "75%        2.000000      1.00000      1.000000     149388.247500      0.000000  \n",
       "max        4.000000      1.00000      1.000000     199992.480000      1.000000  "
      ]
     },
     "metadata": {},
     "output_type": "display_data"
    },
    {
     "data": {
      "text/plain": [
       "Ярославль         5014\n",
       "Ростов Великий    2509\n",
       "Рыбинск           2477\n",
       "Name: city, dtype: int64"
      ]
     },
     "metadata": {},
     "output_type": "display_data"
    },
    {
     "name": "stdout",
     "output_type": "stream",
     "text": [
      "********************\n"
     ]
    },
    {
     "data": {
      "text/plain": [
       "М    5457\n",
       "Ж    4543\n",
       "Name: gender, dtype: int64"
      ]
     },
     "metadata": {},
     "output_type": "display_data"
    },
    {
     "name": "stdout",
     "output_type": "stream",
     "text": [
      "********************\n"
     ]
    },
    {
     "data": {
      "text/plain": [
       "37    478\n",
       "38    477\n",
       "35    474\n",
       "36    456\n",
       "34    447\n",
       "     ... \n",
       "92      2\n",
       "88      1\n",
       "82      1\n",
       "85      1\n",
       "83      1\n",
       "Name: age, Length: 70, dtype: int64"
      ]
     },
     "metadata": {},
     "output_type": "display_data"
    },
    {
     "name": "stdout",
     "output_type": "stream",
     "text": [
      "********************\n"
     ]
    },
    {
     "data": {
      "text/plain": [
       "2     1048\n",
       "1     1035\n",
       "7     1028\n",
       "8     1025\n",
       "5     1012\n",
       "3     1009\n",
       "4      989\n",
       "9      984\n",
       "6      967\n",
       "10     490\n",
       "0      413\n",
       "Name: objects, dtype: int64"
      ]
     },
     "metadata": {},
     "output_type": "display_data"
    },
    {
     "name": "stdout",
     "output_type": "stream",
     "text": [
      "********************\n"
     ]
    },
    {
     "data": {
      "text/plain": [
       "105473.74    2\n",
       "130170.82    2\n",
       "97819.36     1\n",
       "120782.70    1\n",
       "119703.10    1\n",
       "            ..\n",
       "117199.80    1\n",
       "183555.24    1\n",
       "137648.41    1\n",
       "112689.95    1\n",
       "99141.86     1\n",
       "Name: balance, Length: 6381, dtype: int64"
      ]
     },
     "metadata": {},
     "output_type": "display_data"
    },
    {
     "name": "stdout",
     "output_type": "stream",
     "text": [
      "********************\n"
     ]
    },
    {
     "data": {
      "text/plain": [
       "1    5084\n",
       "2    4590\n",
       "3     266\n",
       "4      60\n",
       "Name: products, dtype: int64"
      ]
     },
     "metadata": {},
     "output_type": "display_data"
    },
    {
     "name": "stdout",
     "output_type": "stream",
     "text": [
      "********************\n"
     ]
    },
    {
     "data": {
      "text/plain": [
       "1    5151\n",
       "0    4849\n",
       "Name: loyalty, dtype: int64"
      ]
     },
     "metadata": {},
     "output_type": "display_data"
    },
    {
     "name": "stdout",
     "output_type": "stream",
     "text": [
      "********************\n"
     ]
    },
    {
     "data": {
      "text/plain": [
       "0    7963\n",
       "1    2037\n",
       "Name: churn, dtype: int64"
      ]
     },
     "metadata": {},
     "output_type": "display_data"
    },
    {
     "name": "stdout",
     "output_type": "stream",
     "text": [
      "********************\n"
     ]
    },
    {
     "ename": "ValueError",
     "evalue": "Length mismatch: Expected axis has 12 elements, new values have 10000 elements",
     "output_type": "error",
     "traceback": [
      "\u001b[1;31m---------------------------------------------------------------------------\u001b[0m",
      "\u001b[1;31mValueError\u001b[0m                                Traceback (most recent call last)",
      "\u001b[1;32m~\\AppData\\Local\\Temp/ipykernel_12372/101428046.py\u001b[0m in \u001b[0;36m<module>\u001b[1;34m\u001b[0m\n\u001b[0;32m     20\u001b[0m     \u001b[1;32mreturn\u001b[0m \u001b[0mdf\u001b[0m\u001b[1;33m\u001b[0m\u001b[1;33m\u001b[0m\u001b[0m\n\u001b[0;32m     21\u001b[0m \u001b[1;33m\u001b[0m\u001b[0m\n\u001b[1;32m---> 22\u001b[1;33m \u001b[0mbank_data\u001b[0m\u001b[1;33m.\u001b[0m\u001b[0mcolumns\u001b[0m \u001b[1;33m=\u001b[0m \u001b[0minspect\u001b[0m\u001b[1;33m(\u001b[0m\u001b[0mbank_data\u001b[0m\u001b[1;33m)\u001b[0m\u001b[1;33m\u001b[0m\u001b[1;33m\u001b[0m\u001b[0m\n\u001b[0m\u001b[0;32m     23\u001b[0m \u001b[1;33m\u001b[0m\u001b[0m\n",
      "\u001b[1;32m~\\anaconda3\\envs\\praktikum_env_win_new\\lib\\site-packages\\pandas\\core\\generic.py\u001b[0m in \u001b[0;36m__setattr__\u001b[1;34m(self, name, value)\u001b[0m\n\u001b[0;32m   5190\u001b[0m         \u001b[1;32mtry\u001b[0m\u001b[1;33m:\u001b[0m\u001b[1;33m\u001b[0m\u001b[1;33m\u001b[0m\u001b[0m\n\u001b[0;32m   5191\u001b[0m             \u001b[0mobject\u001b[0m\u001b[1;33m.\u001b[0m\u001b[0m__getattribute__\u001b[0m\u001b[1;33m(\u001b[0m\u001b[0mself\u001b[0m\u001b[1;33m,\u001b[0m \u001b[0mname\u001b[0m\u001b[1;33m)\u001b[0m\u001b[1;33m\u001b[0m\u001b[1;33m\u001b[0m\u001b[0m\n\u001b[1;32m-> 5192\u001b[1;33m             \u001b[1;32mreturn\u001b[0m \u001b[0mobject\u001b[0m\u001b[1;33m.\u001b[0m\u001b[0m__setattr__\u001b[0m\u001b[1;33m(\u001b[0m\u001b[0mself\u001b[0m\u001b[1;33m,\u001b[0m \u001b[0mname\u001b[0m\u001b[1;33m,\u001b[0m \u001b[0mvalue\u001b[0m\u001b[1;33m)\u001b[0m\u001b[1;33m\u001b[0m\u001b[1;33m\u001b[0m\u001b[0m\n\u001b[0m\u001b[0;32m   5193\u001b[0m         \u001b[1;32mexcept\u001b[0m \u001b[0mAttributeError\u001b[0m\u001b[1;33m:\u001b[0m\u001b[1;33m\u001b[0m\u001b[1;33m\u001b[0m\u001b[0m\n\u001b[0;32m   5194\u001b[0m             \u001b[1;32mpass\u001b[0m\u001b[1;33m\u001b[0m\u001b[1;33m\u001b[0m\u001b[0m\n",
      "\u001b[1;32mpandas\\_libs\\properties.pyx\u001b[0m in \u001b[0;36mpandas._libs.properties.AxisProperty.__set__\u001b[1;34m()\u001b[0m\n",
      "\u001b[1;32m~\\anaconda3\\envs\\praktikum_env_win_new\\lib\\site-packages\\pandas\\core\\generic.py\u001b[0m in \u001b[0;36m_set_axis\u001b[1;34m(self, axis, labels)\u001b[0m\n\u001b[0;32m    688\u001b[0m \u001b[1;33m\u001b[0m\u001b[0m\n\u001b[0;32m    689\u001b[0m     \u001b[1;32mdef\u001b[0m \u001b[0m_set_axis\u001b[0m\u001b[1;33m(\u001b[0m\u001b[0mself\u001b[0m\u001b[1;33m,\u001b[0m \u001b[0maxis\u001b[0m\u001b[1;33m,\u001b[0m \u001b[0mlabels\u001b[0m\u001b[1;33m)\u001b[0m\u001b[1;33m:\u001b[0m\u001b[1;33m\u001b[0m\u001b[1;33m\u001b[0m\u001b[0m\n\u001b[1;32m--> 690\u001b[1;33m         \u001b[0mself\u001b[0m\u001b[1;33m.\u001b[0m\u001b[0m_data\u001b[0m\u001b[1;33m.\u001b[0m\u001b[0mset_axis\u001b[0m\u001b[1;33m(\u001b[0m\u001b[0maxis\u001b[0m\u001b[1;33m,\u001b[0m \u001b[0mlabels\u001b[0m\u001b[1;33m)\u001b[0m\u001b[1;33m\u001b[0m\u001b[1;33m\u001b[0m\u001b[0m\n\u001b[0m\u001b[0;32m    691\u001b[0m         \u001b[0mself\u001b[0m\u001b[1;33m.\u001b[0m\u001b[0m_clear_item_cache\u001b[0m\u001b[1;33m(\u001b[0m\u001b[1;33m)\u001b[0m\u001b[1;33m\u001b[0m\u001b[1;33m\u001b[0m\u001b[0m\n\u001b[0;32m    692\u001b[0m \u001b[1;33m\u001b[0m\u001b[0m\n",
      "\u001b[1;32m~\\anaconda3\\envs\\praktikum_env_win_new\\lib\\site-packages\\pandas\\core\\internals\\managers.py\u001b[0m in \u001b[0;36mset_axis\u001b[1;34m(self, axis, new_labels)\u001b[0m\n\u001b[0;32m    181\u001b[0m             raise ValueError(\n\u001b[0;32m    182\u001b[0m                 \u001b[1;34m\"Length mismatch: Expected axis has {old} elements, new \"\u001b[0m\u001b[1;33m\u001b[0m\u001b[1;33m\u001b[0m\u001b[0m\n\u001b[1;32m--> 183\u001b[1;33m                 \u001b[1;34m\"values have {new} elements\"\u001b[0m\u001b[1;33m.\u001b[0m\u001b[0mformat\u001b[0m\u001b[1;33m(\u001b[0m\u001b[0mold\u001b[0m\u001b[1;33m=\u001b[0m\u001b[0mold_len\u001b[0m\u001b[1;33m,\u001b[0m \u001b[0mnew\u001b[0m\u001b[1;33m=\u001b[0m\u001b[0mnew_len\u001b[0m\u001b[1;33m)\u001b[0m\u001b[1;33m\u001b[0m\u001b[1;33m\u001b[0m\u001b[0m\n\u001b[0m\u001b[0;32m    184\u001b[0m             )\n\u001b[0;32m    185\u001b[0m \u001b[1;33m\u001b[0m\u001b[0m\n",
      "\u001b[1;31mValueError\u001b[0m: Length mismatch: Expected axis has 12 elements, new values have 10000 elements"
     ]
    }
   ],
   "source": [
    "#изменим название колонок\n",
    "bank_data = bank_data.rename(columns= {\"CreditCard\": \"сredit_сard\"})\n",
    "\n",
    "#общая функция для предобработки, дат в нашем датасете нет, но я не удаляю эту часть\n",
    "def inspect(df):\n",
    "    display(df.head()) \n",
    "    df.info() \n",
    "    print ('Количество дубликатов -', df.duplicated().sum())\n",
    "    numeric_columns=df.describe().columns\n",
    "    display(df.describe())\n",
    "    display()\n",
    "    df.columns = [x.lower() for x in df.columns]\n",
    "    for column_name in df.columns:\n",
    "        if column_name not in numeric_columns:\n",
    "            if 'session' in column_name or 'dt' in column_name:\n",
    "                df[column_name] = pd.to_datetime(df[column_name])\n",
    "            else:\n",
    "                display(df[column_name].value_counts())\n",
    "                print(20*'*')\n",
    "    return df\n",
    "\n",
    "bank_data.columns = inspect(bank_data)\n",
    "\n"
   ]
  },
  {
   "cell_type": "markdown",
   "metadata": {},
   "source": [
    "Датасет содержит 12 колонок с записями о пользователях услуг банка с корректными типами данных. \n",
    "В колонке `userid`  - 10 000 уникальных идетификаторов пользователя, повторений нет.   \n",
    "Дубликатов нет.\n",
    "Всего в датасете 10 000 строк в каждом столбце, кроме столбца Balance, где 6 383 значений и есть пропуски.\n",
    "Проведем предварительную подготовку данных:\n",
    "1. Исследуем пропущенные значения, все они находятся в графе \"Баланс\", которая содержит информацию о балансе счета. Баланс дебитовый и не предполагает отрицательных значений.\n",
    "Добавим новый столбец, где сохраним группу с отсутствующим балансом, и исследуем средние значения параметров в этой группе\n"
   ]
  },
  {
   "cell_type": "code",
   "execution_count": null,
   "metadata": {
    "scrolled": true
   },
   "outputs": [],
   "source": [
    "bank_data['balance_nan'] = 1\n",
    "bank_data.loc[bank_data['balance'] >= 0, 'balance_nan'] = 0\n",
    "bank_data.groupby('balance_nan').mean()"
   ]
  },
  {
   "cell_type": "markdown",
   "metadata": {},
   "source": [
    "Из таблицы можно сделать вывод, что несколько причин, в том числе сбой системы хранения информации, но следует отметить особенность - у клиентов с неизвестным балансом гораздо меньше отток и больше число используемых продуктов при близких показателях лояльности.  \n",
    "Возможно, используемые продукты входят в обязательные при обслуживании таких карт. Так как баланс дебетовой карты остается нулевым, пока счет не пополнит сам клиент, его работодатель, партнер и т. д., то можно предположить зарплатный проект либо перевод поступающих денег автоматически на накопительный счет.  \n",
    "В таком случае клиенту действительно будет сложнее перейти в другой банк, как правило компаниям выгодно реализовывать зарплатные проекты, а на пополняемых вкладах закрытие счета раньше времени может привести к нарушению условий договора и списанию процентов.  \n",
    "Возможно изменение или на нули или на средние значения по городу/возрасту/полу. Я выбрала замену на нули, потому что достоверных данных о сбое в хранилище, в то время как деньги на сберегательном счете и деньги на дебетовой карте это все-таки не равноценно: последние можно тратить, получать кэшбек, а на первую группу начисляется равномерная и постоянная прибыль. В данных нет выделения важного параметра - наличия открытых сберегательных счетов или зарплатных проектов, хотя отток в таких группах точно будет меньше, если банк конкурентноспособен по отношению к остальным игрокам рынка."
   ]
  },
  {
   "cell_type": "code",
   "execution_count": null,
   "metadata": {
    "scrolled": true
   },
   "outputs": [],
   "source": [
    "#заменим пропуски на нули\n",
    "bank_data['balance'] = bank_data['balance'].fillna(0.0)\n",
    "#удалим id пользователей, все значения уникальны\n",
    "bank_data = bank_data.drop(columns=['userid'])"
   ]
  },
  {
   "cell_type": "code",
   "execution_count": null,
   "metadata": {
    "scrolled": true
   },
   "outputs": [],
   "source": [
    "bank_data.columns = inspect(bank_data)"
   ]
  },
  {
   "cell_type": "markdown",
   "metadata": {},
   "source": [
    "2. Рассмотрим подробнее выведенные данные: \n",
    "*`score` - в среднем скоринговый балл составляет 650,5 ед. При этом минимальный балл 350 ед, а максимальный 850 ед. Медиана и среднее близки (650,5 и 652,0 ед), значит распределение нормальное;  \n",
    "*`city` - клиенты из Ярославля, Ростова и Рыбинска;  \n",
    "*`gender` - мужчин и женщин примерно пополам (55 и 45 % соответственно);  \n",
    "*`age`  - средний возраст клиента 39 лет. Клиентом банка может быть только человек старше 18 лет, а максимальный возраст не ограничен, самому пожилому клиенту 92 года;  \n",
    "*`objects`  - в собственности клиента в среднем 5 объектов. Следует отметить, что наличие собственности не является обязательным условием, поэтому есть клиенты, не имеющие собственности. Максимальное число объектов в собственности 10 ед;  \n",
    "*`balance`  - счета клиентов дебетовые, поэтому минимально баланс может быть только нулевым, а максимальная сумма составляет 250 898,1 руб. В среднем, на счету клиента лежит около 76 485,9 руб;  \n",
    "*`creditcard`  - кредитная карта есть в среднем у 70% клиентов банка;  \n",
    "*`loyalty` - более половины клиентов лояльны и активны;  \n",
    "*`estimated_salary` - средняя заработная плата (прогнозная) составляет 100 090 руб, медиана примерно на том же уровне (100193), скорее всего, выбросов нет, распределение нормальное. Максимальная зарплата - 199 992,5 руб, минимальная - 11,6. Возможно, клиент ошибся при заполнении какой-либо анкеты с информацией о зарплате или савтоматический расчет для временно безработных и получающих пособие по безработице клиентов показал данный результат.  \n",
    "*`churn` - около 20% отток клиентов, 80% остались клиентами банка.\n",
    "Для признаков возраст, число объектов в собственности, баланс счета, наличие кредитной карты, лояльность, заработная плата, отток выборка более вариабельна, чем для кредитной оценке. Это логично, так как все клиенты составляют однородную группу, пройдя оценку как потенциальные потребители банковских услуг\n"
   ]
  },
  {
   "cell_type": "code",
   "execution_count": null,
   "metadata": {
    "scrolled": true
   },
   "outputs": [],
   "source": [
    "display(bank_data.groupby('churn').agg('mean').round(2))"
   ]
  },
  {
   "cell_type": "markdown",
   "metadata": {},
   "source": [
    "Можно отметить, что в среднем скоринговый балл у оставшихся клиентов выше, они моложе, число объектов в собственности у двух групп примерно одинаковое, но на балансе у удержанных клиентов средств меньше и они немного чаще пользуются продуктами банков, их лояльность заметно выше, чем у ушедших. При этом число владевших кредитными картами примерно одинаковое, в среднем 70%, различия в заработной плате не очень значительные."
   ]
  },
  {
   "cell_type": "markdown",
   "metadata": {},
   "source": [
    "### Вывод"
   ]
  },
  {
   "cell_type": "markdown",
   "metadata": {},
   "source": [
    "* >датасет содержит 12 колонок с записями о пользователях услуг банка, типы данных приведены корректно. В колонке userid - 10 000 уникальных идетификаторов пользователя, повторений нет;\n",
    "* >дубликатов нет;\n",
    "* >есть особенность - баланс дебетовый, при этом часть значений пропущена. Баланс может быть нулевым, так как не все продукты предполагают наличие дебетового счета.  Была реализаована замена пропущенных значений на нулевые;\n",
    "* >были отмечены нетипичные значения в области средней заработной платы. Выдвинуто предположение о возможном начислении пособия по безработице (некоторые выпадающие показатели близки к МРОТ), а также ошибках при заполнении анкеты.  \n",
    "Анализ данных позволил определить портрет клиента банка:\n",
    " \n",
    "\n",
    "В отношении оттока клиентов были отмечены следущие особенности (предварительно, по средним значениям относительно группы оставшихся клиентов):\n",
    "* >скоринговый балл клиентов из группы оттока ниже, они старше, реже пользуются услугами банка и их лояльность ниже. "
   ]
  },
  {
   "cell_type": "markdown",
   "metadata": {},
   "source": [
    "## Визуализация данных"
   ]
  },
  {
   "cell_type": "markdown",
   "metadata": {},
   "source": [
    "Построим столбчатые гистограммы и распределения признаков для тех, кто ушёл (отток) и тех, кто остался (не попали в отток):"
   ]
  },
  {
   "cell_type": "code",
   "execution_count": null,
   "metadata": {
    "scrolled": true
   },
   "outputs": [],
   "source": [
    "#отделяю бинарные переменные, внесла правки, избавившись от get_values()\n",
    "binary_columns = ['city', 'gender', 'сredit_сard', 'loyalty', 'churn']\n",
    "columns = bank_data.drop(columns=['churn', 'city', 'gender']).columns.to_numpy().tolist()"
   ]
  },
  {
   "cell_type": "code",
   "execution_count": null,
   "metadata": {
    "scrolled": true
   },
   "outputs": [],
   "source": [
    "#функция для построяния диаграмм\n",
    "def create_hist(df, columns):\n",
    "    for i in columns:\n",
    "        #Строим графики\n",
    "        if i not in binary_columns:\n",
    "            fig, (ax1, ax2) = plt.subplots(1,2,figsize=(14,5),gridspec_kw={'width_ratios': [2, 1]})\n",
    "            min_value = min(df[i])\n",
    "            max_value = max(df[i])\n",
    "            bins_range = np.linspace(min_value, max_value, 10) # список границ столбиков гистограмм\n",
    "            sns.distplot(bank_data.query('churn == 0')[columns], kde=False, ax=ax1, color=\"blue\", norm_hist=True, bins = bins_range)\n",
    "            sns.distplot(bank_data.query('churn == 1')[columns], kde=False, ax=ax1, color=\"red\", norm_hist=True, bins = bins_range)\n",
    "            #Зададим названия\n",
    "            ax1.set_title('Распределение признака {}'.format(i))\n",
    "            ax1.set_xlabel('Значение')\n",
    "            ax1.set_ylabel('Частота')\n",
    "            ax1.legend(labels=['Остались', 'Ушли'])\n",
    "            ax1.axvline(x=df[i].median(),   \n",
    "                linewidth=2,\n",
    "                color='red',\n",
    "                linestyle='--')\n",
    "            #линия 1 квантиля\n",
    "            ax1.axvline(x=df[i].quantile(.025),   \n",
    "                linewidth=3, \n",
    "                color='b', \n",
    "                linestyle='--')\n",
    "            #линия 2 квантиля\n",
    "            ax1.axvline(x=df[i].quantile(.05),   \n",
    "                linewidth=3, \n",
    "                color='b', \n",
    "                linestyle='--')\n",
    "            #Линия 3 квантиля\n",
    "            ax1.axvline(x=df[i].quantile(.75),\n",
    "                linewidth=3, \n",
    "                color='b', \n",
    "                linestyle='--')\n",
    "            \n",
    "            #ящик с усами\n",
    "            sns.boxplot(y=i, x='churn', data=df, ax=ax2, palette=\"coolwarm\")\n",
    "            sns.stripplot(y=i, x='churn', data=df, jitter=True, zorder=1, color='#7cc3f2', ax=ax2, size=2,alpha=0.2)\n",
    "\n",
    "            ax2.set_title(\"Boxplot для признака {}\".format(i))\n",
    "            ax2.set_xlabel('Отток')\n",
    "            ax2.set_ylabel('Признак {}'.format(i))\n",
    "            ax2.legend(labels=['Остались', 'Ушли'])\n",
    "        \n",
    "        else:\n",
    "            fig, ax = plt.subplots(2, 2, figsize=(20, 15))\n",
    "            for variable, subplot in zip(binary_columns, ax.flatten()):\n",
    "                sns.countplot(data=bank_data, x=variable, hue='churn', ax=subplot)\n",
    "                subplot.set_ylabel('Количество')\n",
    "                subplot.set_xlabel('Признак {}'.format(variable))\n",
    "                subplot.legend(labels=['Остались', 'Ушли'])\n",
    "                for label in subplot.get_xticklabels():\n",
    "                    label.set_rotation(45)   \n",
    "\n",
    "        plt.grid()\n",
    "        plt.show()  "
   ]
  },
  {
   "cell_type": "code",
   "execution_count": null,
   "metadata": {
    "scrolled": true
   },
   "outputs": [],
   "source": [
    "create_hist(bank_data, columns)"
   ]
  },
  {
   "cell_type": "markdown",
   "metadata": {},
   "source": [
    "* >датасет содержит 12 колонок с записями о пользователях услуг банка, типы данных приведены корректно. В колонке userid - 10 000 уникальных идетификаторов пользователя, повторений нет;\n",
    "* >дубликатов нет;\n",
    "* >есть особенность - баланс дебетовый, при этом часть значений пропущена. Баланс может быть нулевым, так как не все продукты предполагают наличие дебетового счета.  Была реализаована замена пропущенных значений на нулевые;\n",
    "* >были отмечены нетипичные значения в области средней заработной платы. Выдвинуто предположение о возможном начислении пособия по безработице (некоторые выпадающие показатели близки к МРОТ), а также ошибках при заполнении анкеты.  \n",
    "\n",
    "Согласно представленным графическим данным:\n",
    "* >баллы кредитного скоринга, возраст и баланс имеют распределение, близкое к нормальному;\n",
    "* >распределение данных по балансу искажено внесенными изменениями (нулями)\n",
    "\n",
    "Анализ данных позволил определить портрет типового клиента банка и особенности в группах оттока и удержания:\n",
    "* >скоринговый балл потребителя услуг банка ~650, скоринговый балл клиентов из группы оттока ниже, ~645 баллам;\n",
    "* >наиболее часто клиенты банка из Рыбинска. Среди клиентов из Ростова большее число выбивших;\n",
    "* >распределение по половому признаку почти равнодолевое, как среди оттока, так и среди удержанных;\n",
    "* >средний возраст клиента банка 39 лет, в группе оттока преобладают клиенты страше, ~45 лет;\n",
    "* >средний доход клиента банка более 100 тыс руб, доход клиентов из группы оттока около 101 тыс руб;\n",
    "* >среднее число потребляемых продуктов на клиента составляет около 1-2 услуги. Условно можно разделить клиентов на две группы: те, который используют одну услугу и те, которые выбирают сразу несколько;\n",
    "* >клиенты банка в большей степени лояльны к нему. При этом в группе оттока ярко выражена сниженная лояльность;\n",
    "* >типичный клиент банка предпочитает использовать кредитную карту. Это характерно для обеих групп.\n",
    "\n",
    "Рассмотрим тепловую карту корреляции:"
   ]
  },
  {
   "cell_type": "code",
   "execution_count": null,
   "metadata": {
    "scrolled": false
   },
   "outputs": [],
   "source": [
    "#изменим качественные переменные для анализа\n",
    "bank_data_corr = bank_data.copy()\n",
    "bank_data_corr['city'] = bank_data_corr['city']\n",
    "bank_data_corr['gender'] = bank_data_corr['gender']\n",
    "bank_data_corr = pd.get_dummies(bank_data_corr, columns=['gender','city'])\n",
    "\n",
    "#тепловая карта корреляции\n",
    "fig, ax = plt.subplots(figsize=(10,10))\n",
    "heatmap = sns.heatmap(bank_data_corr.corr().round(2), vmin=-1, vmax=1, annot=True, cmap='BrBG')\n",
    "\n",
    "# Дайте тепловой карте название. Параметр pad (padding) определяет расстояние заголовка от верхней части тепловой карты. \n",
    "heatmap.set_title('Корреляция', fontdict={'fontsize':12}, pad=12);"
   ]
  },
  {
   "cell_type": "code",
   "execution_count": null,
   "metadata": {
    "scrolled": false
   },
   "outputs": [],
   "source": [
    "plt.figure(figsize=(8, 12))\n",
    "heatmap = sns.heatmap(bank_data_corr.corr()[['churn']].sort_values(by='churn', ascending=False), vmin=-1, vmax=1, annot=True, cmap='BrBG')\n",
    "\n",
    "heatmap.set_title('Особенности Корреляция с оттоком', fontdict={'fontsize':18}, pad=16);"
   ]
  },
  {
   "cell_type": "markdown",
   "metadata": {},
   "source": [
    "* >заметная отрицательная корреляция между признаками лояльности и числа используемых продуктов. Чем ни больше клиент проявляется активность, а его лояльность выше и чем ни чаще он покупает дополнительные продукты, тем меньше вероятность оттока. Также меньше вероятность оттока у клиентов из Рыбинска, Ярославля. \n",
    "* >положительная корреляция наблюдается между показателями возраста, городом и балансом - чем ни старше клиент и чем ни меньше средств на его балансе, тем больше вероятность оттока. Аналогично увеличивается вероятность оттока, если клиент из Ростова Великого.\n",
    "* > о влиянии показателя дохода можно предварительно сказать, что прямой и сильной взаимосвязи между показателями дохода и отока нет.  "
   ]
  },
  {
   "cell_type": "markdown",
   "metadata": {},
   "source": [
    "### Вывод"
   ]
  },
  {
   "cell_type": "markdown",
   "metadata": {},
   "source": [
    "* >существует тесная взаимосвязь между оттоком и признаками лояльности и числом используемых продуктов. Чем ни больше клиент проявляется активность, а его лояльность выше и чем ни чаще он покупает дополнительные продукты, тем меньше вероятность оттока.\n",
    "Кроме того, положительная корреляция наблюдается между показателями возраста и баланса - чем ни старше клиент и чем ни меньше средств на его балансе, тем больше вероятность оттока.\n",
    "* > следует обратить внимание на отток клиентов с нулевым балансом из Ростова Великого;\n",
    "* > предварительный портрет типового клиента показал, что наиболее активными клиентами банка являются мужчины из Ярославля, с высокой лояльностью, использующие дополнительные продукты, с ненулевым балансом."
   ]
  },
  {
   "cell_type": "markdown",
   "metadata": {},
   "source": [
    "## Кластеризация клиентов"
   ]
  },
  {
   "cell_type": "markdown",
   "metadata": {},
   "source": [
    "Для кластеризации выполним ряд действий:\n",
    "\n",
    "1. Стандартизируем данные.\n",
    "2. Построим матрицу расстояний функцией linkage() на стандартизованной матрице признаков и нарисуем дендрограмму.\n",
    "3. Обучим модель кластеризации на основании алгоритма K-Means и спрогнозируем кластеры клиентов. "
   ]
  },
  {
   "cell_type": "code",
   "execution_count": null,
   "metadata": {
    "scrolled": false
   },
   "outputs": [],
   "source": [
    "bank_data_cluster = bank_data_corr.copy()"
   ]
  },
  {
   "cell_type": "code",
   "execution_count": null,
   "metadata": {
    "scrolled": false
   },
   "outputs": [],
   "source": [
    "from sklearn.cluster import KMeans\n",
    "from scipy.cluster.hierarchy import dendrogram, linkage \n",
    "\n",
    "# обязательная стандартизация данных перед работой с алгоритмами\n",
    "sc = StandardScaler()\n",
    "X_sc = sc.fit_transform(bank_data_cluster)\n",
    "\n",
    "linked = linkage(X_sc, method = 'ward') \n",
    "\n",
    "plt.figure(figsize=(15, 10))  \n",
    "dendrogram(linked, orientation='top')\n",
    "plt.title('Hierarchial clustering for banki')\n",
    "plt.show() "
   ]
  },
  {
   "cell_type": "markdown",
   "metadata": {},
   "source": [
    "Предлагается разбить данные на 4 более равномерных кластера."
   ]
  },
  {
   "cell_type": "code",
   "execution_count": null,
   "metadata": {
    "scrolled": false
   },
   "outputs": [],
   "source": [
    "km = KMeans(n_clusters=4, random_state=0) # задаём число кластеров, равное 4, и фиксируем значение random_state для воспроизводимости результата\n",
    "labels = km.fit_predict(X_sc) # применяем алгоритм к данным и формируем вектор кластеров "
   ]
  },
  {
   "cell_type": "markdown",
   "metadata": {},
   "source": [
    "Посмотрим на средние значения признаков:"
   ]
  },
  {
   "cell_type": "code",
   "execution_count": null,
   "metadata": {
    "scrolled": false
   },
   "outputs": [],
   "source": [
    "# сохраняем метки кластера в поле нашего датасета\n",
    "bank_data_cluster['cluster_km'] = labels\n",
    "\n",
    "# выводим статистику по средним значениям наших признаков по кластеру\n",
    "clusters = bank_data_cluster.groupby('cluster_km').mean().round(3)\n",
    "clusters "
   ]
  },
  {
   "cell_type": "markdown",
   "metadata": {},
   "source": [
    " Основные закономерности в кластерах (средние):\n",
    "* > кластеры соответствуют городам: кластер 3 с наибольшим оттоком распределен в Ростове Великом, где предварительно уже была установлена наибольшая активность оттока, а кластеры с меньшим оттоком, 0-2, в Ярославле и Рыбинске.\n",
    "* >кластер 0. Скоринговый балл 651,3, возраст около 39 лет, в собственности около 5 объектов, на балансе более 61 тыс руб, лояльность выше среднего, число используемых продуктов 1,54 шт, кредитные карты есть у 69,5% клиентов, лояльны 53% клиентов, заработная плата более 99 тыс руб, мужчин 56%, отток 16,7%, город Рыбинск;\n",
    "* >кластер 1. Клиенты кластера из г. Ярославль, скоринговый балл меньше, чем у 0 кластера, (649 баллов), эта группа клиентов немного младше (38 лет), на балансе более 60 тыс руб. В этом кластере потребляется большее число дополнительных продуктов лояльность 51,4%, отток 20,3%, все клиенты указанного сегмента - женщины;\n",
    "* >кластер 2. Потребители этого сегмента из Ярославля, все мужчины. Как видим, отток указанного кластера меньше, чеи у близкого к нему кластера 1 с другим гендером и составляет всего 12,7%. Объем потребляемых услуг заметно ниже, но при этом лояльность чуть выше, чем у кластера 1;\n",
    "* >кластер 3. Отток этого кластера максимален, 32,4%. Все клиенты сегмента из Ростова Великого, гендерное соотношение почти равное, лояльность заметно ниже, чем в других группах (49,7%).  \n",
    "Построим распределение признаков для кластеров:"
   ]
  },
  {
   "cell_type": "code",
   "execution_count": null,
   "metadata": {},
   "outputs": [],
   "source": [
    "import itertools\n",
    "\n",
    "# определим функцию отрисовки графиков попарных признаков для кластеров\n",
    "def show_clusters_on_plot(df, x_name, y_name, cluster_name):\n",
    "    plt.figure(figsize=(5, 5))\n",
    "    sns.scatterplot(\n",
    "        df[x_name], df[y_name], hue=df[cluster_name], palette='Paired'\n",
    "    )\n",
    "    plt.ylabel('Частота')\n",
    "    plt.title('{} vs {}'.format(x_name, y_name))\n",
    "    plt.show()\n",
    "\n",
    "# отрисуем графики для попарных сочетаний признаков с разметкой по кластерам\n",
    "col_pairs = list(itertools.combinations(bank_data_cluster.drop('cluster_km', axis=1).columns, 2))\n",
    "for pair in col_pairs:\n",
    "    show_clusters_on_plot(bank_data_cluster, pair[0], pair[1], 'cluster_km')"
   ]
  },
  {
   "cell_type": "markdown",
   "metadata": {},
   "source": [
    "Построим модель прогнозирования отока:"
   ]
  },
  {
   "cell_type": "code",
   "execution_count": null,
   "metadata": {},
   "outputs": [],
   "source": [
    "# разделим наши данные на признаки (матрица X) и целевую переменную (y)\n",
    "X = bank_data_cluster.drop(columns=['churn'])\n",
    "y = bank_data_cluster['churn']\n",
    "stratify = y\n",
    "\n",
    "# разделяем модель на обучающую и валидационную выборку\n",
    "X_train, X_test, y_train, y_test = train_test_split(X, y, test_size=0.2, random_state=0)"
   ]
  },
  {
   "cell_type": "markdown",
   "metadata": {},
   "source": [
    "Обучим модель на train-выборке двумя способами:\n",
    "\n",
    "* логистической регрессией,\n",
    "* случайным лесом.  \n",
    "Оценим метрики accuracy, precision и recall для обеих моделей на валидационной выборке. Сравним по ним модели."
   ]
  },
  {
   "cell_type": "code",
   "execution_count": null,
   "metadata": {},
   "outputs": [],
   "source": [
    "from sklearn.linear_model import LogisticRegression\n",
    "from sklearn.ensemble import RandomForestClassifier\n",
    "import matplotlib.pyplot as plt\n",
    "from sklearn.metrics import accuracy_score, precision_score, recall_score, roc_auc_score"
   ]
  },
  {
   "cell_type": "code",
   "execution_count": null,
   "metadata": {},
   "outputs": [],
   "source": [
    "# список моделей\n",
    "models = [\n",
    "    LogisticRegression(random_state=0),\n",
    "    RandomForestClassifier(random_state=0)\n",
    "]\n",
    "\n",
    "# функция, которая принимает на вход модель и данные и выводит метрики\n",
    "def make_prediction(m, X_train, y_train, X_test, y_test):\n",
    "    model = m\n",
    "    model.fit(X_train, y_train)\n",
    "    y_pred = model.predict(X_test)\n",
    "    print(\n",
    "        'Accuracy:{:.2f} Precision:{:.2f} Recall:{:.2f}'.format(\n",
    "            accuracy_score(y_test, y_pred),\n",
    "            precision_score(y_test, y_pred),\n",
    "            recall_score(y_test, y_pred),\n",
    "            roc_auc_score(y_test, y_pred)\n",
    "        )\n",
    "    )"
   ]
  },
  {
   "cell_type": "code",
   "execution_count": null,
   "metadata": {},
   "outputs": [],
   "source": [
    "# цикл, который выводит метрики по списку моделей\n",
    "for i in models:\n",
    "    print(i)\n",
    "    make_prediction(m=i, X_train=X_train, y_train=y_train,\n",
    "                    X_test=X_test, y_test=y_test)"
   ]
  },
  {
   "cell_type": "markdown",
   "metadata": {},
   "source": [
    "Метрика accuracy, которая описывает общую точность предсказания модели по всем классам, для случайного леса выше, как и точность и полнота. Accuracy высокая может быть обусловлена неравномерностью распределения данных об ушедших клиентах.Метрика recall более важна: может быть спрогнозировано наступление события \"пользователь останется\", но произойдет отток (события становятся практически равновероятностыми). Несмотря на то, что и эта метрика в модели случайного леса намного выше, этого недостаточно для практического применения модели. Возможно повышение точности модели при использовании более качественных данных."
   ]
  },
  {
   "cell_type": "markdown",
   "metadata": {},
   "source": [
    "### Вывод"
   ]
  },
  {
   "cell_type": "markdown",
   "metadata": {},
   "source": [
    "Рекомендуется обратить внимание на два кластера:\n",
    "\n",
    "* >  кластер 1. Отмечено, что клиенты указанного сегмента только женщины, они немного младше (38 лет), отток 20,3%, возможно, следует оптимизировать предложения для женщин. Например, выпустить дебетовые карты с кэшбеком за покупки в магазинах, их, как правило, чаще совершают женщины. Обратить внимание на пенсионные предложения, не смотря на молодой средний возраст группы - средняя продолжительность жизни в гендере выше и женщины чаще склонны задумываться о прибыльности пенсионных накоплений;\n",
    "\n",
    "* > кластер 3. Отток этого кластера максимален, 32,4%. Все влиенты сегмента из Ростова Валикого, предлагается организовать региональные акции для повышения лояльности кластера."
   ]
  },
  {
   "cell_type": "markdown",
   "metadata": {},
   "source": [
    "### Проверка гипотез"
   ]
  },
  {
   "cell_type": "markdown",
   "metadata": {},
   "source": [
    "Гипотеза различия среднего дохода в экспериментальных групп клиентов банка по числу используемых услуг:\n",
    "\n",
    "* Н0 - различия среднего дохода между экспериментальными группами клиентов банка которые пользуются двумя и более продуктами банка, и теми, которые пользуются одним, статистически не значимы\n",
    "* Н1 - различия среднего дохода между экспериментальными группами клиентов банка которые пользуются двумя и более продуктами банка, и теми, которые пользуются одним, статистически, статистически значимы \n",
    "Гипотеза относительно представленных данных."
   ]
  },
  {
   "cell_type": "code",
   "execution_count": null,
   "metadata": {},
   "outputs": [],
   "source": [
    "#рассмотрим распределения\n",
    "fig, (ax1, ax2) = plt.subplots(1,2,figsize=(20,5))\n",
    "\n",
    "sns.distplot(bank_data_cluster.query('products == 1')['estimated_salary'], kde=False, ax=ax1)\n",
    "ax1.set_title(\"Распределение средних доходов клиентов c 1 продуктом\")\n",
    "ax1.set_ylabel('Частота')\n",
    "ax1.set_xlabel('Доход')\n",
    "\n",
    "sns.distplot(bank_data_cluster.query('products >= 2')['estimated_salary'], kde=False, ax=ax2)\n",
    "ax2.set_title(\"Распределение средних доходов клиентов с 2 и более продуктами\")\n",
    "ax2.set_ylabel('Частота')\n",
    "ax2.set_xlabel('Доход')\n",
    "\n",
    "plt.show()"
   ]
  },
  {
   "cell_type": "code",
   "execution_count": null,
   "metadata": {},
   "outputs": [],
   "source": [
    "alpha = .05\n",
    "\n",
    "from statsmodels.stats import weightstats as stests\n",
    "\n",
    "results = st.ttest_ind(\n",
    "    bank_data_cluster.query('products == 1')['estimated_salary'],\n",
    "    bank_data_cluster.query('products > 1')['estimated_salary'],\n",
    "    equal_var=False)\n",
    "\n",
    "print('p-значение:', results.pvalue.round(2))\n",
    "\n",
    "if (results.pvalue < alpha):\n",
    "    print(\"Отвергаем нулевую гипотезу\")\n",
    "else:\n",
    "    print(\"Не получилось отвергнуть нулевую гипотезу\")"
   ]
  },
  {
   "cell_type": "markdown",
   "metadata": {},
   "source": [
    "Дополнительно применим метод Манна-Уитни, проверив схожесть распределений.  \n",
    "Для нулевой гипотезы H0:  \n",
    "`Доходы клиентов, которые пользуются двумя и более  продуктами банка, и теми, которые пользуются одним, равны`\n",
    "Исходя из Н0 формулируется альтернативная гипотеза Н1:  \n",
    "`Доходы клиентов, которые пользуются двумя и более продуктами банка, и теми, которые пользуются одним, различаются`"
   ]
  },
  {
   "cell_type": "code",
   "execution_count": null,
   "metadata": {},
   "outputs": [],
   "source": [
    "alpha = 0.05\n",
    "\n",
    "results = st.mannwhitneyu(\n",
    "    bank_data.query('products == 1')['estimated_salary'], \n",
    "    bank_data.query('products == 2')['estimated_salary'], \n",
    "    alternative = 'two-sided')\n",
    "\n",
    "print('p-значение:', results.pvalue)\n",
    "\n",
    "if (results.pvalue < alpha):\n",
    "    print(\"Отвергаем нулевую гипотезу\")\n",
    "else:\n",
    "    print(\"Не получилось отвергнуть нулевую гипотезу\")"
   ]
  },
  {
   "cell_type": "markdown",
   "metadata": {},
   "source": [
    "Вывод: различия среднего дохода между экспериментальными группами клиентов банка использующих два и более продуктов статистически не значимы.  \n",
    "Проведем исследование взаимосвязи между оттоком клиентов и средним числом потребляемых услуг.\n",
    "Гипотеза различия дохода между экспериментальными группами клиентов банка по числу используемых услуг:\n",
    "Н0 - различия по среднему числу потребляемых продуктов, совершившими указанное событие (уход из банка, отток), статистически не значимы  \n",
    "Н1 - различия по среднему числу потребляемых продуктов, совершившими указанное событие (уход из банка, отток), статистически значимы  "
   ]
  },
  {
   "cell_type": "code",
   "execution_count": null,
   "metadata": {},
   "outputs": [],
   "source": [
    "#проверим распределения\n",
    "fig, (ax1, ax2) = plt.subplots(1,2,figsize=(20,5))\n",
    "\n",
    "sns.distplot(bank_data_cluster.query('products == 1')['churn'], kde=False, ax=ax1)\n",
    "ax1.set_title(\"Распределение оттока клиентов в среднем c 1 продуктом\")\n",
    "ax1.set_ylabel('Частота')\n",
    "ax1.set_xlabel('Доход')\n",
    "\n",
    "sns.distplot(bank_data_cluster.query('products >= 2')['churn'], kde=False, ax=ax2)\n",
    "ax2.set_title(\"Распределение оттока клиентов в среднем с 2 и более продуктами\")\n",
    "ax2.set_ylabel('Частота')\n",
    "ax2.set_xlabel('Доход')\n",
    "\n",
    "plt.show()"
   ]
  },
  {
   "cell_type": "code",
   "execution_count": null,
   "metadata": {},
   "outputs": [],
   "source": [
    "alpha = .05\n",
    "\n",
    "results, pvalue = stests.ztest(\n",
    "    bank_data.query('products == 1')['churn'], \n",
    "    x2=bank_data.query('products > 1')['churn'],\n",
    "    value = 0,\n",
    "    alternative='two-sided')\n",
    "\n",
    "print('p-значение:', float(pvalue))\n",
    "\n",
    "if (pvalue < alpha):\n",
    "    print(\"Отвергаем нулевую гипотезу\")\n",
    "else:\n",
    "    print(\"Не получилось отвергнуть нулевую гипотезу\")"
   ]
  },
  {
   "cell_type": "markdown",
   "metadata": {},
   "source": [
    "Отвергаем нулевую гипотезу: отток клиентов, которые в среднему пользуются двумя и более продуктами банка, и отток тех, которые пользуются одним, различаются."
   ]
  },
  {
   "cell_type": "markdown",
   "metadata": {},
   "source": [
    "## Выводы и рекомендации"
   ]
  },
  {
   "cell_type": "markdown",
   "metadata": {},
   "source": [
    "1. Выводы и рекомендации по группам клиентов с наибольшим оттоком:\n",
    "* основными факторами, влияющими на отток являются: географический (город), гендерный, лояльность, использование дополнительных услуг.  \n",
    "В разрезе кластеров, наиболее подверженных оттоку можно дать следующие рекомендации:\n",
    "* > для всех кластеров: мероприятия по повышению лояльности и числа используемых услуг.  \n",
    "*`система бонусов` - начисление бонусов за оплату картой, либо, если система уже активна, ее изменение. Также можно связать систему бонусов с программой лояльнсоти. В том числе, начислять бонусы за активность клиентов в социальных сетях в группах банка, формирование положительных отзывов на специализированных сайтах, банковских маркетплейсах (https://www.banki.ru/, например);\n",
    "*`формирование узнаваемого, близкого целевым сегментам имиджа` - большинству клиентов в возрастном сегменте клиентов банка наиболее близки семейные ценности и стабильность. Банк должен ассоциироваться с основными предпочтениями клиентов, его дизайн, слоган, рекламный контент соответствовать им;\n",
    "*`адресность предложений` -  на основе имеющихся данных о клиентских кластеров возможна отправка более индивидуальных предложений, направленных на конкретный целевой сегмент: например, региональные акции, кредитные предложения для кластеров с более низкими заработными платами в разрезе потребительских краткосрочных займов, предложения о долгосрочных вкладах для кластеров с большими суммами на счету и пр.\n",
    "* `повышение количества продаваемых продуктов и услуг на одного клиента` - выявлено, что с числом услуг растет и вероятность закрепления клиента. Рекомендуемыми акциями могут быть: начисление повышенных бонусов за использование дополнительных услуг, перекрестные продажи взаимовыгодных продуктов (вместе с услугой вклада с возможностью пополнения, например, услуга копилка, которая бы переводила закрепленную сумму ежемесячно);\n",
    "* > для отдельных кластеров:\n",
    "* `кластер 1` - основной фактор оттока гендерный. Отмечено, что клиенты указанного сегмента только женщины, они немного младше (38 лет), отток 20,3%, возможно, следует оптимизировать предложения для женщин.  \n",
    "Примерные мероприятия для удержания кластера:\n",
    "* выпустить дебетовые карты с кэшбеком за покупки в сетевых магазинах, их, как правило, чаще совершают женщины;\n",
    "* сформировать предложения услуг для женщин в декретном отпуске (кредитные предложения, дебетовые услуги обслуживания);\n",
    "* индивидуальные пенсионные предложения, не смотря на молодой средний возраст группы - средняя продолжительность жизни в гендере выше и женщины чаще склонны задумываться о прибыльности пенсионных накоплений.\n",
    "* `кластер 3` - отток этого кластера максимален, 32,4%. Все клиенты сегмента из Ростова Великого, предлагается организовать региональные акции для повышения лояльности кластера. Особое внимание требуется обратить на причины оттока и првести проверку качества обслуживания."
   ]
  },
  {
   "cell_type": "markdown",
   "metadata": {},
   "source": [
    "## Дашборд и презентация"
   ]
  },
  {
   "cell_type": "markdown",
   "metadata": {},
   "source": [
    "Ссылка на дашборд: https://public.tableau.com/app/profile/mariannmois/viz/_16535738693460/Dashboard1   \n",
    "Ссылка на презентацию: https://disk.yandex.ru/i/QXuJJIBhTjIpeQ"
   ]
  }
 ],
 "metadata": {
  "ExecuteTimeLog": [
   {
    "duration": 4397,
    "start_time": "2021-12-28T11:50:14.160Z"
   },
   {
    "duration": -14437952,
    "start_time": "2021-12-28T15:50:56.516Z"
   },
   {
    "duration": -14437959,
    "start_time": "2021-12-28T15:50:56.526Z"
   },
   {
    "duration": -14437960,
    "start_time": "2021-12-28T15:50:56.529Z"
   },
   {
    "duration": -14437964,
    "start_time": "2021-12-28T15:50:56.535Z"
   },
   {
    "duration": -14437972,
    "start_time": "2021-12-28T15:50:56.545Z"
   },
   {
    "duration": -14437972,
    "start_time": "2021-12-28T15:50:56.547Z"
   },
   {
    "duration": -14437975,
    "start_time": "2021-12-28T15:50:56.552Z"
   },
   {
    "duration": -14437984,
    "start_time": "2021-12-28T15:50:56.563Z"
   },
   {
    "duration": -14437991,
    "start_time": "2021-12-28T15:50:56.571Z"
   },
   {
    "duration": -14437996,
    "start_time": "2021-12-28T15:50:56.579Z"
   },
   {
    "duration": -14438000,
    "start_time": "2021-12-28T15:50:56.585Z"
   },
   {
    "duration": -14438001,
    "start_time": "2021-12-28T15:50:56.588Z"
   },
   {
    "duration": -14438002,
    "start_time": "2021-12-28T15:50:56.591Z"
   },
   {
    "duration": -14438003,
    "start_time": "2021-12-28T15:50:56.594Z"
   },
   {
    "duration": -14438004,
    "start_time": "2021-12-28T15:50:56.597Z"
   },
   {
    "duration": -14438004,
    "start_time": "2021-12-28T15:50:56.599Z"
   },
   {
    "duration": -14438007,
    "start_time": "2021-12-28T15:50:56.603Z"
   },
   {
    "duration": -14438014,
    "start_time": "2021-12-28T15:50:56.612Z"
   },
   {
    "duration": -14438017,
    "start_time": "2021-12-28T15:50:56.617Z"
   },
   {
    "duration": -14438016,
    "start_time": "2021-12-28T15:50:56.620Z"
   },
   {
    "duration": -14438018,
    "start_time": "2021-12-28T15:50:56.623Z"
   },
   {
    "duration": -14438019,
    "start_time": "2021-12-28T15:50:56.626Z"
   },
   {
    "duration": -14438026,
    "start_time": "2021-12-28T15:50:56.634Z"
   },
   {
    "duration": -14438028,
    "start_time": "2021-12-28T15:50:56.637Z"
   },
   {
    "duration": -14437978,
    "start_time": "2021-12-28T15:50:56.640Z"
   },
   {
    "duration": -14437979,
    "start_time": "2021-12-28T15:50:56.643Z"
   },
   {
    "duration": -14437981,
    "start_time": "2021-12-28T15:50:56.646Z"
   },
   {
    "duration": -14437982,
    "start_time": "2021-12-28T15:50:56.649Z"
   },
   {
    "duration": 226,
    "start_time": "2021-12-28T11:51:19.239Z"
   },
   {
    "duration": 1358,
    "start_time": "2021-12-28T11:51:26.472Z"
   },
   {
    "duration": 104,
    "start_time": "2021-12-28T11:51:27.833Z"
   },
   {
    "duration": 946,
    "start_time": "2021-12-28T11:51:27.940Z"
   },
   {
    "duration": 22,
    "start_time": "2021-12-28T11:51:28.904Z"
   },
   {
    "duration": 477,
    "start_time": "2021-12-28T11:51:28.943Z"
   },
   {
    "duration": 493,
    "start_time": "2021-12-28T11:51:29.422Z"
   },
   {
    "duration": 478,
    "start_time": "2021-12-28T11:51:29.918Z"
   },
   {
    "duration": 533,
    "start_time": "2021-12-28T11:51:30.401Z"
   },
   {
    "duration": 440,
    "start_time": "2021-12-28T11:51:30.938Z"
   },
   {
    "duration": 364,
    "start_time": "2021-12-28T11:51:31.381Z"
   },
   {
    "duration": 486,
    "start_time": "2021-12-28T11:51:31.748Z"
   },
   {
    "duration": 475,
    "start_time": "2021-12-28T11:51:32.237Z"
   },
   {
    "duration": 242,
    "start_time": "2021-12-28T11:51:32.715Z"
   },
   {
    "duration": 53,
    "start_time": "2021-12-28T11:51:32.959Z"
   },
   {
    "duration": 66,
    "start_time": "2021-12-28T11:51:33.015Z"
   },
   {
    "duration": 427,
    "start_time": "2021-12-28T11:51:33.083Z"
   },
   {
    "duration": 366,
    "start_time": "2021-12-28T11:51:33.513Z"
   },
   {
    "duration": 344,
    "start_time": "2021-12-28T11:51:33.882Z"
   },
   {
    "duration": 353,
    "start_time": "2021-12-28T11:51:34.229Z"
   },
   {
    "duration": 31,
    "start_time": "2021-12-28T11:51:34.585Z"
   },
   {
    "duration": 53,
    "start_time": "2021-12-28T11:51:34.618Z"
   },
   {
    "duration": 402,
    "start_time": "2021-12-28T11:51:34.673Z"
   },
   {
    "duration": 1822,
    "start_time": "2021-12-28T11:51:35.080Z"
   },
   {
    "duration": 393,
    "start_time": "2021-12-28T11:51:36.904Z"
   },
   {
    "duration": 296,
    "start_time": "2021-12-28T11:51:37.300Z"
   },
   {
    "duration": 509,
    "start_time": "2021-12-28T11:51:37.599Z"
   },
   {
    "duration": 363,
    "start_time": "2021-12-28T11:51:38.111Z"
   },
   {
    "duration": 377,
    "start_time": "2021-12-28T11:51:38.477Z"
   },
   {
    "duration": 532,
    "start_time": "2021-12-28T11:51:38.857Z"
   },
   {
    "duration": 21,
    "start_time": "2021-12-28T11:56:50.551Z"
   },
   {
    "duration": 1187,
    "start_time": "2021-12-28T12:09:53.310Z"
   },
   {
    "duration": 184,
    "start_time": "2021-12-28T12:09:54.500Z"
   },
   {
    "duration": 100,
    "start_time": "2021-12-28T12:09:54.686Z"
   },
   {
    "duration": 1076,
    "start_time": "2021-12-28T12:09:54.788Z"
   },
   {
    "duration": 6,
    "start_time": "2021-12-28T12:09:55.866Z"
   },
   {
    "duration": 457,
    "start_time": "2021-12-28T12:09:55.875Z"
   },
   {
    "duration": 470,
    "start_time": "2021-12-28T12:09:56.335Z"
   },
   {
    "duration": 472,
    "start_time": "2021-12-28T12:09:56.808Z"
   },
   {
    "duration": 515,
    "start_time": "2021-12-28T12:09:57.283Z"
   },
   {
    "duration": 341,
    "start_time": "2021-12-28T12:09:57.800Z"
   },
   {
    "duration": 351,
    "start_time": "2021-12-28T12:09:58.143Z"
   },
   {
    "duration": 489,
    "start_time": "2021-12-28T12:09:58.496Z"
   },
   {
    "duration": 484,
    "start_time": "2021-12-28T12:09:58.987Z"
   },
   {
    "duration": 273,
    "start_time": "2021-12-28T12:09:59.474Z"
   },
   {
    "duration": 61,
    "start_time": "2021-12-28T12:09:59.750Z"
   },
   {
    "duration": 54,
    "start_time": "2021-12-28T12:09:59.814Z"
   },
   {
    "duration": 338,
    "start_time": "2021-12-28T12:09:59.870Z"
   },
   {
    "duration": 383,
    "start_time": "2021-12-28T12:10:00.211Z"
   },
   {
    "duration": 373,
    "start_time": "2021-12-28T12:10:00.597Z"
   },
   {
    "duration": 362,
    "start_time": "2021-12-28T12:10:00.974Z"
   },
   {
    "duration": 40,
    "start_time": "2021-12-28T12:10:01.338Z"
   },
   {
    "duration": 22,
    "start_time": "2021-12-28T12:10:01.380Z"
   },
   {
    "duration": 346,
    "start_time": "2021-12-28T12:10:01.406Z"
   },
   {
    "duration": 1878,
    "start_time": "2021-12-28T12:10:01.755Z"
   },
   {
    "duration": 494,
    "start_time": "2021-12-28T12:10:03.635Z"
   },
   {
    "duration": 368,
    "start_time": "2021-12-28T12:10:04.131Z"
   },
   {
    "duration": 457,
    "start_time": "2021-12-28T12:10:04.502Z"
   },
   {
    "duration": 359,
    "start_time": "2021-12-28T12:10:04.963Z"
   },
   {
    "duration": 361,
    "start_time": "2021-12-28T12:10:05.326Z"
   },
   {
    "duration": 353,
    "start_time": "2021-12-28T12:10:05.690Z"
   },
   {
    "duration": 326,
    "start_time": "2021-12-28T12:29:30.111Z"
   },
   {
    "duration": 1816,
    "start_time": "2022-05-27T07:52:07.325Z"
   },
   {
    "duration": 5506,
    "start_time": "2022-05-27T07:52:09.144Z"
   },
   {
    "duration": 168,
    "start_time": "2022-05-27T07:52:14.653Z"
   },
   {
    "duration": 276,
    "start_time": "2022-05-27T07:52:14.824Z"
   },
   {
    "duration": 5,
    "start_time": "2022-05-27T07:53:04.359Z"
   },
   {
    "duration": 92,
    "start_time": "2022-05-27T07:53:09.477Z"
   },
   {
    "duration": 280,
    "start_time": "2022-05-27T07:53:09.999Z"
   },
   {
    "duration": 63,
    "start_time": "2022-05-27T07:54:00.638Z"
   },
   {
    "duration": 27,
    "start_time": "2022-05-27T07:54:05.654Z"
   },
   {
    "duration": 11,
    "start_time": "2022-05-27T07:54:09.235Z"
   },
   {
    "duration": 2899,
    "start_time": "2022-05-27T07:54:09.770Z"
   },
   {
    "duration": 464,
    "start_time": "2022-05-27T07:54:12.671Z"
   },
   {
    "duration": 5,
    "start_time": "2022-05-27T07:54:13.735Z"
   },
   {
    "duration": 4752,
    "start_time": "2022-05-27T07:54:14.080Z"
   },
   {
    "duration": 142,
    "start_time": "2022-05-27T07:54:18.835Z"
   },
   {
    "duration": 366,
    "start_time": "2022-05-27T07:54:18.980Z"
   },
   {
    "duration": 0,
    "start_time": "2022-05-27T07:54:19.348Z"
   },
   {
    "duration": 0,
    "start_time": "2022-05-27T07:54:19.350Z"
   },
   {
    "duration": 0,
    "start_time": "2022-05-27T07:54:19.351Z"
   },
   {
    "duration": 0,
    "start_time": "2022-05-27T07:54:19.353Z"
   },
   {
    "duration": 0,
    "start_time": "2022-05-27T07:54:19.354Z"
   },
   {
    "duration": 6,
    "start_time": "2022-05-27T07:54:31.638Z"
   },
   {
    "duration": 100,
    "start_time": "2022-05-27T07:54:32.956Z"
   },
   {
    "duration": 17,
    "start_time": "2022-05-27T07:54:33.956Z"
   },
   {
    "duration": 20,
    "start_time": "2022-05-27T07:54:36.281Z"
   },
   {
    "duration": 9,
    "start_time": "2022-05-27T07:54:37.877Z"
   },
   {
    "duration": 96,
    "start_time": "2022-05-27T07:56:01.198Z"
   },
   {
    "duration": 45,
    "start_time": "2022-05-27T07:57:04.318Z"
   },
   {
    "duration": 43,
    "start_time": "2022-05-27T08:01:10.644Z"
   },
   {
    "duration": 125,
    "start_time": "2022-05-27T08:02:08.118Z"
   },
   {
    "duration": 39,
    "start_time": "2022-05-27T08:02:26.404Z"
   },
   {
    "duration": 31,
    "start_time": "2022-05-27T08:02:34.875Z"
   },
   {
    "duration": 34,
    "start_time": "2022-05-27T08:05:09.753Z"
   }
  ],
  "kernelspec": {
   "display_name": "Python 3 (ipykernel)",
   "language": "python",
   "name": "python3"
  },
  "language_info": {
   "codemirror_mode": {
    "name": "ipython",
    "version": 3
   },
   "file_extension": ".py",
   "mimetype": "text/x-python",
   "name": "python",
   "nbconvert_exporter": "python",
   "pygments_lexer": "ipython3",
   "version": "3.7.8"
  },
  "toc": {
   "base_numbering": 1,
   "nav_menu": {},
   "number_sections": true,
   "sideBar": true,
   "skip_h1_title": true,
   "title_cell": "Содержание",
   "title_sidebar": "Contents",
   "toc_cell": true,
   "toc_position": {
    "height": "calc(100% - 180px)",
    "left": "10px",
    "top": "150px",
    "width": "292.475px"
   },
   "toc_section_display": true,
   "toc_window_display": true
  }
 },
 "nbformat": 4,
 "nbformat_minor": 2
}
