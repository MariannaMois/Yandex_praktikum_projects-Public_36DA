{
 "cells": [
  {
   "cell_type": "markdown",
   "metadata": {
    "id": "E0vqbgi9ay0H"
   },
   "source": [
    "# Яндекс.Музыка"
   ]
  },
  {
   "cell_type": "markdown",
   "metadata": {
    "id": "VUC88oWjTJw2"
   },
   "source": [
    "Сравнение Москвы и Петербурга окружено мифами. Например:\n",
    " * Москва — мегаполис, подчинённый жёсткому ритму рабочей недели;\n",
    " * Петербург — культурная столица, со своими вкусами.\n",
    "\n",
    "На данных Яндекс.Музыки вы сравните поведение пользователей двух столиц.\n",
    "\n",
    "**Цель исследования** — проверьте три гипотезы:\n",
    "1. Активность пользователей зависит от дня недели. Причём в Москве и Петербурге это проявляется по-разному.\n",
    "2. В понедельник утром в Москве преобладают одни жанры, а в Петербурге — другие. Так же и вечером пятницы преобладают разные жанры — в зависимости от города. \n",
    "3. Москва и Петербург предпочитают разные жанры музыки. В Москве чаще слушают поп-музыку, в Петербурге — русский рэп.\n",
    "\n",
    "**Ход исследования**\n",
    "\n",
    "Данные о поведении пользователей вы получите из файла `yandex_music_project.csv`. О качестве данных ничего не известно. Поэтому перед проверкой гипотез понадобится обзор данных. \n",
    "\n",
    "Вы проверите данные на ошибки и оцените их влияние на исследование. Затем, на этапе предобработки вы поищете возможность исправить самые критичные ошибки данных.\n",
    " \n",
    "Таким образом, исследование пройдёт в три этапа:\n",
    " 1. Обзор данных.\n",
    " 2. Предобработка данных.\n",
    " 3. Проверка гипотез.\n",
    "\n"
   ]
  },
  {
   "cell_type": "markdown",
   "metadata": {
    "id": "Ml1hmfXC_Zcs"
   },
   "source": [
    "## Обзор данных\n",
    "\n",
    "Составьте первое представление о данных Яндекс.Музыки.\n",
    "\n",
    "\n"
   ]
  },
  {
   "cell_type": "markdown",
   "metadata": {
    "id": "57eAOGIz_Zcs"
   },
   "source": [
    "Основной инструмент аналитика — `pandas`. Импортируйте эту библиотеку."
   ]
  },
  {
   "cell_type": "code",
   "execution_count": 2,
   "metadata": {
    "id": "AXN7PHPN_Zcs"
   },
   "outputs": [
    {
     "data": {
      "text/html": [
       "<div>\n",
       "<style scoped>\n",
       "    .dataframe tbody tr th:only-of-type {\n",
       "        vertical-align: middle;\n",
       "    }\n",
       "\n",
       "    .dataframe tbody tr th {\n",
       "        vertical-align: top;\n",
       "    }\n",
       "\n",
       "    .dataframe thead th {\n",
       "        text-align: right;\n",
       "    }\n",
       "</style>\n",
       "<table border=\"1\" class=\"dataframe\">\n",
       "  <thead>\n",
       "    <tr style=\"text-align: right;\">\n",
       "      <th></th>\n",
       "      <th>userID</th>\n",
       "      <th>Track</th>\n",
       "      <th>artist</th>\n",
       "      <th>genre</th>\n",
       "      <th>City</th>\n",
       "      <th>time</th>\n",
       "      <th>Day</th>\n",
       "    </tr>\n",
       "  </thead>\n",
       "  <tbody>\n",
       "    <tr>\n",
       "      <th>0</th>\n",
       "      <td>FFB692EC</td>\n",
       "      <td>Kamigata To Boots</td>\n",
       "      <td>The Mass Missile</td>\n",
       "      <td>rock</td>\n",
       "      <td>Saint-Petersburg</td>\n",
       "      <td>20:28:33</td>\n",
       "      <td>Wednesday</td>\n",
       "    </tr>\n",
       "    <tr>\n",
       "      <th>1</th>\n",
       "      <td>55204538</td>\n",
       "      <td>Delayed Because of Accident</td>\n",
       "      <td>Andreas Rönnberg</td>\n",
       "      <td>rock</td>\n",
       "      <td>Moscow</td>\n",
       "      <td>14:07:09</td>\n",
       "      <td>Friday</td>\n",
       "    </tr>\n",
       "    <tr>\n",
       "      <th>2</th>\n",
       "      <td>20EC38</td>\n",
       "      <td>Funiculì funiculà</td>\n",
       "      <td>Mario Lanza</td>\n",
       "      <td>pop</td>\n",
       "      <td>Saint-Petersburg</td>\n",
       "      <td>20:58:07</td>\n",
       "      <td>Wednesday</td>\n",
       "    </tr>\n",
       "    <tr>\n",
       "      <th>3</th>\n",
       "      <td>A3DD03C9</td>\n",
       "      <td>Dragons in the Sunset</td>\n",
       "      <td>Fire + Ice</td>\n",
       "      <td>folk</td>\n",
       "      <td>Saint-Petersburg</td>\n",
       "      <td>08:37:09</td>\n",
       "      <td>Monday</td>\n",
       "    </tr>\n",
       "    <tr>\n",
       "      <th>4</th>\n",
       "      <td>E2DC1FAE</td>\n",
       "      <td>Soul People</td>\n",
       "      <td>Space Echo</td>\n",
       "      <td>dance</td>\n",
       "      <td>Moscow</td>\n",
       "      <td>08:34:34</td>\n",
       "      <td>Monday</td>\n",
       "    </tr>\n",
       "    <tr>\n",
       "      <th>5</th>\n",
       "      <td>842029A1</td>\n",
       "      <td>Преданная</td>\n",
       "      <td>IMPERVTOR</td>\n",
       "      <td>rusrap</td>\n",
       "      <td>Saint-Petersburg</td>\n",
       "      <td>13:09:41</td>\n",
       "      <td>Friday</td>\n",
       "    </tr>\n",
       "    <tr>\n",
       "      <th>6</th>\n",
       "      <td>4CB90AA5</td>\n",
       "      <td>True</td>\n",
       "      <td>Roman Messer</td>\n",
       "      <td>dance</td>\n",
       "      <td>Moscow</td>\n",
       "      <td>13:00:07</td>\n",
       "      <td>Wednesday</td>\n",
       "    </tr>\n",
       "    <tr>\n",
       "      <th>7</th>\n",
       "      <td>F03E1C1F</td>\n",
       "      <td>Feeling This Way</td>\n",
       "      <td>Polina Griffith</td>\n",
       "      <td>dance</td>\n",
       "      <td>Moscow</td>\n",
       "      <td>20:47:49</td>\n",
       "      <td>Wednesday</td>\n",
       "    </tr>\n",
       "    <tr>\n",
       "      <th>8</th>\n",
       "      <td>8FA1D3BE</td>\n",
       "      <td>И вновь продолжается бой</td>\n",
       "      <td>NaN</td>\n",
       "      <td>ruspop</td>\n",
       "      <td>Moscow</td>\n",
       "      <td>09:17:40</td>\n",
       "      <td>Friday</td>\n",
       "    </tr>\n",
       "    <tr>\n",
       "      <th>9</th>\n",
       "      <td>E772D5C0</td>\n",
       "      <td>Pessimist</td>\n",
       "      <td>NaN</td>\n",
       "      <td>dance</td>\n",
       "      <td>Saint-Petersburg</td>\n",
       "      <td>21:20:49</td>\n",
       "      <td>Wednesday</td>\n",
       "    </tr>\n",
       "  </tbody>\n",
       "</table>\n",
       "</div>"
      ],
      "text/plain": [
       "     userID                        Track            artist   genre  \\\n",
       "0  FFB692EC            Kamigata To Boots  The Mass Missile    rock   \n",
       "1  55204538  Delayed Because of Accident  Andreas Rönnberg    rock   \n",
       "2    20EC38            Funiculì funiculà       Mario Lanza     pop   \n",
       "3  A3DD03C9        Dragons in the Sunset        Fire + Ice    folk   \n",
       "4  E2DC1FAE                  Soul People        Space Echo   dance   \n",
       "5  842029A1                    Преданная         IMPERVTOR  rusrap   \n",
       "6  4CB90AA5                         True      Roman Messer   dance   \n",
       "7  F03E1C1F             Feeling This Way   Polina Griffith   dance   \n",
       "8  8FA1D3BE     И вновь продолжается бой               NaN  ruspop   \n",
       "9  E772D5C0                    Pessimist               NaN   dance   \n",
       "\n",
       "             City        time        Day  \n",
       "0  Saint-Petersburg  20:28:33  Wednesday  \n",
       "1            Moscow  14:07:09     Friday  \n",
       "2  Saint-Petersburg  20:58:07  Wednesday  \n",
       "3  Saint-Petersburg  08:37:09     Monday  \n",
       "4            Moscow  08:34:34     Monday  \n",
       "5  Saint-Petersburg  13:09:41     Friday  \n",
       "6            Moscow  13:00:07  Wednesday  \n",
       "7            Moscow  20:47:49  Wednesday  \n",
       "8            Moscow  09:17:40     Friday  \n",
       "9  Saint-Petersburg  21:20:49  Wednesday  "
      ]
     },
     "metadata": {},
     "output_type": "display_data"
    }
   ],
   "source": [
    "import pandas as pd\n",
    "df = pd.read_csv('yandex_music_project.csv')\n",
    "display(df.head(10))"
   ]
  },
  {
   "cell_type": "code",
   "execution_count": 6,
   "metadata": {
    "id": "DSf2kIb-_Zct"
   },
   "outputs": [
    {
     "name": "stdout",
     "output_type": "stream",
     "text": [
      "<class 'pandas.core.frame.DataFrame'>\n",
      "RangeIndex: 65079 entries, 0 to 65078\n",
      "Data columns (total 7 columns):\n",
      " #   Column    Non-Null Count  Dtype \n",
      "---  ------    --------------  ----- \n",
      " 0     userID  65079 non-null  object\n",
      " 1   Track     63848 non-null  object\n",
      " 2   artist    57876 non-null  object\n",
      " 3   genre     63881 non-null  object\n",
      " 4     City    65079 non-null  object\n",
      " 5   time      65079 non-null  object\n",
      " 6   Day       65079 non-null  object\n",
      "dtypes: object(7)\n",
      "memory usage: 3.5+ MB\n"
     ]
    }
   ],
   "source": [
    "df.info()"
   ]
  },
  {
   "cell_type": "markdown",
   "metadata": {
    "id": "TaQ2Iwbr_Zct"
   },
   "source": [
    "Итак, в таблице семь столбцов. Тип данных во всех столбцах — `object`.\n",
    "\n",
    "Согласно документации к данным:\n",
    "* `userID` — идентификатор пользователя;\n",
    "* `Track` — название трека;  \n",
    "* `artist` — имя исполнителя;\n",
    "* `genre` — название жанра;\n",
    "* `City` — город пользователя;\n",
    "* `time` — время начала прослушивания;\n",
    "* `Day` — день недели.\n",
    "\n",
    "В названиях колонок видны три нарушения стиля:\n",
    "1. Строчные буквы сочетаются с прописными.\n",
    "2. Встречаются пробелы.\n",
    "3. Отсутствует \"змеиный_регистр\" (userID вместо user_id)\n",
    "\n",
    "\n",
    "\n",
    "Количество значений в столбцах различается. Значит, в данных есть пропущенные значения.\n"
   ]
  },
  {
   "cell_type": "markdown",
   "metadata": {
    "id": "MCB6-dXG_Zct"
   },
   "source": [
    "**Выводы**\n",
    "\n",
    "В каждой строке таблицы — данные о прослушанном треке. Часть колонок описывает саму композицию: название, исполнителя и жанр. Остальные данные рассказывают о пользователе: из какого он города, когда он слушал музыку. \n",
    "\n",
    "Предварительно можно утверждать, что, данных достаточно для проверки гипотез. Но встречаются пропуски в данных, а в названиях колонок — расхождения с хорошим стилем.\n",
    "\n",
    "Чтобы двигаться дальше, нужно устранить проблемы в данных."
   ]
  },
  {
   "cell_type": "markdown",
   "metadata": {
    "id": "SjYF6Ub9_Zct"
   },
   "source": [
    "## Предобработка данных\n",
    "Исправим стиль в заголовках столбцов, исключим пропуски. Затем проверим данные на дубликаты."
   ]
  },
  {
   "cell_type": "markdown",
   "metadata": {
    "id": "dIaKXr29_Zct"
   },
   "source": [
    "### Стиль заголовков\n",
    "Выведем на экран названия столбцов:"
   ]
  },
  {
   "cell_type": "code",
   "execution_count": 7,
   "metadata": {
    "id": "oKOTdF_Q_Zct"
   },
   "outputs": [
    {
     "data": {
      "text/plain": [
       "Index(['  userID', 'Track', 'artist', 'genre', '  City  ', 'time', 'Day'], dtype='object')"
      ]
     },
     "execution_count": 7,
     "metadata": {},
     "output_type": "execute_result"
    }
   ],
   "source": [
    "df.columns"
   ]
  },
  {
   "cell_type": "markdown",
   "metadata": {
    "id": "zj5534cv_Zct"
   },
   "source": [
    "Приведем названия в соответствие с хорошим стилем:\n",
    "* несколько слов в названии запишите в «змеином_регистре»,\n",
    "* все символы сделайте строчными,\n",
    "* устраните пробелы.\n",
    "\n",
    "Для этого переименуем колонки так:\n",
    "* `'  userID'` → `'user_id'`;\n",
    "* `'Track'` → `'track'`;\n",
    "* `'  City  '` → `'city'`;\n",
    "* `'Day'` → `'day'`."
   ]
  },
  {
   "cell_type": "code",
   "execution_count": 8,
   "metadata": {
    "id": "ISlFqs5y_Zct"
   },
   "outputs": [],
   "source": [
    "df = df.rename(columns={'  userID': 'user_id', 'Track': 'track', '  City  ': 'city', 'Day': 'day'})"
   ]
  },
  {
   "cell_type": "markdown",
   "metadata": {
    "id": "1dqbh00J_Zct"
   },
   "source": [
    "Проверим результат. Для этого ещё раз выведем на экран названия столбцов:"
   ]
  },
  {
   "cell_type": "code",
   "execution_count": 10,
   "metadata": {
    "id": "d4NOAmTW_Zct"
   },
   "outputs": [
    {
     "data": {
      "text/plain": [
       "Index(['user_id', 'track', 'artist', 'genre', 'city', 'time', 'day'], dtype='object')"
      ]
     },
     "execution_count": 10,
     "metadata": {},
     "output_type": "execute_result"
    }
   ],
   "source": [
    "df.columns"
   ]
  },
  {
   "cell_type": "markdown",
   "metadata": {
    "id": "5ISfbcfY_Zct"
   },
   "source": [
    "### Пропуски значений\n"
   ]
  },
  {
   "cell_type": "code",
   "execution_count": 11,
   "metadata": {
    "id": "RskX29qr_Zct"
   },
   "outputs": [
    {
     "data": {
      "text/plain": [
       "user_id       0\n",
       "track      1231\n",
       "artist     7203\n",
       "genre      1198\n",
       "city          0\n",
       "time          0\n",
       "day           0\n",
       "dtype: int64"
      ]
     },
     "execution_count": 11,
     "metadata": {},
     "output_type": "execute_result"
    }
   ],
   "source": [
    "df.isna().sum()"
   ]
  },
  {
   "cell_type": "markdown",
   "metadata": {
    "id": "qubhgnlO_Zct"
   },
   "source": [
    "Не все пропущенные значения влияют на исследование. Так в `track` и `artist` пропуски не важны для работы. Достаточно заменить их явными обозначениями.\n",
    "\n",
    "Но пропуски в `genre` могут помешать сравнению музыкальных вкусов в Москве и Санкт-Петербурге. На практике было бы правильно установить причину пропусков и восстановить данные. Такой возможности нет в учебном проекте. Придётся:\n",
    "* заполнить и эти пропуски явными обозначениями,\n",
    "* оценить, насколько они повредят расчётам. "
   ]
  },
  {
   "cell_type": "markdown",
   "metadata": {
    "id": "fSv2laPA_Zct"
   },
   "source": [
    "Заменим пропущенные значения в столбцах `track`, `artist` и `genre` на строку `'unknown'`. Для этого создайте список `columns_to_replace`, переберите его элементы циклом `for` и для каждого столбца выполните замену пропущенных значений:"
   ]
  },
  {
   "cell_type": "code",
   "execution_count": 12,
   "metadata": {
    "id": "KplB5qWs_Zct"
   },
   "outputs": [],
   "source": [
    "columns_to_replace = ['track','artist','genre']\n",
    "for column in columns_to_replace:\n",
    "    df[column] = df[column].fillna('unknown')"
   ]
  },
  {
   "cell_type": "markdown",
   "metadata": {
    "id": "Ilsm-MZo_Zct"
   },
   "source": [
    "Убедимся, что в таблице не осталось пропусков. Для этого ещё раз посчитаем пропущенные значения."
   ]
  },
  {
   "cell_type": "code",
   "execution_count": 13,
   "metadata": {
    "id": "Tq4nYRX4_Zct"
   },
   "outputs": [
    {
     "name": "stdout",
     "output_type": "stream",
     "text": [
      "user_id    0\n",
      "track      0\n",
      "artist     0\n",
      "genre      0\n",
      "city       0\n",
      "time       0\n",
      "day        0\n",
      "dtype: int64\n"
     ]
    }
   ],
   "source": [
    "print(df.isna().sum())"
   ]
  },
  {
   "cell_type": "markdown",
   "metadata": {
    "id": "BWKRtBJ3_Zct"
   },
   "source": [
    "### Дубликаты\n",
    "Посчитаем явные дубликаты в таблице одной командой:"
   ]
  },
  {
   "cell_type": "code",
   "execution_count": 14,
   "metadata": {
    "id": "36eES_S0_Zct"
   },
   "outputs": [
    {
     "data": {
      "text/plain": [
       "3826"
      ]
     },
     "execution_count": 14,
     "metadata": {},
     "output_type": "execute_result"
    }
   ],
   "source": [
    "df.duplicated().sum()"
   ]
  },
  {
   "cell_type": "markdown",
   "metadata": {
    "id": "Ot25h6XR_Zct"
   },
   "source": [
    "Вызовите специальный метод `pandas`, чтобы удалить явные дубликаты:"
   ]
  },
  {
   "cell_type": "code",
   "execution_count": 15,
   "metadata": {
    "id": "exFHq6tt_Zct"
   },
   "outputs": [],
   "source": [
    "df = df.drop_duplicates().reset_index(drop=True)"
   ]
  },
  {
   "cell_type": "markdown",
   "metadata": {
    "id": "Im2YwBEG_Zct"
   },
   "source": [
    "Ещё раз посчитаем явные дубликаты в таблице — убедимся, что полностью от них избавились:"
   ]
  },
  {
   "cell_type": "code",
   "execution_count": 16,
   "metadata": {
    "id": "-8PuNWQ0_Zct",
    "scrolled": true
   },
   "outputs": [
    {
     "name": "stdout",
     "output_type": "stream",
     "text": [
      "0\n"
     ]
    }
   ],
   "source": [
    "print(df.duplicated().sum())"
   ]
  },
  {
   "cell_type": "markdown",
   "metadata": {
    "id": "QlFBsxAr_Zct"
   },
   "source": [
    "Теперь избавимся от неявных дубликатов в колонке `genre`. Например, название одного и того же жанра может быть записано немного по-разному. Такие ошибки тоже повлияют на результат исследования."
   ]
  },
  {
   "cell_type": "markdown",
   "metadata": {
    "id": "eSjWwsOh_Zct"
   },
   "source": [
    "Выведем на экран список уникальных названий жанров, отсортированный в алфавитном порядке. Для этого:\n",
    "* извлечем нужный столбец датафрейма, \n",
    "* применим к нему метод сортировки,\n",
    "* для отсортированного столбца вызовем метод, который вернёт уникальные значения из столбца."
   ]
  },
  {
   "cell_type": "code",
   "execution_count": 19,
   "metadata": {},
   "outputs": [
    {
     "data": {
      "text/plain": [
       "acid                   1\n",
       "acoustic               5\n",
       "action                 4\n",
       "adult                 24\n",
       "africa                16\n",
       "afrikaans              4\n",
       "alternative         2028\n",
       "alternativepunk        1\n",
       "ambient              247\n",
       "americana              8\n",
       "animated               2\n",
       "anime                104\n",
       "arabesk                9\n",
       "arabic                 2\n",
       "arena                  1\n",
       "argentinetango        26\n",
       "art                    2\n",
       "audiobook              7\n",
       "author                 1\n",
       "avantgarde            55\n",
       "axé                    1\n",
       "baile                  1\n",
       "balkan                11\n",
       "beats                 18\n",
       "bigroom               14\n",
       "black                 21\n",
       "bluegrass              7\n",
       "blues                500\n",
       "bollywood              5\n",
       "bossa                  1\n",
       "brazilian             23\n",
       "breakbeat              8\n",
       "breaks                 8\n",
       "broadway              15\n",
       "cantautori             2\n",
       "cantopop               2\n",
       "canzone                3\n",
       "caribbean              3\n",
       "caucasian            116\n",
       "celtic                16\n",
       "chamber                5\n",
       "chanson               78\n",
       "children             517\n",
       "chill                106\n",
       "chinese               16\n",
       "choral                 3\n",
       "christian             85\n",
       "christmas             21\n",
       "classical           2262\n",
       "classicmetal          75\n",
       "club                  10\n",
       "colombian              2\n",
       "comedy                24\n",
       "conjazz               75\n",
       "contemporary          10\n",
       "country              475\n",
       "cuban                  3\n",
       "dance               6367\n",
       "dancehall             41\n",
       "dancepop              18\n",
       "dark                   3\n",
       "death                 12\n",
       "deep                 130\n",
       "deutschrock            7\n",
       "deutschspr             2\n",
       "dirty                  1\n",
       "disco                 60\n",
       "dnb                    9\n",
       "documentary            1\n",
       "downbeat               5\n",
       "downtempo             42\n",
       "drum                  93\n",
       "dub                   25\n",
       "dubstep              177\n",
       "eastern               17\n",
       "easy                 275\n",
       "electronic          5522\n",
       "electropop             7\n",
       "emo                    4\n",
       "entehno                1\n",
       "epicmetal             65\n",
       "estrada              107\n",
       "ethnic                13\n",
       "eurofolk              16\n",
       "european              13\n",
       "experimental          54\n",
       "extrememetal         248\n",
       "fado                   1\n",
       "fairytail             96\n",
       "film                 370\n",
       "fitness               32\n",
       "flamenco              12\n",
       "folk                 972\n",
       "folklore               5\n",
       "folkmetal             81\n",
       "folkrock              60\n",
       "folktronica            1\n",
       "forró                  1\n",
       "frankreich             1\n",
       "französisch            1\n",
       "french                83\n",
       "funk                  72\n",
       "future                22\n",
       "gangsta                9\n",
       "garage                 6\n",
       "german                12\n",
       "ghazal                 1\n",
       "gitarre                1\n",
       "glitch                13\n",
       "gospel                51\n",
       "gothic                13\n",
       "grime                  6\n",
       "grunge                 2\n",
       "gypsy                  3\n",
       "handsup                2\n",
       "hard'n'heavy         127\n",
       "hardcore             131\n",
       "hardstyle              2\n",
       "hardtechno             2\n",
       "hip                 2975\n",
       "hip-hop                1\n",
       "hiphop                79\n",
       "historisch             1\n",
       "holiday              237\n",
       "hop                    1\n",
       "horror                 1\n",
       "house                296\n",
       "hymn                   2\n",
       "idm                    3\n",
       "independent            1\n",
       "indian                16\n",
       "indie                631\n",
       "indipop                1\n",
       "industrial            77\n",
       "inspirational          9\n",
       "instrumental         221\n",
       "international         14\n",
       "irish                  1\n",
       "jam                    1\n",
       "japanese               3\n",
       "jazz                1466\n",
       "jewish                30\n",
       "jpop                  58\n",
       "jungle                 1\n",
       "k-pop                 96\n",
       "karadeniz              1\n",
       "karaoke               17\n",
       "kayokyoku              1\n",
       "korean                 4\n",
       "laiko                  1\n",
       "latin                921\n",
       "latino                 2\n",
       "leftfield              5\n",
       "local                358\n",
       "lounge                 7\n",
       "loungeelectronic       1\n",
       "lovers                 1\n",
       "malaysian              1\n",
       "mandopop               1\n",
       "marschmusik            1\n",
       "meditative            10\n",
       "mediterranean          2\n",
       "melodic               82\n",
       "metal               1210\n",
       "metalcore              1\n",
       "mexican                4\n",
       "middle                 8\n",
       "minimal               54\n",
       "miscellaneous        332\n",
       "modern                42\n",
       "mood                   2\n",
       "mpb                    9\n",
       "muslim                 7\n",
       "native                 3\n",
       "neoklassik             2\n",
       "neue                   1\n",
       "new                  568\n",
       "newage                18\n",
       "newwave                9\n",
       "nu                    16\n",
       "nujazz                 3\n",
       "numetal               86\n",
       "oceania                2\n",
       "old                   26\n",
       "opera                 31\n",
       "orchestral             3\n",
       "other                 51\n",
       "piano                  5\n",
       "podcasts               1\n",
       "pop                 8323\n",
       "popdance               1\n",
       "popelectronic          1\n",
       "popeurodance           1\n",
       "poprussian             1\n",
       "post                   8\n",
       "posthardcore         191\n",
       "postrock              69\n",
       "power                  4\n",
       "progmetal             85\n",
       "progressive          140\n",
       "psychedelic          297\n",
       "punjabi                1\n",
       "punk                 411\n",
       "quebecois              1\n",
       "ragga                  1\n",
       "ram                    2\n",
       "rancheras              3\n",
       "rap                  852\n",
       "rave                   1\n",
       "reggae               601\n",
       "reggaeton              7\n",
       "regional               1\n",
       "relax                 54\n",
       "religious             74\n",
       "retro                  4\n",
       "rhythm                 5\n",
       "rnb                  952\n",
       "rnr                   14\n",
       "rock                5844\n",
       "rockabilly             2\n",
       "rockalternative        2\n",
       "rockindie              2\n",
       "rockother              1\n",
       "romance               36\n",
       "roots                  1\n",
       "ruspop              1910\n",
       "rusrap              1725\n",
       "rusrock              612\n",
       "russian               90\n",
       "salsa                  9\n",
       "samba                  5\n",
       "scenic                 1\n",
       "schlager              40\n",
       "self                   9\n",
       "sertanejo              3\n",
       "shanson              233\n",
       "shoegazing             1\n",
       "showtunes              1\n",
       "singer               197\n",
       "ska                   48\n",
       "skarock                2\n",
       "slow                   2\n",
       "smooth                 9\n",
       "soft                   1\n",
       "soul                  86\n",
       "soulful                2\n",
       "sound                  1\n",
       "soundtrack          1116\n",
       "southern               9\n",
       "specialty              1\n",
       "speech                 3\n",
       "spiritual            168\n",
       "sport                  8\n",
       "stonerrock            53\n",
       "surf                   5\n",
       "swing                 10\n",
       "synthpop               1\n",
       "synthrock              1\n",
       "sängerportrait         1\n",
       "tango                  6\n",
       "tanzorchester          1\n",
       "taraftar               1\n",
       "tatar                 66\n",
       "tech                  31\n",
       "techno               151\n",
       "teen                   1\n",
       "thrash                 4\n",
       "top                    1\n",
       "traditional            5\n",
       "tradjazz               8\n",
       "trance               119\n",
       "tribal                 1\n",
       "trip                   3\n",
       "triphop                2\n",
       "tropical              11\n",
       "türk                   4\n",
       "türkçe                25\n",
       "ukrrock               25\n",
       "unknown             1127\n",
       "urban                234\n",
       "uzbek                 28\n",
       "variété               38\n",
       "vi                     3\n",
       "videogame            114\n",
       "vocal                 93\n",
       "western               97\n",
       "world               1947\n",
       "worldbeat              2\n",
       "ïîï                    1\n",
       "электроника            1\n",
       "Name: genre, dtype: int64"
      ]
     },
     "execution_count": 19,
     "metadata": {},
     "output_type": "execute_result"
    }
   ],
   "source": [
    "pd.set_option('display.max_rows', None)\n",
    "df['genre'].value_counts().sort_index(ascending=True)"
   ]
  },
  {
   "cell_type": "markdown",
   "metadata": {
    "id": "qej-Qmuo_Zct"
   },
   "source": [
    "Просмотрим список и найдем неявные дубликаты названия `hiphop`. Это могут быть названия с ошибками или альтернативные названия того же жанра.\n",
    "\n",
    "Обнаружены следующие неявные дубликаты:\n",
    "* *hip*,\n",
    "* *hop*,\n",
    "* *hip-hop*.\n",
    "\n",
    "Чтобы очистить от них таблицу, напишием функцию `replace_wrong_genres()` с двумя параметрами: \n",
    "* `wrong_genres` — список дубликатов,\n",
    "* `correct_genre` — строка с правильным значением.\n",
    "\n",
    "Функция должна исправить колонку `genre` в таблице `df`: заменить каждое значение из списка `wrong_genres` на значение из `correct_genre`."
   ]
  },
  {
   "cell_type": "code",
   "execution_count": 21,
   "metadata": {
    "id": "ErNDkmns_Zct"
   },
   "outputs": [],
   "source": [
    "def replace_wrong_genres(wrong_genres, correct_value):\n",
    "    for wrong_genre in wrong_genres:\n",
    "        df['genre'] = df['genre'].replace(wrong_genres, correct_value)"
   ]
  },
  {
   "cell_type": "markdown",
   "metadata": {
    "id": "aDoBJxbA_Zct"
   },
   "source": [
    "Вызовем `replace_wrong_genres()` и передадим ей такие аргументы, чтобы она устранила неявные дубликаты: вместо `hip`, `hop` и `hip-hop` в таблице должно быть значение `hiphop`:"
   ]
  },
  {
   "cell_type": "code",
   "execution_count": 22,
   "metadata": {
    "id": "YN5i2hpmSo09"
   },
   "outputs": [],
   "source": [
    "duplicates = ['hip', 'hop', 'hip-hop']\n",
    "genre = 'hiphop'\n",
    "replace_wrong_genres(duplicates, genre)"
   ]
  },
  {
   "cell_type": "markdown",
   "metadata": {
    "id": "zQKF16_RG15m"
   },
   "source": [
    "Проверим, что заменили неправильные названия:\n",
    "\n",
    "*   hip\n",
    "*   hop\n",
    "*   hip-hop\n",
    "\n",
    "Выведем отсортированный список уникальных значений столбца `genre`:"
   ]
  },
  {
   "cell_type": "code",
   "execution_count": 23,
   "metadata": {
    "id": "wvixALnFG15m"
   },
   "outputs": [
    {
     "data": {
      "text/plain": [
       "acid                   1\n",
       "acoustic               5\n",
       "action                 4\n",
       "adult                 24\n",
       "africa                16\n",
       "afrikaans              4\n",
       "alternative         2028\n",
       "alternativepunk        1\n",
       "ambient              247\n",
       "americana              8\n",
       "animated               2\n",
       "anime                104\n",
       "arabesk                9\n",
       "arabic                 2\n",
       "arena                  1\n",
       "argentinetango        26\n",
       "art                    2\n",
       "audiobook              7\n",
       "author                 1\n",
       "avantgarde            55\n",
       "axé                    1\n",
       "baile                  1\n",
       "balkan                11\n",
       "beats                 18\n",
       "bigroom               14\n",
       "black                 21\n",
       "bluegrass              7\n",
       "blues                500\n",
       "bollywood              5\n",
       "bossa                  1\n",
       "brazilian             23\n",
       "breakbeat              8\n",
       "breaks                 8\n",
       "broadway              15\n",
       "cantautori             2\n",
       "cantopop               2\n",
       "canzone                3\n",
       "caribbean              3\n",
       "caucasian            116\n",
       "celtic                16\n",
       "chamber                5\n",
       "chanson               78\n",
       "children             517\n",
       "chill                106\n",
       "chinese               16\n",
       "choral                 3\n",
       "christian             85\n",
       "christmas             21\n",
       "classical           2262\n",
       "classicmetal          75\n",
       "club                  10\n",
       "colombian              2\n",
       "comedy                24\n",
       "conjazz               75\n",
       "contemporary          10\n",
       "country              475\n",
       "cuban                  3\n",
       "dance               6367\n",
       "dancehall             41\n",
       "dancepop              18\n",
       "dark                   3\n",
       "death                 12\n",
       "deep                 130\n",
       "deutschrock            7\n",
       "deutschspr             2\n",
       "dirty                  1\n",
       "disco                 60\n",
       "dnb                    9\n",
       "documentary            1\n",
       "downbeat               5\n",
       "downtempo             42\n",
       "drum                  93\n",
       "dub                   25\n",
       "dubstep              177\n",
       "eastern               17\n",
       "easy                 275\n",
       "electronic          5522\n",
       "electropop             7\n",
       "emo                    4\n",
       "entehno                1\n",
       "epicmetal             65\n",
       "estrada              107\n",
       "ethnic                13\n",
       "eurofolk              16\n",
       "european              13\n",
       "experimental          54\n",
       "extrememetal         248\n",
       "fado                   1\n",
       "fairytail             96\n",
       "film                 370\n",
       "fitness               32\n",
       "flamenco              12\n",
       "folk                 972\n",
       "folklore               5\n",
       "folkmetal             81\n",
       "folkrock              60\n",
       "folktronica            1\n",
       "forró                  1\n",
       "frankreich             1\n",
       "französisch            1\n",
       "french                83\n",
       "funk                  72\n",
       "future                22\n",
       "gangsta                9\n",
       "garage                 6\n",
       "german                12\n",
       "ghazal                 1\n",
       "gitarre                1\n",
       "glitch                13\n",
       "gospel                51\n",
       "gothic                13\n",
       "grime                  6\n",
       "grunge                 2\n",
       "gypsy                  3\n",
       "handsup                2\n",
       "hard'n'heavy         127\n",
       "hardcore             131\n",
       "hardstyle              2\n",
       "hardtechno             2\n",
       "hiphop              3056\n",
       "historisch             1\n",
       "holiday              237\n",
       "horror                 1\n",
       "house                296\n",
       "hymn                   2\n",
       "idm                    3\n",
       "independent            1\n",
       "indian                16\n",
       "indie                631\n",
       "indipop                1\n",
       "industrial            77\n",
       "inspirational          9\n",
       "instrumental         221\n",
       "international         14\n",
       "irish                  1\n",
       "jam                    1\n",
       "japanese               3\n",
       "jazz                1466\n",
       "jewish                30\n",
       "jpop                  58\n",
       "jungle                 1\n",
       "k-pop                 96\n",
       "karadeniz              1\n",
       "karaoke               17\n",
       "kayokyoku              1\n",
       "korean                 4\n",
       "laiko                  1\n",
       "latin                921\n",
       "latino                 2\n",
       "leftfield              5\n",
       "local                358\n",
       "lounge                 7\n",
       "loungeelectronic       1\n",
       "lovers                 1\n",
       "malaysian              1\n",
       "mandopop               1\n",
       "marschmusik            1\n",
       "meditative            10\n",
       "mediterranean          2\n",
       "melodic               82\n",
       "metal               1210\n",
       "metalcore              1\n",
       "mexican                4\n",
       "middle                 8\n",
       "minimal               54\n",
       "miscellaneous        332\n",
       "modern                42\n",
       "mood                   2\n",
       "mpb                    9\n",
       "muslim                 7\n",
       "native                 3\n",
       "neoklassik             2\n",
       "neue                   1\n",
       "new                  568\n",
       "newage                18\n",
       "newwave                9\n",
       "nu                    16\n",
       "nujazz                 3\n",
       "numetal               86\n",
       "oceania                2\n",
       "old                   26\n",
       "opera                 31\n",
       "orchestral             3\n",
       "other                 51\n",
       "piano                  5\n",
       "podcasts               1\n",
       "pop                 8323\n",
       "popdance               1\n",
       "popelectronic          1\n",
       "popeurodance           1\n",
       "poprussian             1\n",
       "post                   8\n",
       "posthardcore         191\n",
       "postrock              69\n",
       "power                  4\n",
       "progmetal             85\n",
       "progressive          140\n",
       "psychedelic          297\n",
       "punjabi                1\n",
       "punk                 411\n",
       "quebecois              1\n",
       "ragga                  1\n",
       "ram                    2\n",
       "rancheras              3\n",
       "rap                  852\n",
       "rave                   1\n",
       "reggae               601\n",
       "reggaeton              7\n",
       "regional               1\n",
       "relax                 54\n",
       "religious             74\n",
       "retro                  4\n",
       "rhythm                 5\n",
       "rnb                  952\n",
       "rnr                   14\n",
       "rock                5844\n",
       "rockabilly             2\n",
       "rockalternative        2\n",
       "rockindie              2\n",
       "rockother              1\n",
       "romance               36\n",
       "roots                  1\n",
       "ruspop              1910\n",
       "rusrap              1725\n",
       "rusrock              612\n",
       "russian               90\n",
       "salsa                  9\n",
       "samba                  5\n",
       "scenic                 1\n",
       "schlager              40\n",
       "self                   9\n",
       "sertanejo              3\n",
       "shanson              233\n",
       "shoegazing             1\n",
       "showtunes              1\n",
       "singer               197\n",
       "ska                   48\n",
       "skarock                2\n",
       "slow                   2\n",
       "smooth                 9\n",
       "soft                   1\n",
       "soul                  86\n",
       "soulful                2\n",
       "sound                  1\n",
       "soundtrack          1116\n",
       "southern               9\n",
       "specialty              1\n",
       "speech                 3\n",
       "spiritual            168\n",
       "sport                  8\n",
       "stonerrock            53\n",
       "surf                   5\n",
       "swing                 10\n",
       "synthpop               1\n",
       "synthrock              1\n",
       "sängerportrait         1\n",
       "tango                  6\n",
       "tanzorchester          1\n",
       "taraftar               1\n",
       "tatar                 66\n",
       "tech                  31\n",
       "techno               151\n",
       "teen                   1\n",
       "thrash                 4\n",
       "top                    1\n",
       "traditional            5\n",
       "tradjazz               8\n",
       "trance               119\n",
       "tribal                 1\n",
       "trip                   3\n",
       "triphop                2\n",
       "tropical              11\n",
       "türk                   4\n",
       "türkçe                25\n",
       "ukrrock               25\n",
       "unknown             1127\n",
       "urban                234\n",
       "uzbek                 28\n",
       "variété               38\n",
       "vi                     3\n",
       "videogame            114\n",
       "vocal                 93\n",
       "western               97\n",
       "world               1947\n",
       "worldbeat              2\n",
       "ïîï                    1\n",
       "электроника            1\n",
       "Name: genre, dtype: int64"
      ]
     },
     "execution_count": 23,
     "metadata": {},
     "output_type": "execute_result"
    }
   ],
   "source": [
    "pd.set_option('display.max_rows', None)\n",
    "df['genre'].value_counts().sort_index(ascending=True)"
   ]
  },
  {
   "cell_type": "markdown",
   "metadata": {
    "id": "jz6a9-7HQUDd"
   },
   "source": [
    "**Выводы**\n",
    "\n",
    "Предобработка обнаружила три проблемы в данных:\n",
    "\n",
    "- нарушения в стиле заголовков,\n",
    "- пропущенные значения,\n",
    "- дубликаты — явные и неявные.\n",
    "\n",
    "Были исправлены заголовки, чтобы упростить работу с таблицей. Без дубликатов исследование станет более точным.\n",
    "\n",
    "Пропущенные значения заменили на `'unknown'`. \n",
    "Теперь можно перейти к проверке гипотез. "
   ]
  },
  {
   "cell_type": "markdown",
   "metadata": {
    "id": "WttZHXH0SqKk"
   },
   "source": [
    "## Проверка гипотез"
   ]
  },
  {
   "cell_type": "markdown",
   "metadata": {
    "id": "Im936VVi_Zcu"
   },
   "source": [
    "### Сравнение поведения пользователей двух столиц"
   ]
  },
  {
   "cell_type": "markdown",
   "metadata": {
    "id": "nwt_MuaL_Zcu"
   },
   "source": [
    "Первая гипотеза утверждает, что пользователи по-разному слушают музыку в Москве и Санкт-Петербурге. Проверим это предположение по данным о трёх днях недели — понедельнике, среде и пятнице. Для этого:\n",
    "\n",
    "* Разделитм пользователей Москвы и Санкт-Петербурга\n",
    "* Сравним, сколько треков послушала каждая группа пользователей в понедельник, среду и пятницу.\n"
   ]
  },
  {
   "cell_type": "markdown",
   "metadata": {
    "id": "8Dw_YMmT_Zcu"
   },
   "source": [
    "Для тренировки сначала выполним каждый из расчётов по отдельности. \n",
    "\n",
    "Оценим активность пользователей в каждом городе. Сгруппируем данные по городу и посчитаем прослушивания в каждой группе.\n",
    "\n"
   ]
  },
  {
   "cell_type": "code",
   "execution_count": 24,
   "metadata": {
    "id": "0_Qs96oh_Zcu"
   },
   "outputs": [
    {
     "data": {
      "text/plain": [
       "city\n",
       "Moscow              42741\n",
       "Saint-Petersburg    18512\n",
       "Name: time, dtype: int64"
      ]
     },
     "execution_count": 24,
     "metadata": {},
     "output_type": "execute_result"
    }
   ],
   "source": [
    "df.groupby('city')['time'].count()"
   ]
  },
  {
   "cell_type": "markdown",
   "metadata": {
    "id": "dzli3w8o_Zcu"
   },
   "source": [
    "В Москве прослушиваний больше, чем в Петербурге. Из этого не следует, что московские пользователи чаще слушают музыку. Просто самих пользователей в Москве больше.\n",
    "\n",
    "Теперь сгруппируем данные по дню недели и подсчитаем прослушивания в понедельник, среду и пятницу. Учтем, что в данных есть информация только о прослушиваниях только за эти дни.\n"
   ]
  },
  {
   "cell_type": "code",
   "execution_count": 25,
   "metadata": {
    "id": "uZMKjiJz_Zcu"
   },
   "outputs": [
    {
     "data": {
      "text/plain": [
       "day\n",
       "Friday       21840\n",
       "Monday       21354\n",
       "Wednesday    18059\n",
       "Name: time, dtype: int64"
      ]
     },
     "execution_count": 25,
     "metadata": {},
     "output_type": "execute_result"
    }
   ],
   "source": [
    "df.groupby('day')['time'].count()"
   ]
  },
  {
   "cell_type": "markdown",
   "metadata": {
    "id": "cC2tNrlL_Zcu"
   },
   "source": [
    "В среднем пользователи из двух городов менее активны по средам. Но картина может измениться, если рассмотреть каждый город в отдельности."
   ]
  },
  {
   "cell_type": "markdown",
   "metadata": {
    "id": "POzs8bGa_Zcu"
   },
   "source": [
    "Напишем функцию, которая объединит два эти расчёта.\n",
    "\n",
    "Создадим функцию `number_tracks()`, которая посчитает прослушивания для заданного дня и города. Ей понадобятся два параметра:\n",
    "* день недели,\n",
    "* название города.\n",
    "\n",
    "В функции сохраним в переменную строки исходной таблицы, у которых значение:\n",
    "  * в колонке `day` равно параметру `day`,\n",
    "  * в колонке `city` равно параметру `city`.\n",
    "\n",
    "Для этого применим последовательную фильтрацию с логической индексацией.\n",
    "\n",
    "Затем посчитаем значения в столбце `user_id` получившейся таблицы. Результат сохраним в новую переменную. Вернием эту переменную из функции."
   ]
  },
  {
   "cell_type": "code",
   "execution_count": 26,
   "metadata": {
    "id": "Nz3GdQB1_Zcu"
   },
   "outputs": [],
   "source": [
    "def number_tracks(day, city):\n",
    "    track_list = df[(df['day'] == day) & (df['city'] == city)]\n",
    "    track_list_count = track_list['user_id'].count()\n",
    "    return track_list_count"
   ]
  },
  {
   "cell_type": "markdown",
   "metadata": {
    "id": "ytf7xFrFJQ2r"
   },
   "source": [
    "Вызовем `number_tracks()` шесть раз, меняя значение параметров — так, чтобы получить данные для каждого города в каждый из трёх дней."
   ]
  },
  {
   "cell_type": "code",
   "execution_count": 27,
   "metadata": {
    "id": "rJcRATNQ_Zcu"
   },
   "outputs": [
    {
     "data": {
      "text/plain": [
       "15740"
      ]
     },
     "execution_count": 27,
     "metadata": {},
     "output_type": "execute_result"
    }
   ],
   "source": [
    "number_tracks('Monday', 'Moscow')"
   ]
  },
  {
   "cell_type": "code",
   "execution_count": 28,
   "metadata": {
    "id": "hq_ncZ5T_Zcu"
   },
   "outputs": [
    {
     "data": {
      "text/plain": [
       "5614"
      ]
     },
     "execution_count": 28,
     "metadata": {},
     "output_type": "execute_result"
    }
   ],
   "source": [
    "number_tracks('Monday', 'Saint-Petersburg')"
   ]
  },
  {
   "cell_type": "code",
   "execution_count": 29,
   "metadata": {
    "id": "_NTy2VPU_Zcu"
   },
   "outputs": [
    {
     "data": {
      "text/plain": [
       "11056"
      ]
     },
     "execution_count": 29,
     "metadata": {},
     "output_type": "execute_result"
    }
   ],
   "source": [
    "number_tracks('Wednesday', 'Moscow')"
   ]
  },
  {
   "cell_type": "code",
   "execution_count": 30,
   "metadata": {
    "id": "j2y3TAwo_Zcu"
   },
   "outputs": [
    {
     "data": {
      "text/plain": [
       "7003"
      ]
     },
     "execution_count": 30,
     "metadata": {},
     "output_type": "execute_result"
    }
   ],
   "source": [
    "number_tracks('Wednesday', 'Saint-Petersburg')"
   ]
  },
  {
   "cell_type": "code",
   "execution_count": 31,
   "metadata": {
    "id": "vYDw5u_K_Zcu"
   },
   "outputs": [
    {
     "data": {
      "text/plain": [
       "15945"
      ]
     },
     "execution_count": 31,
     "metadata": {},
     "output_type": "execute_result"
    }
   ],
   "source": [
    "number_tracks('Friday', 'Moscow')"
   ]
  },
  {
   "cell_type": "code",
   "execution_count": 32,
   "metadata": {
    "id": "8_yzFtW3_Zcu"
   },
   "outputs": [
    {
     "data": {
      "text/plain": [
       "5895"
      ]
     },
     "execution_count": 32,
     "metadata": {},
     "output_type": "execute_result"
    }
   ],
   "source": [
    "number_tracks('Friday', 'Saint-Petersburg')"
   ]
  },
  {
   "cell_type": "markdown",
   "metadata": {
    "id": "7QXffbO-_Zcu"
   },
   "source": [
    "Создадим c помощью конструктора `pd.DataFrame` таблицу, где\n",
    "* названия колонок — `['city', 'monday', 'wednesday', 'friday']`;\n",
    "* данные — результаты, которые вы получили с помощью `number_tracks`."
   ]
  },
  {
   "cell_type": "code",
   "execution_count": 33,
   "metadata": {
    "id": "APAcLpOr_Zcu"
   },
   "outputs": [
    {
     "data": {
      "text/html": [
       "<div>\n",
       "<style scoped>\n",
       "    .dataframe tbody tr th:only-of-type {\n",
       "        vertical-align: middle;\n",
       "    }\n",
       "\n",
       "    .dataframe tbody tr th {\n",
       "        vertical-align: top;\n",
       "    }\n",
       "\n",
       "    .dataframe thead th {\n",
       "        text-align: right;\n",
       "    }\n",
       "</style>\n",
       "<table border=\"1\" class=\"dataframe\">\n",
       "  <thead>\n",
       "    <tr style=\"text-align: right;\">\n",
       "      <th></th>\n",
       "      <th>city</th>\n",
       "      <th>Monday</th>\n",
       "      <th>Wednesday</th>\n",
       "      <th>Friday</th>\n",
       "    </tr>\n",
       "  </thead>\n",
       "  <tbody>\n",
       "    <tr>\n",
       "      <th>0</th>\n",
       "      <td>Moscow</td>\n",
       "      <td>15740</td>\n",
       "      <td>11056</td>\n",
       "      <td>15945</td>\n",
       "    </tr>\n",
       "    <tr>\n",
       "      <th>1</th>\n",
       "      <td>Saint-Petersburg</td>\n",
       "      <td>5614</td>\n",
       "      <td>7003</td>\n",
       "      <td>5895</td>\n",
       "    </tr>\n",
       "  </tbody>\n",
       "</table>\n",
       "</div>"
      ],
      "text/plain": [
       "               city  Monday  Wednesday  Friday\n",
       "0            Moscow   15740      11056   15945\n",
       "1  Saint-Petersburg    5614       7003    5895"
      ]
     },
     "metadata": {},
     "output_type": "display_data"
    }
   ],
   "source": [
    "import pandas as pd\n",
    "\n",
    "data = [\n",
    "    ['Moscow', number_tracks('Monday', 'Moscow'), number_tracks('Wednesday', 'Moscow'),number_tracks('Friday', 'Moscow')],\n",
    "    ['Saint-Petersburg', number_tracks('Monday', 'Saint-Petersburg'), number_tracks('Wednesday', 'Saint-Petersburg'),number_tracks('Friday', 'Saint-Petersburg')]\n",
    "]\n",
    "columns = ['city', 'Monday', 'Wednesday', 'Friday']\n",
    "table =  pd.DataFrame(data = data, columns = columns)\n",
    "display(table)"
   ]
  },
  {
   "cell_type": "markdown",
   "metadata": {
    "id": "-EgPIHYu_Zcu"
   },
   "source": [
    "**Выводы**\n",
    "\n",
    "Данные показывают разницу поведения пользователей:\n",
    "\n",
    "- В Москве пик прослушиваний приходится на понедельник и пятницу, а в среду заметен спад.\n",
    "- В Петербурге, наоборот, больше слушают музыку по средам. Активность в понедельник и пятницу здесь почти в равной мере уступает среде.\n",
    "\n",
    "Значит, данные говорят в пользу первой гипотезы."
   ]
  },
  {
   "cell_type": "markdown",
   "metadata": {
    "id": "atZAxtq4_Zcu"
   },
   "source": [
    "### Музыка в начале и в конце недели"
   ]
  },
  {
   "cell_type": "markdown",
   "metadata": {
    "id": "eXrQqXFH_Zcu"
   },
   "source": [
    "Согласно второй гипотезе, утром в понедельник в Москве преобладают одни жанры, а в Петербурге — другие. Так же и вечером пятницы преобладают разные жанры — в зависимости от города."
   ]
  },
  {
   "cell_type": "markdown",
   "metadata": {
    "id": "S8UcW6Hw_Zcu"
   },
   "source": [
    "Сохраним таблицы с данными в две переменные:\n",
    "* по Москве — в `moscow_general`;\n",
    "* по Санкт-Петербургу — в `spb_general`."
   ]
  },
  {
   "cell_type": "code",
   "execution_count": 36,
   "metadata": {
    "id": "qeaFfM_P_Zcu"
   },
   "outputs": [],
   "source": [
    "moscow_general =  df[df['city'] == 'Moscow']"
   ]
  },
  {
   "cell_type": "code",
   "execution_count": 37,
   "metadata": {
    "id": "ORaVRKto_Zcu"
   },
   "outputs": [],
   "source": [
    "spb_general = df[df['city'] == 'Saint-Petersburg']"
   ]
  },
  {
   "cell_type": "markdown",
   "metadata": {
    "id": "MEJV-CX2_Zcu"
   },
   "source": [
    "Создадим функцию `genre_weekday()` с четырьмя параметрами:\n",
    "* таблица (датафрейм) с данными,\n",
    "* день недели,\n",
    "* начальная временная метка в формате 'hh:mm', \n",
    "* последняя временная метка в формате 'hh:mm'.\n",
    "\n",
    "Функция должна вернуть информацию о топ-10 жанров тех треков, которые прослушивали в указанный день, в промежутке между двумя отметками времени."
   ]
  },
  {
   "cell_type": "code",
   "execution_count": 38,
   "metadata": {
    "id": "laJT9BYl_Zcu"
   },
   "outputs": [],
   "source": [
    "def genre_weekday(table, day, time1, time2):\n",
    "    genre_df = table[table['day'] == day]\n",
    "    genre_df =  genre_df[(genre_df['time'] > time1) & (genre_df['time'] < time2)]\n",
    "    genre_df_count = genre_df.groupby('genre')['genre'].count()\n",
    "    genre_df_sorted = genre_df_count.sort_values(ascending = False)\n",
    "    return genre_df_sorted.head(10)"
   ]
  },
  {
   "cell_type": "markdown",
   "metadata": {
    "id": "la2s2_PF_Zcu"
   },
   "source": [
    "Cравним результаты функции `genre_weekday()` для Москвы и Санкт-Петербурга в понедельник утром (с 7:00 до 11:00) и в пятницу вечером (с 17:00 до 23:00):"
   ]
  },
  {
   "cell_type": "code",
   "execution_count": 39,
   "metadata": {
    "id": "yz7itPUQ_Zcu"
   },
   "outputs": [
    {
     "data": {
      "text/plain": [
       "genre\n",
       "pop            781\n",
       "dance          549\n",
       "electronic     480\n",
       "rock           474\n",
       "hiphop         286\n",
       "ruspop         186\n",
       "world          181\n",
       "rusrap         175\n",
       "alternative    164\n",
       "unknown        161\n",
       "Name: genre, dtype: int64"
      ]
     },
     "execution_count": 39,
     "metadata": {},
     "output_type": "execute_result"
    }
   ],
   "source": [
    "genre_weekday(moscow_general, 'Monday', '07:00', '11:00')"
   ]
  },
  {
   "cell_type": "code",
   "execution_count": 40,
   "metadata": {
    "id": "kwUcHPdy_Zcu"
   },
   "outputs": [
    {
     "data": {
      "text/plain": [
       "genre\n",
       "pop            218\n",
       "dance          182\n",
       "rock           162\n",
       "electronic     147\n",
       "hiphop          80\n",
       "ruspop          64\n",
       "alternative     58\n",
       "rusrap          55\n",
       "jazz            44\n",
       "classical       40\n",
       "Name: genre, dtype: int64"
      ]
     },
     "execution_count": 40,
     "metadata": {},
     "output_type": "execute_result"
    }
   ],
   "source": [
    "genre_weekday(spb_general, 'Monday', '07:00', '11:00')"
   ]
  },
  {
   "cell_type": "code",
   "execution_count": 41,
   "metadata": {
    "id": "EzXVRE1o_Zcu"
   },
   "outputs": [
    {
     "data": {
      "text/plain": [
       "genre\n",
       "pop            713\n",
       "rock           517\n",
       "dance          495\n",
       "electronic     482\n",
       "hiphop         273\n",
       "world          208\n",
       "ruspop         170\n",
       "alternative    163\n",
       "classical      163\n",
       "rusrap         142\n",
       "Name: genre, dtype: int64"
      ]
     },
     "execution_count": 41,
     "metadata": {},
     "output_type": "execute_result"
    }
   ],
   "source": [
    "genre_weekday(moscow_general, 'Friday', '17:00', '23:00')"
   ]
  },
  {
   "cell_type": "code",
   "execution_count": 42,
   "metadata": {
    "id": "JZaEKu5v_Zcu"
   },
   "outputs": [
    {
     "data": {
      "text/plain": [
       "genre\n",
       "pop            256\n",
       "electronic     216\n",
       "rock           216\n",
       "dance          210\n",
       "hiphop          97\n",
       "alternative     63\n",
       "jazz            61\n",
       "classical       60\n",
       "rusrap          59\n",
       "world           54\n",
       "Name: genre, dtype: int64"
      ]
     },
     "execution_count": 42,
     "metadata": {},
     "output_type": "execute_result"
    }
   ],
   "source": [
    "genre_weekday(spb_general, 'Friday', '17:00', '23:00')"
   ]
  },
  {
   "cell_type": "markdown",
   "metadata": {
    "id": "wrCe4MNX_Zcu"
   },
   "source": [
    "**Выводы**\n",
    "\n",
    "Если сравнить топ-10 жанров в понедельник утром, можно сделать такие выводы:\n",
    "\n",
    "1. В Москве и Петербурге слушают похожую музыку. Единственное отличие — в московский рейтинг вошёл жанр “world”, а в петербургский — джаз и классика.\n",
    "\n",
    "2. В Москве пропущенных значений оказалось так много, что значение `'unknown'` заняло десятое место среди самых популярных жанров. Значит, пропущенные значения занимают существенную долю в данных и угрожают достоверности исследования.\n",
    "\n",
    "Вечер пятницы не меняет эту картину. Некоторые жанры поднимаются немного выше, другие спускаются, но в целом топ-10 остаётся тем же самым.\n",
    "\n",
    "Таким образом, вторая гипотеза подтвердилась лишь частично:\n",
    "* Пользователи слушают похожую музыку в начале недели и в конце.\n",
    "* Разница между Москвой и Петербургом не слишком выражена. В Москве чаще слушают русскую популярную музыку, в Петербурге — джаз.\n",
    "\n",
    "Однако пропуски в данных ставят под сомнение этот результат. В Москве их так много, что рейтинг топ-10 мог бы выглядеть иначе, если бы не утерянные  данные о жанрах."
   ]
  },
  {
   "cell_type": "markdown",
   "metadata": {
    "id": "JolODAqr_Zcu"
   },
   "source": [
    "### Жанровые предпочтения в Москве и Петербурге\n",
    "\n",
    "Гипотеза: Петербург — столица рэпа, музыку этого жанра там слушают чаще, чем в Москве.  А Москва — город контрастов, в котором, тем не менее, преобладает поп-музыка."
   ]
  },
  {
   "cell_type": "markdown",
   "metadata": {
    "id": "DlegSvaT_Zcu"
   },
   "source": [
    "Сгруппируем таблицу `moscow_general` по жанру и посчитаем прослушивания треков каждого жанра методом `count()`. Затем отсортируем результат в порядке убывания и сохраним его в таблице `moscow_genres`."
   ]
  },
  {
   "cell_type": "code",
   "execution_count": 43,
   "metadata": {
    "id": "r19lIPke_Zcu"
   },
   "outputs": [],
   "source": [
    "moscow_genres = moscow_general.groupby('genre')['genre'].count().sort_values(ascending = False)"
   ]
  },
  {
   "cell_type": "markdown",
   "metadata": {
    "id": "6kMuomxTiIr8"
   },
   "source": [
    "Выведем на экран первые десять строк `moscow_genres`:"
   ]
  },
  {
   "cell_type": "code",
   "execution_count": 44,
   "metadata": {
    "id": "WhCSooF8_Zcv"
   },
   "outputs": [
    {
     "data": {
      "text/plain": [
       "genre\n",
       "pop            5892\n",
       "dance          4435\n",
       "rock           3965\n",
       "electronic     3786\n",
       "hiphop         2096\n",
       "classical      1616\n",
       "world          1432\n",
       "alternative    1379\n",
       "ruspop         1372\n",
       "rusrap         1161\n",
       "Name: genre, dtype: int64"
      ]
     },
     "execution_count": 44,
     "metadata": {},
     "output_type": "execute_result"
    }
   ],
   "source": [
    "moscow_genres.head(10)"
   ]
  },
  {
   "cell_type": "markdown",
   "metadata": {
    "id": "cnPG2vnN_Zcv"
   },
   "source": [
    "Теперь повторите то же и для Петербурга.\n",
    "\n",
    "Сгруппируем таблицу `spb_general` по жанру. Посчитаем прослушивания треков каждого жанра. Результат отсортируем в порядке убывания и сохраним в таблице `spb_genres`:\n"
   ]
  },
  {
   "cell_type": "code",
   "execution_count": 45,
   "metadata": {
    "id": "gluLIpE7_Zcv"
   },
   "outputs": [],
   "source": [
    "spb_genres = spb_general.groupby('genre')['genre'].count().sort_values(ascending = False)"
   ]
  },
  {
   "cell_type": "markdown",
   "metadata": {
    "id": "5Doha_ODgyQ8"
   },
   "source": [
    "Выведем на экран первые десять строк `spb_genres`:"
   ]
  },
  {
   "cell_type": "code",
   "execution_count": 46,
   "metadata": {
    "id": "uaGJHjVU_Zcv"
   },
   "outputs": [
    {
     "data": {
      "text/plain": [
       "genre\n",
       "pop            2431\n",
       "dance          1932\n",
       "rock           1879\n",
       "electronic     1736\n",
       "hiphop          960\n",
       "alternative     649\n",
       "classical       646\n",
       "rusrap          564\n",
       "ruspop          538\n",
       "world           515\n",
       "Name: genre, dtype: int64"
      ]
     },
     "execution_count": 46,
     "metadata": {},
     "output_type": "execute_result"
    }
   ],
   "source": [
    "spb_genres.head(10)"
   ]
  },
  {
   "cell_type": "markdown",
   "metadata": {
    "id": "RY51YJYu_Zcv"
   },
   "source": [
    "**Выводы**"
   ]
  },
  {
   "cell_type": "markdown",
   "metadata": {
    "id": "nVhnJEm__Zcv"
   },
   "source": [
    "Гипотеза частично подтвердилась:\n",
    "* Поп-музыка — самый популярный жанр в Москве, как и предполагала гипотеза. Более того, в топ-10 жанров встречается близкий жанр — русская популярная музыка.\n",
    "* Вопреки ожиданиям, рэп одинаково популярен в Москве и Петербурге. \n"
   ]
  },
  {
   "cell_type": "markdown",
   "metadata": {
    "id": "ykKQ0N65_Zcv"
   },
   "source": [
    "## Итоги исследования"
   ]
  },
  {
   "cell_type": "markdown",
   "metadata": {
    "id": "tjUwbHb3_Zcv"
   },
   "source": [
    "Были проверены три гипотезы и установлено:\n",
    "\n",
    "1. День недели по-разному влияет на активность пользователей в Москве и Петербурге. \n",
    "\n",
    "Первая гипотеза полностью подтвердилась.\n",
    "\n",
    "2. Музыкальные предпочтения не сильно меняются в течение недели — будь то Москва или Петербург. Небольшие различия заметны в начале недели, по понедельникам:\n",
    "* в Москве слушают музыку жанра “world”,\n",
    "* в Петербурге — джаз и классику.\n",
    "\n",
    "Таким образом, вторая гипотеза подтвердилась лишь отчасти. Этот результат мог оказаться иным, если бы не пропуски в данных.\n",
    "\n",
    "3. Во вкусах пользователей Москвы и Петербурга больше общего чем различий. Вопреки ожиданиям, предпочтения жанров в Петербурге напоминают московские.\n",
    "\n",
    "Третья гипотеза не подтвердилась. Если различия в предпочтениях и существуют, на основной массе пользователей они незаметны.\n",
    "\n",
    "**На практике исследования содержат проверки статистических гипотез.**\n",
    "Из данных одного сервиса не всегда можно сделать вывод о всех жителях города.\n",
    "Проверки статистических гипотез покажут, насколько они достоверны, исходя из имеющихся данных. \n",
    "С методами проверок гипотез вы ещё познакомитесь в следующих темах."
   ]
  }
 ],
 "metadata": {
  "ExecuteTimeLog": [
   {
    "duration": 294,
    "start_time": "2021-11-22T05:29:37.790Z"
   },
   {
    "duration": 257,
    "start_time": "2021-11-22T05:29:52.526Z"
   },
   {
    "duration": 262,
    "start_time": "2021-11-22T05:29:59.320Z"
   },
   {
    "duration": 602,
    "start_time": "2021-11-22T05:30:13.519Z"
   },
   {
    "duration": 127,
    "start_time": "2021-11-22T05:30:17.580Z"
   },
   {
    "duration": 17,
    "start_time": "2021-11-22T05:30:21.438Z"
   },
   {
    "duration": 10,
    "start_time": "2021-11-22T05:30:43.656Z"
   },
   {
    "duration": 24,
    "start_time": "2021-11-22T05:31:28.520Z"
   },
   {
    "duration": 3,
    "start_time": "2021-11-22T06:17:10.855Z"
   },
   {
    "duration": 4,
    "start_time": "2021-11-22T06:17:27.694Z"
   },
   {
    "duration": 4,
    "start_time": "2021-11-22T06:17:38.055Z"
   },
   {
    "duration": 3,
    "start_time": "2021-11-22T06:37:29.326Z"
   },
   {
    "duration": 123,
    "start_time": "2021-11-22T06:37:44.258Z"
   },
   {
    "duration": 3,
    "start_time": "2021-11-22T06:40:08.429Z"
   },
   {
    "duration": 19,
    "start_time": "2021-11-22T06:40:11.298Z"
   },
   {
    "duration": 4,
    "start_time": "2021-11-22T06:40:20.513Z"
   },
   {
    "duration": 282,
    "start_time": "2021-11-22T06:42:33.437Z"
   },
   {
    "duration": 25,
    "start_time": "2021-11-22T06:42:57.464Z"
   },
   {
    "duration": 3,
    "start_time": "2021-11-22T11:22:44.211Z"
   },
   {
    "duration": 298,
    "start_time": "2021-11-22T11:27:57.006Z"
   },
   {
    "duration": 354,
    "start_time": "2021-11-22T11:28:20.477Z"
   },
   {
    "duration": 82,
    "start_time": "2021-11-22T11:28:39.238Z"
   },
   {
    "duration": 85,
    "start_time": "2021-11-22T11:28:47.871Z"
   },
   {
    "duration": 3,
    "start_time": "2021-11-22T11:29:00.598Z"
   },
   {
    "duration": 108,
    "start_time": "2021-11-22T11:37:21.638Z"
   },
   {
    "duration": 127,
    "start_time": "2021-11-22T11:37:34.133Z"
   },
   {
    "duration": 86,
    "start_time": "2021-11-22T11:37:50.728Z"
   },
   {
    "duration": 264,
    "start_time": "2021-11-22T11:38:37.610Z"
   },
   {
    "duration": 185,
    "start_time": "2021-11-22T11:38:48.566Z"
   },
   {
    "duration": 84,
    "start_time": "2021-11-22T11:40:08.284Z"
   },
   {
    "duration": 22,
    "start_time": "2021-11-22T11:40:25.388Z"
   },
   {
    "duration": 64,
    "start_time": "2021-11-22T11:47:01.912Z"
   },
   {
    "duration": 51,
    "start_time": "2021-11-22T11:47:11.857Z"
   },
   {
    "duration": 52,
    "start_time": "2021-11-22T11:47:32.088Z"
   },
   {
    "duration": 36,
    "start_time": "2021-11-22T12:14:36.236Z"
   },
   {
    "duration": 22,
    "start_time": "2021-11-22T12:14:40.404Z"
   },
   {
    "duration": 22,
    "start_time": "2021-11-22T12:15:08.477Z"
   },
   {
    "duration": 4,
    "start_time": "2021-11-22T12:15:15.242Z"
   },
   {
    "duration": 23,
    "start_time": "2021-11-22T12:15:17.565Z"
   },
   {
    "duration": 24,
    "start_time": "2021-11-22T12:15:50.269Z"
   },
   {
    "duration": 4,
    "start_time": "2021-11-22T12:15:53.883Z"
   },
   {
    "duration": 23,
    "start_time": "2021-11-22T12:15:56.901Z"
   },
   {
    "duration": 3,
    "start_time": "2021-11-22T12:16:12.815Z"
   },
   {
    "duration": 23,
    "start_time": "2021-11-22T12:16:15.044Z"
   },
   {
    "duration": 23,
    "start_time": "2021-11-22T12:16:25.516Z"
   },
   {
    "duration": 400,
    "start_time": "2021-11-22T12:17:59.566Z"
   },
   {
    "duration": 577,
    "start_time": "2021-11-22T12:18:08.995Z"
   },
   {
    "duration": 134,
    "start_time": "2021-11-22T12:18:11.808Z"
   },
   {
    "duration": 22,
    "start_time": "2021-11-22T12:18:14.514Z"
   },
   {
    "duration": 25,
    "start_time": "2021-11-22T12:18:17.858Z"
   },
   {
    "duration": 3,
    "start_time": "2021-11-22T12:18:24.182Z"
   },
   {
    "duration": 22,
    "start_time": "2021-11-22T12:18:27.142Z"
   },
   {
    "duration": 4,
    "start_time": "2021-11-22T12:18:29.232Z"
   },
   {
    "duration": 22,
    "start_time": "2021-11-22T12:18:31.970Z"
   },
   {
    "duration": 311,
    "start_time": "2021-11-22T12:21:04.084Z"
   },
   {
    "duration": 42,
    "start_time": "2021-11-22T12:27:14.966Z"
   },
   {
    "duration": 49,
    "start_time": "2021-11-22T12:27:17.324Z"
   },
   {
    "duration": 33,
    "start_time": "2021-11-22T12:27:24.562Z"
   },
   {
    "duration": 72,
    "start_time": "2021-11-22T12:31:47.304Z"
   },
   {
    "duration": 18,
    "start_time": "2021-11-22T12:33:53.416Z"
   },
   {
    "duration": 21,
    "start_time": "2021-11-22T12:33:56.119Z"
   },
   {
    "duration": 62,
    "start_time": "2021-11-22T12:33:59.803Z"
   },
   {
    "duration": 72,
    "start_time": "2021-11-22T12:48:53.165Z"
   },
   {
    "duration": 62,
    "start_time": "2021-11-22T12:49:01.501Z"
   },
   {
    "duration": 129,
    "start_time": "2021-11-22T13:05:40.220Z"
   },
   {
    "duration": 168,
    "start_time": "2021-11-22T13:06:37.535Z"
   },
   {
    "duration": 83,
    "start_time": "2021-11-22T13:06:49.102Z"
   },
   {
    "duration": 68,
    "start_time": "2021-11-22T13:16:48.914Z"
   },
   {
    "duration": 67,
    "start_time": "2021-11-22T13:16:53.506Z"
   },
   {
    "duration": 65,
    "start_time": "2021-11-22T13:16:59.964Z"
   },
   {
    "duration": 918,
    "start_time": "2021-11-22T13:18:18.657Z"
   },
   {
    "duration": 967,
    "start_time": "2021-11-22T13:18:20.834Z"
   },
   {
    "duration": 933,
    "start_time": "2021-11-22T13:23:22.158Z"
   },
   {
    "duration": 880,
    "start_time": "2021-11-22T13:23:29.397Z"
   },
   {
    "duration": 807,
    "start_time": "2021-11-22T13:27:20.275Z"
   },
   {
    "duration": 815,
    "start_time": "2021-11-22T13:29:33.384Z"
   },
   {
    "duration": 837,
    "start_time": "2021-11-22T13:30:12.769Z"
   },
   {
    "duration": 6653,
    "start_time": "2021-11-22T13:31:51.931Z"
   },
   {
    "duration": 870,
    "start_time": "2021-11-22T13:36:38.210Z"
   },
   {
    "duration": 909,
    "start_time": "2021-11-22T13:37:36.427Z"
   },
   {
    "duration": 911,
    "start_time": "2021-11-22T13:38:01.472Z"
   },
   {
    "duration": 71,
    "start_time": "2021-11-22T13:39:44.039Z"
   },
   {
    "duration": 10875,
    "start_time": "2021-11-22T13:40:19.017Z"
   },
   {
    "duration": 11,
    "start_time": "2021-11-22T14:34:25.061Z"
   },
   {
    "duration": 37,
    "start_time": "2021-11-22T14:35:43.139Z"
   },
   {
    "duration": 41,
    "start_time": "2021-11-22T14:35:59.344Z"
   },
   {
    "duration": 30,
    "start_time": "2021-11-22T14:36:01.998Z"
   },
   {
    "duration": 43,
    "start_time": "2021-11-22T14:36:07.186Z"
   },
   {
    "duration": 28,
    "start_time": "2021-11-22T14:36:14.956Z"
   },
   {
    "duration": 3,
    "start_time": "2021-11-22T14:36:31.070Z"
   },
   {
    "duration": 183,
    "start_time": "2021-11-22T14:36:34.313Z"
   },
   {
    "duration": 9,
    "start_time": "2021-11-22T14:36:37.532Z"
   },
   {
    "duration": 25,
    "start_time": "2021-11-22T14:36:42.057Z"
   },
   {
    "duration": 4,
    "start_time": "2021-11-22T14:36:50.755Z"
   },
   {
    "duration": 14,
    "start_time": "2021-11-22T14:36:55.546Z"
   },
   {
    "duration": 3,
    "start_time": "2021-11-22T14:36:57.906Z"
   },
   {
    "duration": 22,
    "start_time": "2021-11-22T14:37:01.248Z"
   },
   {
    "duration": 22,
    "start_time": "2021-11-22T14:37:04.483Z"
   },
   {
    "duration": 31,
    "start_time": "2021-11-22T14:37:11.835Z"
   },
   {
    "duration": 22,
    "start_time": "2021-11-22T14:37:19.462Z"
   },
   {
    "duration": 24,
    "start_time": "2021-11-22T14:37:30.615Z"
   },
   {
    "duration": 16,
    "start_time": "2021-11-22T14:37:40.621Z"
   },
   {
    "duration": 23,
    "start_time": "2021-11-22T14:37:44.422Z"
   },
   {
    "duration": 51,
    "start_time": "2021-11-22T14:37:48.483Z"
   },
   {
    "duration": 56,
    "start_time": "2021-11-22T14:37:52.531Z"
   },
   {
    "duration": 49,
    "start_time": "2021-11-22T14:37:58.030Z"
   },
   {
    "duration": 62,
    "start_time": "2021-11-22T14:38:01.108Z"
   },
   {
    "duration": 60,
    "start_time": "2021-11-22T14:38:04.732Z"
   },
   {
    "duration": 60,
    "start_time": "2021-11-22T14:38:09.999Z"
   },
   {
    "duration": 46,
    "start_time": "2021-11-22T14:38:13.746Z"
   },
   {
    "duration": 9046,
    "start_time": "2021-11-22T15:07:45.080Z"
   },
   {
    "duration": 9111,
    "start_time": "2021-11-22T15:09:39.712Z"
   },
   {
    "duration": 52,
    "start_time": "2021-11-22T15:11:03.480Z"
   },
   {
    "duration": 291,
    "start_time": "2021-11-22T15:11:14.533Z"
   },
   {
    "duration": 324,
    "start_time": "2021-11-22T15:11:26.862Z"
   },
   {
    "duration": 9,
    "start_time": "2021-11-22T15:12:12.877Z"
   },
   {
    "duration": 9,
    "start_time": "2021-11-22T15:12:24.013Z"
   },
   {
    "duration": 3438,
    "start_time": "2021-11-22T15:12:39.841Z"
   },
   {
    "duration": 8,
    "start_time": "2021-11-22T15:12:48.344Z"
   },
   {
    "duration": 13,
    "start_time": "2021-11-22T15:12:58.733Z"
   },
   {
    "duration": 13,
    "start_time": "2021-11-22T17:58:04.024Z"
   },
   {
    "duration": 3,
    "start_time": "2021-11-22T18:10:51.098Z"
   },
   {
    "duration": 16,
    "start_time": "2021-11-22T18:12:48.603Z"
   },
   {
    "duration": 13,
    "start_time": "2021-11-22T18:13:01.274Z"
   },
   {
    "duration": 3,
    "start_time": "2021-11-22T18:17:55.747Z"
   },
   {
    "duration": 3,
    "start_time": "2021-11-22T18:17:59.327Z"
   },
   {
    "duration": 4,
    "start_time": "2021-11-22T18:18:09.996Z"
   },
   {
    "duration": 5,
    "start_time": "2021-11-22T18:19:40.165Z"
   },
   {
    "duration": 5,
    "start_time": "2021-11-22T18:20:22.078Z"
   },
   {
    "duration": 5,
    "start_time": "2021-11-22T18:20:25.385Z"
   },
   {
    "duration": 11,
    "start_time": "2021-11-22T18:21:59.238Z"
   },
   {
    "duration": 11,
    "start_time": "2021-11-22T18:23:10.075Z"
   },
   {
    "duration": 3,
    "start_time": "2021-11-22T18:47:44.037Z"
   },
   {
    "duration": 3,
    "start_time": "2021-11-22T18:47:49.302Z"
   },
   {
    "duration": 421,
    "start_time": "2021-11-22T18:49:24.214Z"
   },
   {
    "duration": 449,
    "start_time": "2021-11-22T18:50:10.193Z"
   },
   {
    "duration": 272,
    "start_time": "2021-11-22T18:52:52.213Z"
   },
   {
    "duration": 112,
    "start_time": "2021-11-22T18:54:57.823Z"
   },
   {
    "duration": 270,
    "start_time": "2021-11-22T18:55:16.904Z"
   },
   {
    "duration": 3,
    "start_time": "2021-11-22T18:57:45.199Z"
   },
   {
    "duration": 8271,
    "start_time": "2021-11-22T18:57:47.347Z"
   },
   {
    "duration": 278,
    "start_time": "2021-11-22T18:57:55.342Z"
   },
   {
    "duration": 278,
    "start_time": "2021-11-22T18:57:55.343Z"
   },
   {
    "duration": 278,
    "start_time": "2021-11-22T18:57:55.344Z"
   },
   {
    "duration": 3,
    "start_time": "2021-11-22T18:58:19.377Z"
   },
   {
    "duration": 280,
    "start_time": "2021-11-22T18:59:07.524Z"
   },
   {
    "duration": 280,
    "start_time": "2021-11-22T18:59:07.525Z"
   },
   {
    "duration": 279,
    "start_time": "2021-11-22T18:59:07.527Z"
   },
   {
    "duration": 278,
    "start_time": "2021-11-22T18:59:07.528Z"
   },
   {
    "duration": 278,
    "start_time": "2021-11-22T18:59:07.529Z"
   },
   {
    "duration": 277,
    "start_time": "2021-11-22T18:59:07.531Z"
   },
   {
    "duration": 263,
    "start_time": "2021-11-22T19:00:41.925Z"
   },
   {
    "duration": 260,
    "start_time": "2021-11-22T19:00:41.928Z"
   },
   {
    "duration": 260,
    "start_time": "2021-11-22T19:00:41.929Z"
   },
   {
    "duration": 260,
    "start_time": "2021-11-22T19:00:41.930Z"
   },
   {
    "duration": 258,
    "start_time": "2021-11-22T19:00:41.933Z"
   },
   {
    "duration": 257,
    "start_time": "2021-11-22T19:00:41.934Z"
   },
   {
    "duration": 257,
    "start_time": "2021-11-22T19:00:41.935Z"
   },
   {
    "duration": 257,
    "start_time": "2021-11-22T19:00:41.936Z"
   },
   {
    "duration": 24252,
    "start_time": "2021-11-22T19:00:43.286Z"
   },
   {
    "duration": 4,
    "start_time": "2021-11-22T19:04:37.684Z"
   },
   {
    "duration": 532,
    "start_time": "2021-11-22T19:04:41.546Z"
   },
   {
    "duration": 329,
    "start_time": "2021-11-23T05:28:10.554Z"
   },
   {
    "duration": 740,
    "start_time": "2021-11-23T05:28:20.084Z"
   },
   {
    "duration": 204,
    "start_time": "2021-11-23T05:28:22.908Z"
   },
   {
    "duration": 27,
    "start_time": "2021-11-23T05:28:25.219Z"
   },
   {
    "duration": 32,
    "start_time": "2021-11-23T05:28:28.460Z"
   },
   {
    "duration": 5,
    "start_time": "2021-11-23T05:28:32.966Z"
   },
   {
    "duration": 31,
    "start_time": "2021-11-23T05:28:36.502Z"
   },
   {
    "duration": 4,
    "start_time": "2021-11-23T05:28:39.030Z"
   },
   {
    "duration": 30,
    "start_time": "2021-11-23T05:28:41.721Z"
   },
   {
    "duration": 23,
    "start_time": "2021-11-23T05:28:45.468Z"
   },
   {
    "duration": 32,
    "start_time": "2021-11-23T05:28:47.625Z"
   },
   {
    "duration": 85,
    "start_time": "2021-11-23T05:28:50.806Z"
   },
   {
    "duration": 103,
    "start_time": "2021-11-23T05:28:53.157Z"
   },
   {
    "duration": 76,
    "start_time": "2021-11-23T05:28:56.171Z"
   },
   {
    "duration": 19,
    "start_time": "2021-11-23T05:28:59.099Z"
   },
   {
    "duration": 4,
    "start_time": "2021-11-23T05:29:04.462Z"
   },
   {
    "duration": 22,
    "start_time": "2021-11-23T05:29:06.713Z"
   },
   {
    "duration": 19,
    "start_time": "2021-11-23T05:29:09.563Z"
   },
   {
    "duration": 16,
    "start_time": "2021-11-23T05:31:54.266Z"
   },
   {
    "duration": 18,
    "start_time": "2021-11-23T05:31:58.727Z"
   },
   {
    "duration": 5,
    "start_time": "2021-11-23T05:32:03.846Z"
   },
   {
    "duration": 625,
    "start_time": "2021-11-23T05:32:07.960Z"
   },
   {
    "duration": 5,
    "start_time": "2021-11-23T05:35:45.648Z"
   },
   {
    "duration": 4,
    "start_time": "2021-11-23T05:35:47.946Z"
   },
   {
    "duration": 5,
    "start_time": "2021-11-23T05:35:50.179Z"
   },
   {
    "duration": 4,
    "start_time": "2021-11-23T05:37:22.470Z"
   },
   {
    "duration": 696,
    "start_time": "2021-11-23T05:37:25.450Z"
   },
   {
    "duration": 4,
    "start_time": "2021-11-23T05:46:00.688Z"
   },
   {
    "duration": 568,
    "start_time": "2021-11-23T05:46:03.490Z"
   },
   {
    "duration": 4,
    "start_time": "2021-11-23T05:47:24.658Z"
   },
   {
    "duration": 662,
    "start_time": "2021-11-23T05:47:26.787Z"
   },
   {
    "duration": 4,
    "start_time": "2021-11-23T05:48:12.081Z"
   },
   {
    "duration": 6904,
    "start_time": "2021-11-23T05:48:14.088Z"
   },
   {
    "duration": 20,
    "start_time": "2021-11-23T05:49:40.916Z"
   },
   {
    "duration": 4,
    "start_time": "2021-11-23T05:49:43.598Z"
   },
   {
    "duration": 21,
    "start_time": "2021-11-23T05:49:50.802Z"
   },
   {
    "duration": 4,
    "start_time": "2021-11-23T05:49:54.680Z"
   },
   {
    "duration": 4,
    "start_time": "2021-11-23T05:51:49.402Z"
   },
   {
    "duration": 198,
    "start_time": "2021-11-23T05:51:52.073Z"
   },
   {
    "duration": 25,
    "start_time": "2021-11-23T05:51:54.313Z"
   },
   {
    "duration": 32,
    "start_time": "2021-11-23T05:51:57.425Z"
   },
   {
    "duration": 5,
    "start_time": "2021-11-23T05:52:01.395Z"
   },
   {
    "duration": 18,
    "start_time": "2021-11-23T05:52:09.636Z"
   },
   {
    "duration": 5,
    "start_time": "2021-11-23T05:52:12.313Z"
   },
   {
    "duration": 30,
    "start_time": "2021-11-23T05:52:16.594Z"
   },
   {
    "duration": 22,
    "start_time": "2021-11-23T05:52:19.350Z"
   },
   {
    "duration": 29,
    "start_time": "2021-11-23T05:52:21.873Z"
   },
   {
    "duration": 83,
    "start_time": "2021-11-23T05:52:24.695Z"
   },
   {
    "duration": 98,
    "start_time": "2021-11-23T05:52:27.002Z"
   },
   {
    "duration": 80,
    "start_time": "2021-11-23T05:52:29.146Z"
   },
   {
    "duration": 20,
    "start_time": "2021-11-23T05:52:31.907Z"
   },
   {
    "duration": 5,
    "start_time": "2021-11-23T05:52:35.931Z"
   },
   {
    "duration": 21,
    "start_time": "2021-11-23T05:52:39.027Z"
   },
   {
    "duration": 17,
    "start_time": "2021-11-23T05:52:41.747Z"
   },
   {
    "duration": 15,
    "start_time": "2021-11-23T05:52:53.319Z"
   },
   {
    "duration": 15,
    "start_time": "2021-11-23T05:52:56.239Z"
   },
   {
    "duration": 4,
    "start_time": "2021-11-23T05:53:00.643Z"
   },
   {
    "duration": 24,
    "start_time": "2021-11-23T05:53:03.369Z"
   },
   {
    "duration": 18,
    "start_time": "2021-11-23T05:53:06.973Z"
   },
   {
    "duration": 20,
    "start_time": "2021-11-23T05:53:09.283Z"
   },
   {
    "duration": 18,
    "start_time": "2021-11-23T05:53:11.637Z"
   },
   {
    "duration": 22,
    "start_time": "2021-11-23T05:53:14.157Z"
   },
   {
    "duration": 18,
    "start_time": "2021-11-23T05:53:16.393Z"
   },
   {
    "duration": 89,
    "start_time": "2021-11-23T05:53:22.203Z"
   },
   {
    "duration": 15,
    "start_time": "2021-11-23T05:58:13.928Z"
   },
   {
    "duration": 15,
    "start_time": "2021-11-23T05:58:18.136Z"
   },
   {
    "duration": 178,
    "start_time": "2021-11-23T16:08:34.689Z"
   },
   {
    "duration": 21,
    "start_time": "2021-11-23T16:14:45.871Z"
   },
   {
    "duration": 17,
    "start_time": "2021-11-23T16:14:49.472Z"
   },
   {
    "duration": 324,
    "start_time": "2021-11-23T16:14:58.767Z"
   },
   {
    "duration": 124,
    "start_time": "2021-11-23T16:15:31.401Z"
   },
   {
    "duration": 6,
    "start_time": "2021-11-23T16:16:16.834Z"
   },
   {
    "duration": 5,
    "start_time": "2021-11-23T16:16:23.686Z"
   },
   {
    "duration": 7,
    "start_time": "2021-11-23T16:22:33.450Z"
   },
   {
    "duration": 6,
    "start_time": "2021-11-23T16:22:37.564Z"
   },
   {
    "duration": 5,
    "start_time": "2021-11-23T16:23:11.217Z"
   },
   {
    "duration": 20,
    "start_time": "2021-11-23T16:24:12.912Z"
   },
   {
    "duration": 92,
    "start_time": "2021-11-23T16:27:08.425Z"
   },
   {
    "duration": 7,
    "start_time": "2021-11-23T16:28:15.169Z"
   },
   {
    "duration": 7850,
    "start_time": "2021-11-23T16:29:00.003Z"
   },
   {
    "duration": 1002,
    "start_time": "2021-11-23T16:29:06.854Z"
   },
   {
    "duration": 16,
    "start_time": "2021-11-23T16:29:52.044Z"
   },
   {
    "duration": 13995,
    "start_time": "2021-11-23T16:30:32.180Z"
   },
   {
    "duration": 21,
    "start_time": "2021-11-23T16:31:29.497Z"
   },
   {
    "duration": 12,
    "start_time": "2021-11-23T16:31:32.099Z"
   },
   {
    "duration": 101,
    "start_time": "2021-11-23T16:34:37.020Z"
   },
   {
    "duration": 6,
    "start_time": "2021-11-23T16:34:52.010Z"
   },
   {
    "duration": 563,
    "start_time": "2021-11-23T16:34:54.880Z"
   },
   {
    "duration": 6,
    "start_time": "2021-11-23T16:37:09.142Z"
   },
   {
    "duration": 714,
    "start_time": "2021-11-23T16:37:12.215Z"
   },
   {
    "duration": 6,
    "start_time": "2021-11-23T16:37:37.983Z"
   },
   {
    "duration": 5,
    "start_time": "2021-11-23T16:38:12.671Z"
   },
   {
    "duration": 547,
    "start_time": "2021-11-23T16:38:15.630Z"
   },
   {
    "duration": 6,
    "start_time": "2021-11-23T16:41:15.838Z"
   },
   {
    "duration": 840,
    "start_time": "2021-11-23T16:41:18.436Z"
   },
   {
    "duration": 6,
    "start_time": "2021-11-23T16:41:58.060Z"
   },
   {
    "duration": 1068,
    "start_time": "2021-11-23T16:42:00.266Z"
   },
   {
    "duration": 6,
    "start_time": "2021-11-23T16:43:32.560Z"
   },
   {
    "duration": 714,
    "start_time": "2021-11-23T16:43:34.442Z"
   },
   {
    "duration": 8,
    "start_time": "2021-11-23T16:43:45.881Z"
   },
   {
    "duration": 650,
    "start_time": "2021-11-23T16:43:49.112Z"
   },
   {
    "duration": 5,
    "start_time": "2021-11-23T16:43:58.937Z"
   },
   {
    "duration": 1175,
    "start_time": "2021-11-23T16:44:01.217Z"
   },
   {
    "duration": 6,
    "start_time": "2021-11-23T16:44:17.145Z"
   },
   {
    "duration": 1026,
    "start_time": "2021-11-23T16:44:19.186Z"
   },
   {
    "duration": 6,
    "start_time": "2021-11-23T16:45:14.055Z"
   },
   {
    "duration": 639,
    "start_time": "2021-11-23T16:45:16.240Z"
   },
   {
    "duration": 6,
    "start_time": "2021-11-23T16:46:51.383Z"
   },
   {
    "duration": 1127,
    "start_time": "2021-11-23T16:46:53.583Z"
   },
   {
    "duration": 6,
    "start_time": "2021-11-23T16:47:36.094Z"
   },
   {
    "duration": 80,
    "start_time": "2021-11-23T16:47:38.177Z"
   },
   {
    "duration": 6,
    "start_time": "2021-11-23T16:48:30.648Z"
   },
   {
    "duration": 80,
    "start_time": "2021-11-23T16:48:32.693Z"
   },
   {
    "duration": 5,
    "start_time": "2021-11-23T16:48:42.545Z"
   },
   {
    "duration": 115,
    "start_time": "2021-11-23T16:48:44.837Z"
   },
   {
    "duration": 8,
    "start_time": "2021-11-23T16:49:39.964Z"
   },
   {
    "duration": 676,
    "start_time": "2021-11-23T16:49:41.978Z"
   },
   {
    "duration": 6,
    "start_time": "2021-11-23T16:49:49.387Z"
   },
   {
    "duration": 86,
    "start_time": "2021-11-23T16:49:51.572Z"
   },
   {
    "duration": 84,
    "start_time": "2021-11-23T16:53:46.977Z"
   },
   {
    "duration": 6,
    "start_time": "2021-11-23T16:54:34.352Z"
   },
   {
    "duration": 28,
    "start_time": "2021-11-23T16:54:36.552Z"
   },
   {
    "duration": 18,
    "start_time": "2021-11-23T16:55:10.800Z"
   },
   {
    "duration": 22,
    "start_time": "2021-11-23T16:55:45.536Z"
   },
   {
    "duration": 19,
    "start_time": "2021-11-23T16:56:01.477Z"
   },
   {
    "duration": 23,
    "start_time": "2021-11-23T16:57:42.151Z"
   },
   {
    "duration": 23,
    "start_time": "2021-11-23T16:57:44.094Z"
   },
   {
    "duration": 594,
    "start_time": "2021-11-24T09:51:57.339Z"
   },
   {
    "duration": 134,
    "start_time": "2021-11-24T09:51:59.404Z"
   },
   {
    "duration": 19,
    "start_time": "2021-11-24T09:52:01.930Z"
   },
   {
    "duration": 24,
    "start_time": "2021-11-24T09:52:05.668Z"
   },
   {
    "duration": 4,
    "start_time": "2021-11-24T09:52:10.126Z"
   },
   {
    "duration": 20,
    "start_time": "2021-11-24T09:52:13.116Z"
   },
   {
    "duration": 4,
    "start_time": "2021-11-24T09:52:16.690Z"
   },
   {
    "duration": 22,
    "start_time": "2021-11-24T09:52:18.968Z"
   },
   {
    "duration": 16,
    "start_time": "2021-11-24T09:52:22.530Z"
   },
   {
    "duration": 21,
    "start_time": "2021-11-24T09:52:24.562Z"
   },
   {
    "duration": 56,
    "start_time": "2021-11-24T09:52:27.805Z"
   },
   {
    "duration": 68,
    "start_time": "2021-11-24T09:52:30.237Z"
   },
   {
    "duration": 48,
    "start_time": "2021-11-24T09:52:32.516Z"
   },
   {
    "duration": 13,
    "start_time": "2021-11-24T09:52:35.469Z"
   },
   {
    "duration": 4,
    "start_time": "2021-11-24T09:52:42.433Z"
   },
   {
    "duration": 15,
    "start_time": "2021-11-24T09:52:44.853Z"
   },
   {
    "duration": 13,
    "start_time": "2021-11-24T09:52:47.779Z"
   },
   {
    "duration": 10,
    "start_time": "2021-11-24T09:52:58.665Z"
   },
   {
    "duration": 10,
    "start_time": "2021-11-24T09:53:01.526Z"
   },
   {
    "duration": 4,
    "start_time": "2021-11-24T09:53:04.669Z"
   },
   {
    "duration": 17,
    "start_time": "2021-11-24T09:53:08.021Z"
   },
   {
    "duration": 15,
    "start_time": "2021-11-24T09:53:10.350Z"
   },
   {
    "duration": 16,
    "start_time": "2021-11-24T09:53:12.662Z"
   },
   {
    "duration": 13,
    "start_time": "2021-11-24T09:53:15.291Z"
   },
   {
    "duration": 16,
    "start_time": "2021-11-24T09:53:17.885Z"
   },
   {
    "duration": 14,
    "start_time": "2021-11-24T09:53:20.371Z"
   },
   {
    "duration": 65,
    "start_time": "2021-11-24T09:53:24.353Z"
   },
   {
    "duration": 10,
    "start_time": "2021-11-24T09:53:32.630Z"
   },
   {
    "duration": 8,
    "start_time": "2021-11-24T09:53:34.744Z"
   },
   {
    "duration": 3,
    "start_time": "2021-11-24T09:53:38.198Z"
   },
   {
    "duration": 18,
    "start_time": "2021-11-24T09:53:41.138Z"
   },
   {
    "duration": 14,
    "start_time": "2021-11-24T09:53:43.439Z"
   },
   {
    "duration": 18,
    "start_time": "2021-11-24T09:53:47.268Z"
   },
   {
    "duration": 11,
    "start_time": "2021-11-24T09:53:50.009Z"
   },
   {
    "duration": 386,
    "start_time": "2021-11-24T13:10:32.878Z"
   },
   {
    "duration": 8,
    "start_time": "2021-11-24T13:10:46.656Z"
   },
   {
    "duration": 5,
    "start_time": "2021-11-24T13:11:06.619Z"
   },
   {
    "duration": 7,
    "start_time": "2021-11-24T13:18:24.276Z"
   },
   {
    "duration": 5,
    "start_time": "2021-11-24T13:18:36.731Z"
   },
   {
    "duration": 5,
    "start_time": "2021-11-24T13:19:03.619Z"
   },
   {
    "duration": 5,
    "start_time": "2021-11-24T13:19:10.466Z"
   },
   {
    "duration": 1054,
    "start_time": "2021-11-25T05:02:29.982Z"
   },
   {
    "duration": 201,
    "start_time": "2021-11-25T05:02:32.430Z"
   },
   {
    "duration": 29,
    "start_time": "2021-11-25T05:02:35.324Z"
   },
   {
    "duration": 35,
    "start_time": "2021-11-25T05:02:38.998Z"
   },
   {
    "duration": 6,
    "start_time": "2021-11-25T05:02:47.678Z"
   },
   {
    "duration": 31,
    "start_time": "2021-11-25T05:02:52.078Z"
   },
   {
    "duration": 5,
    "start_time": "2021-11-25T05:02:54.166Z"
   },
   {
    "duration": 31,
    "start_time": "2021-11-25T05:02:56.045Z"
   },
   {
    "duration": 23,
    "start_time": "2021-11-25T05:02:58.734Z"
   },
   {
    "duration": 29,
    "start_time": "2021-11-25T05:03:01.102Z"
   },
   {
    "duration": 90,
    "start_time": "2021-11-25T05:03:04.549Z"
   },
   {
    "duration": 145,
    "start_time": "2021-11-25T05:03:06.912Z"
   },
   {
    "duration": 79,
    "start_time": "2021-11-25T05:03:08.791Z"
   },
   {
    "duration": 19,
    "start_time": "2021-11-25T05:03:11.509Z"
   },
   {
    "duration": 4,
    "start_time": "2021-11-25T05:03:29.272Z"
   },
   {
    "duration": 22,
    "start_time": "2021-11-25T05:03:31.734Z"
   },
   {
    "duration": 19,
    "start_time": "2021-11-25T05:03:34.103Z"
   },
   {
    "duration": 16,
    "start_time": "2021-11-25T05:03:37.919Z"
   },
   {
    "duration": 23,
    "start_time": "2021-11-25T05:03:40.229Z"
   },
   {
    "duration": 5,
    "start_time": "2021-11-25T05:03:43.421Z"
   },
   {
    "duration": 23,
    "start_time": "2021-11-25T05:03:47.415Z"
   },
   {
    "duration": 19,
    "start_time": "2021-11-25T05:03:49.293Z"
   },
   {
    "duration": 20,
    "start_time": "2021-11-25T05:03:51.069Z"
   },
   {
    "duration": 20,
    "start_time": "2021-11-25T05:03:53.349Z"
   },
   {
    "duration": 21,
    "start_time": "2021-11-25T05:03:55.109Z"
   },
   {
    "duration": 19,
    "start_time": "2021-11-25T05:03:57.221Z"
   },
   {
    "duration": 95,
    "start_time": "2021-11-25T05:04:01.362Z"
   },
   {
    "duration": 22,
    "start_time": "2021-11-25T05:04:19.813Z"
   },
   {
    "duration": 17,
    "start_time": "2021-11-25T05:04:22.792Z"
   },
   {
    "duration": 5,
    "start_time": "2021-11-25T05:04:26.589Z"
   },
   {
    "duration": 23,
    "start_time": "2021-11-25T05:04:29.005Z"
   },
   {
    "duration": 24,
    "start_time": "2021-11-25T05:04:31.133Z"
   },
   {
    "duration": 32,
    "start_time": "2021-11-25T05:04:33.233Z"
   },
   {
    "duration": 18,
    "start_time": "2021-11-25T05:04:35.236Z"
   },
   {
    "duration": 13,
    "start_time": "2021-11-25T05:04:39.461Z"
   },
   {
    "duration": 8,
    "start_time": "2021-11-25T05:04:41.604Z"
   },
   {
    "duration": 10,
    "start_time": "2021-11-25T05:04:44.029Z"
   },
   {
    "duration": 8,
    "start_time": "2021-11-25T05:04:45.988Z"
   },
   {
    "duration": 350,
    "start_time": "2022-07-26T10:56:41.180Z"
   },
   {
    "duration": 585,
    "start_time": "2022-07-26T10:56:41.532Z"
   },
   {
    "duration": 15,
    "start_time": "2022-07-26T10:56:42.119Z"
   },
   {
    "duration": 27,
    "start_time": "2022-07-26T10:56:42.136Z"
   },
   {
    "duration": 4,
    "start_time": "2022-07-26T10:56:42.165Z"
   },
   {
    "duration": 14,
    "start_time": "2022-07-26T10:56:42.170Z"
   },
   {
    "duration": 8,
    "start_time": "2022-07-26T10:56:42.186Z"
   },
   {
    "duration": 32,
    "start_time": "2022-07-26T10:56:42.196Z"
   },
   {
    "duration": 32,
    "start_time": "2022-07-26T10:56:42.230Z"
   },
   {
    "duration": 20,
    "start_time": "2022-07-26T10:56:42.265Z"
   },
   {
    "duration": 68,
    "start_time": "2022-07-26T10:56:42.287Z"
   },
   {
    "duration": 66,
    "start_time": "2022-07-26T10:56:42.356Z"
   },
   {
    "duration": 69,
    "start_time": "2022-07-26T10:56:42.423Z"
   },
   {
    "duration": 12,
    "start_time": "2022-07-26T10:56:42.494Z"
   },
   {
    "duration": 5,
    "start_time": "2022-07-26T10:56:42.507Z"
   },
   {
    "duration": 21,
    "start_time": "2022-07-26T10:56:42.513Z"
   },
   {
    "duration": 23,
    "start_time": "2022-07-26T10:56:42.536Z"
   },
   {
    "duration": 15,
    "start_time": "2022-07-26T10:56:42.561Z"
   },
   {
    "duration": 11,
    "start_time": "2022-07-26T10:56:42.578Z"
   },
   {
    "duration": 6,
    "start_time": "2022-07-26T10:56:42.590Z"
   },
   {
    "duration": 18,
    "start_time": "2022-07-26T10:56:42.597Z"
   },
   {
    "duration": 14,
    "start_time": "2022-07-26T10:56:42.616Z"
   },
   {
    "duration": 13,
    "start_time": "2022-07-26T10:56:42.652Z"
   },
   {
    "duration": 12,
    "start_time": "2022-07-26T10:56:42.666Z"
   },
   {
    "duration": 14,
    "start_time": "2022-07-26T10:56:42.679Z"
   },
   {
    "duration": 13,
    "start_time": "2022-07-26T10:56:42.694Z"
   },
   {
    "duration": 92,
    "start_time": "2022-07-26T10:56:42.708Z"
   },
   {
    "duration": 13,
    "start_time": "2022-07-26T10:56:42.804Z"
   },
   {
    "duration": 11,
    "start_time": "2022-07-26T10:56:42.819Z"
   },
   {
    "duration": 5,
    "start_time": "2022-07-26T10:56:42.831Z"
   },
   {
    "duration": 22,
    "start_time": "2022-07-26T10:56:42.838Z"
   },
   {
    "duration": 10,
    "start_time": "2022-07-26T10:56:42.862Z"
   },
   {
    "duration": 18,
    "start_time": "2022-07-26T10:56:42.874Z"
   },
   {
    "duration": 9,
    "start_time": "2022-07-26T10:56:42.894Z"
   },
   {
    "duration": 7,
    "start_time": "2022-07-26T10:56:42.904Z"
   },
   {
    "duration": 45,
    "start_time": "2022-07-26T10:56:42.913Z"
   },
   {
    "duration": 7,
    "start_time": "2022-07-26T10:56:42.959Z"
   },
   {
    "duration": 6,
    "start_time": "2022-07-26T10:56:42.967Z"
   }
  ],
  "colab": {
   "collapsed_sections": [
    "E0vqbgi9ay0H",
    "VUC88oWjTJw2"
   ],
   "name": "yandex_music_project_2021.2.ipynb",
   "provenance": []
  },
  "kernelspec": {
   "display_name": "Python 3 (ipykernel)",
   "language": "python",
   "name": "python3"
  },
  "language_info": {
   "codemirror_mode": {
    "name": "ipython",
    "version": 3
   },
   "file_extension": ".py",
   "mimetype": "text/x-python",
   "name": "python",
   "nbconvert_exporter": "python",
   "pygments_lexer": "ipython3",
   "version": "3.9.7"
  },
  "toc": {
   "base_numbering": 1,
   "nav_menu": {},
   "number_sections": true,
   "sideBar": true,
   "skip_h1_title": true,
   "title_cell": "Table of Contents",
   "title_sidebar": "Contents",
   "toc_cell": false,
   "toc_position": {},
   "toc_section_display": true,
   "toc_window_display": true
  }
 },
 "nbformat": 4,
 "nbformat_minor": 1
}
