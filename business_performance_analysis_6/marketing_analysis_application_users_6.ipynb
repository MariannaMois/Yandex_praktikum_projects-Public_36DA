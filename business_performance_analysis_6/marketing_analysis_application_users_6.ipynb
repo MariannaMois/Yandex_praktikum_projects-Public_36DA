{
 "cells": [
  {
   "cell_type": "markdown",
   "metadata": {},
   "source": [
    "### Содержание\n",
    "\n",
    "####  Изучение данных из файла\n",
    " \n",
    "#### Функции для расчета и анализа LTV, ROI, удержания и конверсии\n",
    "\n",
    "#### Исследовательский анализ данных\n",
    "\n",
    "####  Маркетинговый анализ\n",
    "\n",
    "#### Оценка окупаемости рекламы для привлечения пользователей\n",
    "\n",
    "#### Выводы и рекомендации\n",
    "- Выделите причины неэффективности привлечения пользователей;\n",
    "- Сформируйте рекомендации для отдела маркетинга для повышения эффективности.\n",
    "\n",
    "\n",
    "### Описание исследования\n",
    "Предоставлены данные о пользователях развлекательного приложения Procrastinate Pro+. Выявлено, что несмотря на огромные вложения в рекламу, последние несколько месяцев компания терпит убытки. Требуется разобраться в причинах и помочь компании выйти в плюс.\n",
    "\n",
    "#### Описание данных\n",
    "Предоставлены данные о посещениях, заказах, затратах на маркетинг. Таблица visits_log_short (лог сервера с информацией о посещениях сайта):\n",
    "\n",
    "* `User Id` — уникальный идентификатор пользователя\n",
    "* `Device` — категория устройства пользователя\n",
    "* `Session start` — дата и время начала сессии\n",
    "* `Session End` — дата и время окончания сессии\n",
    "* `Channel` — идентификатор рекламного источника, из которого пришел пользователь\n",
    "* `Region` - страна пользователя\n",
    "\n",
    "Таблица orders_log_short (информация о заказах):\n",
    "\n",
    "* `User Id` — уникальный id пользователя, который сделал заказ\n",
    "* `Event Dt` — дата и время покупки\n",
    "* `Revenue` — выручка\n",
    "\n",
    "Таблица costs_short (информация о затратах на маркетинг):\n",
    "\n",
    "* `Channel` — идентификатор рекламного источника\n",
    "* `Dt` — дата\n",
    "* `Costs` — затраты на этот рекламный источник в этот день\n",
    "\n",
    "#### Цель исследования\n",
    "Дать рекомендации по маркетинговому продвижению приложения Procrastinate Pro+ на основе выявленных в исследовании факторов и причины неэффективности привлечения пользователей.\n",
    "\n",
    "#### Задачи\n",
    "Для достижения цели следует определить:\n",
    "* `как люди пользуются продуктом, когда они начинают покупать (по устройствам, странам, рекламным каналам)`;\n",
    "* `сколько денег приносит каждый клиент, когда он окупается` ;\n",
    "* `какие факторы отричательно влияют на привлечение пользователей`.\n",
    "\n",
    "#### Описание данных\n",
    "Данные о пользователях, привлечённых с 1 мая по 27 октября 2019 года:\n",
    "* `лог сервера с данными об их посещениях`,\n",
    "* `выгрузка их покупок за этот период`,\n",
    "* `рекламные расходы`.\n"
   ]
  },
  {
   "cell_type": "markdown",
   "metadata": {},
   "source": [
    "# Шаг 1. Загрузите данные и подготовьте их к анализу\n",
    "Загрузите данные о визитах, заказах и расходах в переменные. Оптимизируйте данные для анализа. Убедитесь, что тип данных в каждой колонке — правильный. Путь к файлам:\n",
    "\n",
    " -   /datasets/visits_info_short.csv. \n",
    " -   /datasets/orders_info_short.csv. \n",
    " -   /datasets/costs_info_short.csv."
   ]
  },
  {
   "cell_type": "code",
   "execution_count": 1,
   "metadata": {
    "scrolled": true
   },
   "outputs": [
    {
     "name": "stdout",
     "output_type": "stream",
     "text": [
      "<class 'pandas.core.frame.DataFrame'>\n",
      "RangeIndex: 309901 entries, 0 to 309900\n",
      "Data columns (total 8 columns):\n",
      "user_id          309901 non-null int64\n",
      "region           309901 non-null object\n",
      "device           309901 non-null object\n",
      "channel          309901 non-null object\n",
      "session_start    309901 non-null object\n",
      "session_end      309901 non-null object\n",
      "session_start    309901 non-null datetime64[ns]\n",
      "session_end      309901 non-null datetime64[ns]\n",
      "dtypes: datetime64[ns](2), int64(1), object(5)\n",
      "memory usage: 18.9+ MB\n",
      "<class 'pandas.core.frame.DataFrame'>\n",
      "RangeIndex: 40212 entries, 0 to 40211\n",
      "Data columns (total 4 columns):\n",
      "user_id     40212 non-null int64\n",
      "event_dt    40212 non-null object\n",
      "revenue     40212 non-null float64\n",
      "event_dt    40212 non-null datetime64[ns]\n",
      "dtypes: datetime64[ns](1), float64(1), int64(1), object(1)\n",
      "memory usage: 1.2+ MB\n",
      "<class 'pandas.core.frame.DataFrame'>\n",
      "RangeIndex: 1800 entries, 0 to 1799\n",
      "Data columns (total 3 columns):\n",
      "dt         1800 non-null object\n",
      "channel    1800 non-null object\n",
      "costs      1800 non-null float64\n",
      "dtypes: float64(1), object(2)\n",
      "memory usage: 42.3+ KB\n"
     ]
    }
   ],
   "source": [
    "import pandas as pd\n",
    "import numpy as np\n",
    "from datetime import datetime, timedelta\n",
    "import seaborn as sns\n",
    "from matplotlib import pyplot as plt\n",
    "import math\n",
    "import datetime\n",
    "\n",
    "#данные о визитах, заказах и рекламных тратах\n",
    "\n",
    "visits, orders, costs = (\n",
    "    pd.read_csv('visits_info_short.csv'),  # журнал сессий\n",
    "    pd.read_csv('orders_info_short.csv'),  # покупки\n",
    "    pd.read_csv('costs_info_short.csv'),  # траты на рекламу\n",
    ")\n",
    "\n",
    "# преобразование данных о времени\n",
    "visits['session_start'] = pd.to_datetime(visits['Session Start'])\n",
    "visits['session_end'] = pd.to_datetime(visits['Session End'])\n",
    "orders['event_dt'] = pd.to_datetime(orders['Event Dt'])\n",
    "costs['dt'] = pd.to_datetime(costs['dt']).dt.date \n",
    "\n",
    "#регион, устройство и канал приведем к строковому типу, переименуем id\n",
    "#visits['region'] = visits['Region'].astype(str)\n",
    "#visits['device'] = visits['Device'].astype(str)\n",
    "#visits['channel'] = visits['Channel'].astype(str)\n",
    "\n",
    "#строки нового решения закомментила\n",
    "visits.columns = [x.lower().replace(' ', '_') for x in visits.columns.values]\n",
    "orders.columns = [x.lower().replace(' ', '_') for x in orders.columns.values]\n",
    "costs.columns = [x.lower().replace(' ', '_') for x in costs.columns.values]\n",
    "\n",
    "\n",
    "visits = visits.rename(columns={'User Id': 'user_id'})\n",
    "orders = orders.rename(columns={'User Id': 'user_id', 'Revenue': 'revenue'})\n",
    "costs = costs.rename(columns={'Channel': 'channel'})\n",
    "\n",
    "\n",
    "#проверим наличие дубликатов. дубликаты отсутствуют\n",
    "#orders[orders.duplicated()]\n",
    "#visits[visits.duplicated()]\n",
    "#costs[costs.duplicated()]\n",
    "\n",
    "visits.info()\n",
    "orders.info()\n",
    "costs.info()"
   ]
  },
  {
   "cell_type": "code",
   "execution_count": 2,
   "metadata": {},
   "outputs": [
    {
     "data": {
      "text/html": [
       "<div>\n",
       "<style scoped>\n",
       "    .dataframe tbody tr th:only-of-type {\n",
       "        vertical-align: middle;\n",
       "    }\n",
       "\n",
       "    .dataframe tbody tr th {\n",
       "        vertical-align: top;\n",
       "    }\n",
       "\n",
       "    .dataframe thead th {\n",
       "        text-align: right;\n",
       "    }\n",
       "</style>\n",
       "<table border=\"1\" class=\"dataframe\">\n",
       "  <thead>\n",
       "    <tr style=\"text-align: right;\">\n",
       "      <th></th>\n",
       "      <th>user_id</th>\n",
       "      <th>region</th>\n",
       "      <th>device</th>\n",
       "      <th>channel</th>\n",
       "      <th>session_start</th>\n",
       "      <th>session_end</th>\n",
       "      <th>session_start</th>\n",
       "      <th>session_end</th>\n",
       "    </tr>\n",
       "  </thead>\n",
       "  <tbody>\n",
       "    <tr>\n",
       "      <td>0</td>\n",
       "      <td>981449118918</td>\n",
       "      <td>United States</td>\n",
       "      <td>iPhone</td>\n",
       "      <td>organic</td>\n",
       "      <td>2019-05-01 02:36:01</td>\n",
       "      <td>2019-05-01 02:45:01</td>\n",
       "      <td>2019-05-01 02:36:01</td>\n",
       "      <td>2019-05-01 02:45:01</td>\n",
       "    </tr>\n",
       "    <tr>\n",
       "      <td>1</td>\n",
       "      <td>278965908054</td>\n",
       "      <td>United States</td>\n",
       "      <td>iPhone</td>\n",
       "      <td>organic</td>\n",
       "      <td>2019-05-01 04:46:31</td>\n",
       "      <td>2019-05-01 04:47:35</td>\n",
       "      <td>2019-05-01 04:46:31</td>\n",
       "      <td>2019-05-01 04:47:35</td>\n",
       "    </tr>\n",
       "    <tr>\n",
       "      <td>2</td>\n",
       "      <td>590706206550</td>\n",
       "      <td>United States</td>\n",
       "      <td>Mac</td>\n",
       "      <td>organic</td>\n",
       "      <td>2019-05-01 14:09:25</td>\n",
       "      <td>2019-05-01 15:32:08</td>\n",
       "      <td>2019-05-01 14:09:25</td>\n",
       "      <td>2019-05-01 15:32:08</td>\n",
       "    </tr>\n",
       "    <tr>\n",
       "      <td>3</td>\n",
       "      <td>326433527971</td>\n",
       "      <td>United States</td>\n",
       "      <td>Android</td>\n",
       "      <td>TipTop</td>\n",
       "      <td>2019-05-01 00:29:59</td>\n",
       "      <td>2019-05-01 00:54:25</td>\n",
       "      <td>2019-05-01 00:29:59</td>\n",
       "      <td>2019-05-01 00:54:25</td>\n",
       "    </tr>\n",
       "    <tr>\n",
       "      <td>4</td>\n",
       "      <td>349773784594</td>\n",
       "      <td>United States</td>\n",
       "      <td>Mac</td>\n",
       "      <td>organic</td>\n",
       "      <td>2019-05-01 03:33:35</td>\n",
       "      <td>2019-05-01 03:57:40</td>\n",
       "      <td>2019-05-01 03:33:35</td>\n",
       "      <td>2019-05-01 03:57:40</td>\n",
       "    </tr>\n",
       "  </tbody>\n",
       "</table>\n",
       "</div>"
      ],
      "text/plain": [
       "        user_id         region   device  channel        session_start  \\\n",
       "0  981449118918  United States   iPhone  organic  2019-05-01 02:36:01   \n",
       "1  278965908054  United States   iPhone  organic  2019-05-01 04:46:31   \n",
       "2  590706206550  United States      Mac  organic  2019-05-01 14:09:25   \n",
       "3  326433527971  United States  Android   TipTop  2019-05-01 00:29:59   \n",
       "4  349773784594  United States      Mac  organic  2019-05-01 03:33:35   \n",
       "\n",
       "           session_end       session_start         session_end  \n",
       "0  2019-05-01 02:45:01 2019-05-01 02:36:01 2019-05-01 02:45:01  \n",
       "1  2019-05-01 04:47:35 2019-05-01 04:46:31 2019-05-01 04:47:35  \n",
       "2  2019-05-01 15:32:08 2019-05-01 14:09:25 2019-05-01 15:32:08  \n",
       "3  2019-05-01 00:54:25 2019-05-01 00:29:59 2019-05-01 00:54:25  \n",
       "4  2019-05-01 03:57:40 2019-05-01 03:33:35 2019-05-01 03:57:40  "
      ]
     },
     "metadata": {},
     "output_type": "display_data"
    },
    {
     "name": "stdout",
     "output_type": "stream",
     "text": [
      "<class 'pandas.core.frame.DataFrame'>\n",
      "RangeIndex: 309901 entries, 0 to 309900\n",
      "Data columns (total 8 columns):\n",
      "user_id          309901 non-null int64\n",
      "region           309901 non-null object\n",
      "device           309901 non-null object\n",
      "channel          309901 non-null object\n",
      "session_start    309901 non-null object\n",
      "session_end      309901 non-null object\n",
      "session_start    309901 non-null datetime64[ns]\n",
      "session_end      309901 non-null datetime64[ns]\n",
      "dtypes: datetime64[ns](2), int64(1), object(5)\n",
      "memory usage: 18.9+ MB\n",
      "Количество дубликатов - 0\n"
     ]
    },
    {
     "data": {
      "text/html": [
       "<div>\n",
       "<style scoped>\n",
       "    .dataframe tbody tr th:only-of-type {\n",
       "        vertical-align: middle;\n",
       "    }\n",
       "\n",
       "    .dataframe tbody tr th {\n",
       "        vertical-align: top;\n",
       "    }\n",
       "\n",
       "    .dataframe thead th {\n",
       "        text-align: right;\n",
       "    }\n",
       "</style>\n",
       "<table border=\"1\" class=\"dataframe\">\n",
       "  <thead>\n",
       "    <tr style=\"text-align: right;\">\n",
       "      <th></th>\n",
       "      <th>user_id</th>\n",
       "    </tr>\n",
       "  </thead>\n",
       "  <tbody>\n",
       "    <tr>\n",
       "      <td>count</td>\n",
       "      <td>3.099010e+05</td>\n",
       "    </tr>\n",
       "    <tr>\n",
       "      <td>mean</td>\n",
       "      <td>4.997664e+11</td>\n",
       "    </tr>\n",
       "    <tr>\n",
       "      <td>std</td>\n",
       "      <td>2.887899e+11</td>\n",
       "    </tr>\n",
       "    <tr>\n",
       "      <td>min</td>\n",
       "      <td>5.993260e+05</td>\n",
       "    </tr>\n",
       "    <tr>\n",
       "      <td>25%</td>\n",
       "      <td>2.493691e+11</td>\n",
       "    </tr>\n",
       "    <tr>\n",
       "      <td>50%</td>\n",
       "      <td>4.989906e+11</td>\n",
       "    </tr>\n",
       "    <tr>\n",
       "      <td>75%</td>\n",
       "      <td>7.495211e+11</td>\n",
       "    </tr>\n",
       "    <tr>\n",
       "      <td>max</td>\n",
       "      <td>9.999996e+11</td>\n",
       "    </tr>\n",
       "  </tbody>\n",
       "</table>\n",
       "</div>"
      ],
      "text/plain": [
       "            user_id\n",
       "count  3.099010e+05\n",
       "mean   4.997664e+11\n",
       "std    2.887899e+11\n",
       "min    5.993260e+05\n",
       "25%    2.493691e+11\n",
       "50%    4.989906e+11\n",
       "75%    7.495211e+11\n",
       "max    9.999996e+11"
      ]
     },
     "metadata": {},
     "output_type": "display_data"
    },
    {
     "data": {
      "text/plain": [
       "United States    207327\n",
       "UK                36419\n",
       "France            35396\n",
       "Germany           30759\n",
       "Name: region, dtype: int64"
      ]
     },
     "metadata": {},
     "output_type": "display_data"
    },
    {
     "name": "stdout",
     "output_type": "stream",
     "text": [
      "**************************************************\n"
     ]
    },
    {
     "data": {
      "text/plain": [
       "iPhone     112603\n",
       "Android     72590\n",
       "PC          62686\n",
       "Mac         62022\n",
       "Name: device, dtype: int64"
      ]
     },
     "metadata": {},
     "output_type": "display_data"
    },
    {
     "name": "stdout",
     "output_type": "stream",
     "text": [
      "**************************************************\n"
     ]
    },
    {
     "data": {
      "text/plain": [
       "organic               107760\n",
       "TipTop                 54794\n",
       "FaceBoom               49022\n",
       "WahooNetBanner         20465\n",
       "LeapBob                17013\n",
       "OppleCreativeMedia     16794\n",
       "RocketSuperAds         12724\n",
       "YRabbit                 9053\n",
       "MediaTornado            8878\n",
       "AdNonSense              6891\n",
       "lambdaMediaAds          6507\n",
       "Name: channel, dtype: int64"
      ]
     },
     "metadata": {},
     "output_type": "display_data"
    },
    {
     "name": "stdout",
     "output_type": "stream",
     "text": [
      "**************************************************\n"
     ]
    },
    {
     "ename": "ValueError",
     "evalue": "cannot assemble with duplicate keys",
     "output_type": "error",
     "traceback": [
      "\u001b[1;31m---------------------------------------------------------------------------\u001b[0m",
      "\u001b[1;31mValueError\u001b[0m                                Traceback (most recent call last)",
      "\u001b[1;32m~\\AppData\\Local\\Temp/ipykernel_14052/3763275639.py\u001b[0m in \u001b[0;36m<module>\u001b[1;34m\u001b[0m\n\u001b[0;32m     15\u001b[0m                 \u001b[0mprint\u001b[0m\u001b[1;33m(\u001b[0m\u001b[1;36m50\u001b[0m\u001b[1;33m*\u001b[0m\u001b[1;34m'*'\u001b[0m\u001b[1;33m)\u001b[0m\u001b[1;33m\u001b[0m\u001b[1;33m\u001b[0m\u001b[0m\n\u001b[0;32m     16\u001b[0m     \u001b[1;32mreturn\u001b[0m \u001b[0mdf\u001b[0m\u001b[1;33m\u001b[0m\u001b[1;33m\u001b[0m\u001b[0m\n\u001b[1;32m---> 17\u001b[1;33m \u001b[0mvisits\u001b[0m \u001b[1;33m=\u001b[0m \u001b[0minspect\u001b[0m\u001b[1;33m(\u001b[0m\u001b[0mvisits\u001b[0m\u001b[1;33m)\u001b[0m\u001b[1;33m\u001b[0m\u001b[1;33m\u001b[0m\u001b[0m\n\u001b[0m",
      "\u001b[1;32m~\\AppData\\Local\\Temp/ipykernel_14052/3763275639.py\u001b[0m in \u001b[0;36minspect\u001b[1;34m(df)\u001b[0m\n\u001b[0;32m     10\u001b[0m         \u001b[1;32mif\u001b[0m \u001b[0mcolumn_name\u001b[0m \u001b[1;32mnot\u001b[0m \u001b[1;32min\u001b[0m \u001b[0mnumeric_columns\u001b[0m\u001b[1;33m:\u001b[0m\u001b[1;33m\u001b[0m\u001b[1;33m\u001b[0m\u001b[0m\n\u001b[0;32m     11\u001b[0m             \u001b[1;32mif\u001b[0m \u001b[1;34m'session'\u001b[0m \u001b[1;32min\u001b[0m \u001b[0mcolumn_name\u001b[0m \u001b[1;32mor\u001b[0m \u001b[1;34m'dt'\u001b[0m \u001b[1;32min\u001b[0m \u001b[0mcolumn_name\u001b[0m\u001b[1;33m:\u001b[0m\u001b[1;33m\u001b[0m\u001b[1;33m\u001b[0m\u001b[0m\n\u001b[1;32m---> 12\u001b[1;33m                 \u001b[0mdf\u001b[0m\u001b[1;33m[\u001b[0m\u001b[0mcolumn_name\u001b[0m\u001b[1;33m]\u001b[0m \u001b[1;33m=\u001b[0m \u001b[0mpd\u001b[0m\u001b[1;33m.\u001b[0m\u001b[0mto_datetime\u001b[0m\u001b[1;33m(\u001b[0m\u001b[0mdf\u001b[0m\u001b[1;33m[\u001b[0m\u001b[0mcolumn_name\u001b[0m\u001b[1;33m]\u001b[0m\u001b[1;33m)\u001b[0m\u001b[1;33m\u001b[0m\u001b[1;33m\u001b[0m\u001b[0m\n\u001b[0m\u001b[0;32m     13\u001b[0m             \u001b[1;32melse\u001b[0m\u001b[1;33m:\u001b[0m\u001b[1;33m\u001b[0m\u001b[1;33m\u001b[0m\u001b[0m\n\u001b[0;32m     14\u001b[0m                 \u001b[0mdisplay\u001b[0m\u001b[1;33m(\u001b[0m\u001b[0mdf\u001b[0m\u001b[1;33m[\u001b[0m\u001b[0mcolumn_name\u001b[0m\u001b[1;33m]\u001b[0m\u001b[1;33m.\u001b[0m\u001b[0mvalue_counts\u001b[0m\u001b[1;33m(\u001b[0m\u001b[1;33m)\u001b[0m\u001b[1;33m)\u001b[0m\u001b[1;33m\u001b[0m\u001b[1;33m\u001b[0m\u001b[0m\n",
      "\u001b[1;32m~\\anaconda3\\envs\\praktikum_env_win_new\\lib\\site-packages\\pandas\\util\\_decorators.py\u001b[0m in \u001b[0;36mwrapper\u001b[1;34m(*args, **kwargs)\u001b[0m\n\u001b[0;32m    206\u001b[0m                 \u001b[1;32melse\u001b[0m\u001b[1;33m:\u001b[0m\u001b[1;33m\u001b[0m\u001b[1;33m\u001b[0m\u001b[0m\n\u001b[0;32m    207\u001b[0m                     \u001b[0mkwargs\u001b[0m\u001b[1;33m[\u001b[0m\u001b[0mnew_arg_name\u001b[0m\u001b[1;33m]\u001b[0m \u001b[1;33m=\u001b[0m \u001b[0mnew_arg_value\u001b[0m\u001b[1;33m\u001b[0m\u001b[1;33m\u001b[0m\u001b[0m\n\u001b[1;32m--> 208\u001b[1;33m             \u001b[1;32mreturn\u001b[0m \u001b[0mfunc\u001b[0m\u001b[1;33m(\u001b[0m\u001b[1;33m*\u001b[0m\u001b[0margs\u001b[0m\u001b[1;33m,\u001b[0m \u001b[1;33m**\u001b[0m\u001b[0mkwargs\u001b[0m\u001b[1;33m)\u001b[0m\u001b[1;33m\u001b[0m\u001b[1;33m\u001b[0m\u001b[0m\n\u001b[0m\u001b[0;32m    209\u001b[0m \u001b[1;33m\u001b[0m\u001b[0m\n\u001b[0;32m    210\u001b[0m         \u001b[1;32mreturn\u001b[0m \u001b[0mwrapper\u001b[0m\u001b[1;33m\u001b[0m\u001b[1;33m\u001b[0m\u001b[0m\n",
      "\u001b[1;32m~\\anaconda3\\envs\\praktikum_env_win_new\\lib\\site-packages\\pandas\\core\\tools\\datetimes.py\u001b[0m in \u001b[0;36mto_datetime\u001b[1;34m(arg, errors, dayfirst, yearfirst, utc, box, format, exact, unit, infer_datetime_format, origin, cache)\u001b[0m\n\u001b[0;32m    779\u001b[0m             \u001b[0mresult\u001b[0m \u001b[1;33m=\u001b[0m \u001b[0marg\u001b[0m\u001b[1;33m.\u001b[0m\u001b[0m_constructor\u001b[0m\u001b[1;33m(\u001b[0m\u001b[0mvalues\u001b[0m\u001b[1;33m,\u001b[0m \u001b[0mindex\u001b[0m\u001b[1;33m=\u001b[0m\u001b[0marg\u001b[0m\u001b[1;33m.\u001b[0m\u001b[0mindex\u001b[0m\u001b[1;33m,\u001b[0m \u001b[0mname\u001b[0m\u001b[1;33m=\u001b[0m\u001b[0marg\u001b[0m\u001b[1;33m.\u001b[0m\u001b[0mname\u001b[0m\u001b[1;33m)\u001b[0m\u001b[1;33m\u001b[0m\u001b[1;33m\u001b[0m\u001b[0m\n\u001b[0;32m    780\u001b[0m     \u001b[1;32melif\u001b[0m \u001b[0misinstance\u001b[0m\u001b[1;33m(\u001b[0m\u001b[0marg\u001b[0m\u001b[1;33m,\u001b[0m \u001b[1;33m(\u001b[0m\u001b[0mABCDataFrame\u001b[0m\u001b[1;33m,\u001b[0m \u001b[0mabc\u001b[0m\u001b[1;33m.\u001b[0m\u001b[0mMutableMapping\u001b[0m\u001b[1;33m)\u001b[0m\u001b[1;33m)\u001b[0m\u001b[1;33m:\u001b[0m\u001b[1;33m\u001b[0m\u001b[1;33m\u001b[0m\u001b[0m\n\u001b[1;32m--> 781\u001b[1;33m         \u001b[0mresult\u001b[0m \u001b[1;33m=\u001b[0m \u001b[0m_assemble_from_unit_mappings\u001b[0m\u001b[1;33m(\u001b[0m\u001b[0marg\u001b[0m\u001b[1;33m,\u001b[0m \u001b[0merrors\u001b[0m\u001b[1;33m,\u001b[0m \u001b[0mbox\u001b[0m\u001b[1;33m,\u001b[0m \u001b[0mtz\u001b[0m\u001b[1;33m)\u001b[0m\u001b[1;33m\u001b[0m\u001b[1;33m\u001b[0m\u001b[0m\n\u001b[0m\u001b[0;32m    782\u001b[0m     \u001b[1;32melif\u001b[0m \u001b[0misinstance\u001b[0m\u001b[1;33m(\u001b[0m\u001b[0marg\u001b[0m\u001b[1;33m,\u001b[0m \u001b[0mABCIndexClass\u001b[0m\u001b[1;33m)\u001b[0m\u001b[1;33m:\u001b[0m\u001b[1;33m\u001b[0m\u001b[1;33m\u001b[0m\u001b[0m\n\u001b[0;32m    783\u001b[0m         \u001b[0mcache_array\u001b[0m \u001b[1;33m=\u001b[0m \u001b[0m_maybe_cache\u001b[0m\u001b[1;33m(\u001b[0m\u001b[0marg\u001b[0m\u001b[1;33m,\u001b[0m \u001b[0mformat\u001b[0m\u001b[1;33m,\u001b[0m \u001b[0mcache\u001b[0m\u001b[1;33m,\u001b[0m \u001b[0mconvert_listlike\u001b[0m\u001b[1;33m)\u001b[0m\u001b[1;33m\u001b[0m\u001b[1;33m\u001b[0m\u001b[0m\n",
      "\u001b[1;32m~\\anaconda3\\envs\\praktikum_env_win_new\\lib\\site-packages\\pandas\\core\\tools\\datetimes.py\u001b[0m in \u001b[0;36m_assemble_from_unit_mappings\u001b[1;34m(arg, errors, box, tz)\u001b[0m\n\u001b[0;32m    852\u001b[0m     \u001b[0marg\u001b[0m \u001b[1;33m=\u001b[0m \u001b[0mDataFrame\u001b[0m\u001b[1;33m(\u001b[0m\u001b[0marg\u001b[0m\u001b[1;33m)\u001b[0m\u001b[1;33m\u001b[0m\u001b[1;33m\u001b[0m\u001b[0m\n\u001b[0;32m    853\u001b[0m     \u001b[1;32mif\u001b[0m \u001b[1;32mnot\u001b[0m \u001b[0marg\u001b[0m\u001b[1;33m.\u001b[0m\u001b[0mcolumns\u001b[0m\u001b[1;33m.\u001b[0m\u001b[0mis_unique\u001b[0m\u001b[1;33m:\u001b[0m\u001b[1;33m\u001b[0m\u001b[1;33m\u001b[0m\u001b[0m\n\u001b[1;32m--> 854\u001b[1;33m         \u001b[1;32mraise\u001b[0m \u001b[0mValueError\u001b[0m\u001b[1;33m(\u001b[0m\u001b[1;34m\"cannot assemble with duplicate keys\"\u001b[0m\u001b[1;33m)\u001b[0m\u001b[1;33m\u001b[0m\u001b[1;33m\u001b[0m\u001b[0m\n\u001b[0m\u001b[0;32m    855\u001b[0m \u001b[1;33m\u001b[0m\u001b[0m\n\u001b[0;32m    856\u001b[0m     \u001b[1;31m# replace passed unit with _unit_map\u001b[0m\u001b[1;33m\u001b[0m\u001b[1;33m\u001b[0m\u001b[1;33m\u001b[0m\u001b[0m\n",
      "\u001b[1;31mValueError\u001b[0m: cannot assemble with duplicate keys"
     ]
    }
   ],
   "source": [
    "def inspect(df):\n",
    "    display(df.head()) \n",
    "    df.info() \n",
    "    print ('Количество дубликатов -', df.duplicated().sum())\n",
    "    numeric_columns=df.describe().columns\n",
    "    display(df.describe())\n",
    "    display()\n",
    "    df.columns = [x.lower().replace(' ', '_') for x in df.columns.values]\n",
    "    for column_name in df.columns:\n",
    "        if column_name not in numeric_columns:\n",
    "            if 'session' in column_name or 'dt' in column_name:\n",
    "                df[column_name] = pd.to_datetime(df[column_name])\n",
    "            else:\n",
    "                display(df[column_name].value_counts())\n",
    "                print(50*'*')\n",
    "    return df\n",
    "visits = inspect(visits)"
   ]
  },
  {
   "cell_type": "markdown",
   "metadata": {},
   "source": [
    "Предоставлены данные о визитах, заказах и рекламных тратах. Они были подготовлены к анализу, не содержат дубликатов, тип данные в колонках соответствует значению."
   ]
  },
  {
   "cell_type": "markdown",
   "metadata": {},
   "source": [
    "# Шаг 2. Задайте функции для расчета и анализа LTV, ROI, удержания и конверсии\n",
    "\n",
    "Были использованы функции из теоретического урока \"Разбор кейса\" (Юнит-экономика):"
   ]
  },
  {
   "cell_type": "code",
   "execution_count": null,
   "metadata": {},
   "outputs": [],
   "source": [
    "# функция для создания пользовательских профилей\n",
    "\n",
    "def get_profiles(sessions, orders, ad_costs):\n",
    "\n",
    "    # находим параметры первых посещений\n",
    "    profiles = (\n",
    "        sessions.sort_values(by=['user_id', 'session_start'])\n",
    "        .groupby('user_id')\n",
    "        .agg(\n",
    "            {\n",
    "                'session_start': 'first',\n",
    "                'channel': 'first',\n",
    "                'device': 'first',\n",
    "                'region': 'first',\n",
    "            }\n",
    "        )\n",
    "        .rename(columns={'session_start': 'first_ts'})\n",
    "        .reset_index()\n",
    "    )\n",
    "\n",
    "    # для когортного анализа определяем дату первого посещения\n",
    "    # и первый день месяца, в который это посещение произошло\n",
    "    profiles['dt'] = profiles['first_ts'].dt.date\n",
    "    profiles['month'] = profiles['first_ts'].astype('datetime64[M]')\n",
    "\n",
    "    # добавляем признак платящих пользователей\n",
    "    profiles['payer'] = profiles['user_id'].isin(orders['user_id'].unique())\n",
    "\n",
    "\n",
    "    # считаем количество уникальных пользователей\n",
    "    # с одинаковыми источником и датой привлечения\n",
    "    new_users = (\n",
    "        profiles.groupby(['dt', 'channel'])\n",
    "        .agg({'user_id': 'nunique'})\n",
    "        .rename(columns={'user_id': 'unique_users'})\n",
    "        .reset_index()\n",
    "    )\n",
    "\n",
    "    # объединяем траты на рекламу и число привлечённых пользователей\n",
    "    ad_costs = ad_costs.merge(new_users, on=['dt', 'channel'], how='left')\n",
    "\n",
    "    # делим рекламные расходы на число привлечённых пользователей\n",
    "    ad_costs['acquisition_cost'] = ad_costs['costs'] / ad_costs['unique_users']\n",
    "\n",
    "    # добавляем стоимость привлечения в профили\n",
    "    profiles = profiles.merge(\n",
    "        ad_costs[['dt', 'channel', 'acquisition_cost']],\n",
    "        on=['dt', 'channel'],\n",
    "        how='left',\n",
    "    )\n",
    "\n",
    "    # стоимость привлечения органических пользователей равна нулю\n",
    "    profiles['acquisition_cost'] = profiles['acquisition_cost'].fillna(0)\n",
    "\n",
    "    return profiles"
   ]
  },
  {
   "cell_type": "code",
   "execution_count": null,
   "metadata": {},
   "outputs": [],
   "source": [
    "# функция для расчёта удержания\n",
    "\n",
    "def get_retention(\n",
    "    profiles,\n",
    "    sessions,\n",
    "    observation_date,\n",
    "    horizon_days,\n",
    "    dimensions=[],\n",
    "    ignore_horizon=False,\n",
    "):\n",
    "\n",
    "    # добавляем столбец payer в передаваемый dimensions список\n",
    "    dimensions = ['payer'] + dimensions\n",
    "\n",
    "    # исключаем пользователей, не «доживших» до горизонта анализа\n",
    "    last_suitable_acquisition_date = observation_date\n",
    "    if not ignore_horizon:\n",
    "        last_suitable_acquisition_date = observation_date - timedelta(\n",
    "            days=horizon_days - 1\n",
    "        )\n",
    "    result_raw = profiles.query('dt <= @last_suitable_acquisition_date')\n",
    "\n",
    "    # собираем «сырые» данные для расчёта удержания\n",
    "    result_raw = result_raw.merge(\n",
    "        sessions[['user_id', 'session_start']], on='user_id', how='left'\n",
    "    )\n",
    "    result_raw['lifetime'] = (\n",
    "        result_raw['session_start'] - result_raw['first_ts']\n",
    "    ).dt.days\n",
    "\n",
    "    # функция для группировки таблицы по желаемым признакам\n",
    "    def group_by_dimensions(df, dims, horizon_days):\n",
    "        result = df.pivot_table(\n",
    "            index=dims, columns='lifetime', values='user_id', aggfunc='nunique'\n",
    "        )\n",
    "        cohort_sizes = (\n",
    "            df.groupby(dims)\n",
    "            .agg({'user_id': 'nunique'})\n",
    "            .rename(columns={'user_id': 'cohort_size'})\n",
    "        )\n",
    "        result = cohort_sizes.merge(result, on=dims, how='left').fillna(0)\n",
    "        result = result.div(result['cohort_size'], axis=0)\n",
    "        result = result[['cohort_size'] + list(range(horizon_days))]\n",
    "        result['cohort_size'] = cohort_sizes\n",
    "        return result\n",
    "\n",
    "    # получаем таблицу удержания\n",
    "    result_grouped = group_by_dimensions(result_raw, dimensions, horizon_days)\n",
    "\n",
    "    # получаем таблицу динамики удержания\n",
    "    result_in_time = group_by_dimensions(\n",
    "        result_raw, dimensions + ['dt'], horizon_days\n",
    "    )\n",
    "\n",
    "    # возвращаем обе таблицы и сырые данные\n",
    "    return result_raw, result_grouped, result_in_time "
   ]
  },
  {
   "cell_type": "code",
   "execution_count": null,
   "metadata": {},
   "outputs": [],
   "source": [
    "# функция для расчёта конверсии\n",
    "\n",
    "def get_conversion(\n",
    "    profiles,\n",
    "    purchases,\n",
    "    observation_date,\n",
    "    horizon_days,\n",
    "    dimensions=[],\n",
    "    ignore_horizon=False,\n",
    "):\n",
    "\n",
    "    # исключаем пользователей, не «доживших» до горизонта анализа\n",
    "    last_suitable_acquisition_date = observation_date\n",
    "    if not ignore_horizon:\n",
    "        last_suitable_acquisition_date = observation_date - timedelta(\n",
    "            days=horizon_days - 1\n",
    "        )\n",
    "    result_raw = profiles.query('dt <= @last_suitable_acquisition_date')\n",
    "\n",
    "    # определяем дату и время первой покупки для каждого пользователя\n",
    "    first_purchases = (\n",
    "        purchases.sort_values(by=['user_id', 'event_dt'])\n",
    "        .groupby('user_id')\n",
    "        .agg({'event_dt': 'first'})\n",
    "        .reset_index()\n",
    "    )\n",
    "\n",
    "    # добавляем данные о покупках в профили\n",
    "    result_raw = result_raw.merge(\n",
    "        first_purchases[['user_id', 'event_dt']], on='user_id', how='left'\n",
    "    )\n",
    "\n",
    "    # рассчитываем лайфтайм для каждой покупки\n",
    "    result_raw['lifetime'] = (\n",
    "        result_raw['event_dt'] - result_raw['first_ts']\n",
    "    ).dt.days\n",
    "\n",
    "    # группируем по cohort, если в dimensions ничего нет\n",
    "    if len(dimensions) == 0:\n",
    "        result_raw['cohort'] = 'All users' \n",
    "        dimensions = dimensions + ['cohort']\n",
    "\n",
    "    # функция для группировки таблицы по желаемым признакам\n",
    "    def group_by_dimensions(df, dims, horizon_days):\n",
    "        result = df.pivot_table(\n",
    "            index=dims, columns='lifetime', values='user_id', aggfunc='nunique'\n",
    "        )\n",
    "        result = result.fillna(0).cumsum(axis = 1)\n",
    "        cohort_sizes = (\n",
    "            df.groupby(dims)\n",
    "            .agg({'user_id': 'nunique'})\n",
    "            .rename(columns={'user_id': 'cohort_size'})\n",
    "        )\n",
    "        result = cohort_sizes.merge(result, on=dims, how='left').fillna(0)\n",
    "        # делим каждую «ячейку» в строке на размер когорты\n",
    "        # и получаем conversion rate\n",
    "        result = result.div(result['cohort_size'], axis=0)\n",
    "        result = result[['cohort_size'] + list(range(horizon_days))]\n",
    "        result['cohort_size'] = cohort_sizes\n",
    "        return result\n",
    "\n",
    "    # получаем таблицу конверсии\n",
    "    result_grouped = group_by_dimensions(result_raw, dimensions, horizon_days)\n",
    "\n",
    "    # для таблицы динамики конверсии убираем 'cohort' из dimensions\n",
    "    if 'cohort' in dimensions: \n",
    "        dimensions = []\n",
    "\n",
    "    # получаем таблицу динамики конверсии\n",
    "    result_in_time = group_by_dimensions(\n",
    "        result_raw, dimensions + ['dt'], horizon_days\n",
    "    )\n",
    "\n",
    "    # возвращаем обе таблицы и сырые данные\n",
    "    return result_raw, result_grouped, result_in_time "
   ]
  },
  {
   "cell_type": "code",
   "execution_count": null,
   "metadata": {},
   "outputs": [],
   "source": [
    "# функция для расчёта LTV и ROI\n",
    "\n",
    "def get_ltv(\n",
    "    profiles,\n",
    "    purchases,\n",
    "    observation_date,\n",
    "    horizon_days,\n",
    "    dimensions=[],\n",
    "    ignore_horizon=False,\n",
    "):\n",
    "\n",
    "    # исключаем пользователей, не «доживших» до горизонта анализа\n",
    "    last_suitable_acquisition_date = observation_date\n",
    "    if not ignore_horizon:\n",
    "        last_suitable_acquisition_date = observation_date - timedelta(\n",
    "            days=horizon_days - 1\n",
    "        )\n",
    "    result_raw = profiles.query('dt <= @last_suitable_acquisition_date')\n",
    "    # добавляем данные о покупках в профили\n",
    "    result_raw = result_raw.merge(\n",
    "        purchases[['user_id', 'event_dt', 'revenue']], on='user_id', how='left'\n",
    "    )\n",
    "    # рассчитываем лайфтайм пользователя для каждой покупки\n",
    "    result_raw['lifetime'] = (\n",
    "        result_raw['event_dt'] - result_raw['first_ts']\n",
    "    ).dt.days\n",
    "    # группируем по cohort, если в dimensions ничего нет\n",
    "    if len(dimensions) == 0:\n",
    "        result_raw['cohort'] = 'All users'\n",
    "        dimensions = dimensions + ['cohort']\n",
    "\n",
    "    # функция группировки по желаемым признакам\n",
    "    def group_by_dimensions(df, dims, horizon_days):\n",
    "        # строим «треугольную» таблицу выручки\n",
    "        result = df.pivot_table(\n",
    "            index=dims, columns='lifetime', values='revenue', aggfunc='sum'\n",
    "        )\n",
    "        # находим сумму выручки с накоплением\n",
    "        result = result.fillna(0).cumsum(axis=1)\n",
    "        # вычисляем размеры когорт\n",
    "        cohort_sizes = (\n",
    "            df.groupby(dims)\n",
    "            .agg({'user_id': 'nunique'})\n",
    "            .rename(columns={'user_id': 'cohort_size'})\n",
    "        )\n",
    "        # объединяем размеры когорт и таблицу выручки\n",
    "        result = cohort_sizes.merge(result, on=dims, how='left').fillna(0)\n",
    "        # считаем LTV: делим каждую «ячейку» в строке на размер когорты\n",
    "        result = result.div(result['cohort_size'], axis=0)\n",
    "        # исключаем все лайфтаймы, превышающие горизонт анализа\n",
    "        result = result[['cohort_size'] + list(range(horizon_days))]\n",
    "        # восстанавливаем размеры когорт\n",
    "        result['cohort_size'] = cohort_sizes\n",
    "\n",
    "        # собираем датафрейм с данными пользователей и значениями CAC, \n",
    "        # добавляя параметры из dimensions\n",
    "        cac = df[['user_id', 'acquisition_cost'] + dims].drop_duplicates()\n",
    "\n",
    "        # считаем средний CAC по параметрам из dimensions\n",
    "        cac = (\n",
    "            cac.groupby(dims)\n",
    "            .agg({'acquisition_cost': 'mean'})\n",
    "            .rename(columns={'acquisition_cost': 'cac'})\n",
    "        )\n",
    "\n",
    "        # считаем ROI: делим LTV на CAC\n",
    "        roi = result.div(cac['cac'], axis=0)\n",
    "\n",
    "        # удаляем строки с бесконечным ROI\n",
    "        roi = roi[~roi['cohort_size'].isin([np.inf])]\n",
    "\n",
    "        # восстанавливаем размеры когорт в таблице ROI\n",
    "        roi['cohort_size'] = cohort_sizes\n",
    "\n",
    "        # добавляем CAC в таблицу ROI\n",
    "        roi['cac'] = cac['cac']\n",
    "\n",
    "        # в финальной таблице оставляем размеры когорт, CAC\n",
    "        # и ROI в лайфтаймы, не превышающие горизонт анализа\n",
    "        roi = roi[['cohort_size', 'cac'] + list(range(horizon_days))]\n",
    "\n",
    "        # возвращаем таблицы LTV и ROI\n",
    "        return result, roi\n",
    "\n",
    "    # получаем таблицы LTV и ROI\n",
    "    result_grouped, roi_grouped = group_by_dimensions(\n",
    "        result_raw, dimensions, horizon_days\n",
    "    )\n",
    "\n",
    "    # для таблиц динамики убираем 'cohort' из dimensions\n",
    "    if 'cohort' in dimensions:\n",
    "        dimensions = []\n",
    "\n",
    "    # получаем таблицы динамики LTV и ROI\n",
    "    result_in_time, roi_in_time = group_by_dimensions(\n",
    "        result_raw, dimensions + ['dt'], horizon_days\n",
    "    )\n",
    "\n",
    "    return (\n",
    "        result_raw,  # сырые данные\n",
    "        result_grouped,  # таблица LTV\n",
    "        result_in_time,  # таблица динамики LTV\n",
    "        roi_grouped,  # таблица ROI\n",
    "        roi_in_time,  # таблица динамики ROI\n",
    "    ) "
   ]
  },
  {
   "cell_type": "code",
   "execution_count": null,
   "metadata": {},
   "outputs": [],
   "source": [
    "# функция для сглаживания фрейма\n",
    "\n",
    "def filter_data(df, window):\n",
    "    # для каждого столбца применяем скользящее среднее\n",
    "    for column in df.columns.values:\n",
    "        df[column] = df[column].rolling(window).mean() \n",
    "    return df "
   ]
  },
  {
   "cell_type": "code",
   "execution_count": null,
   "metadata": {},
   "outputs": [],
   "source": [
    "# функция для визуализации удержания\n",
    "\n",
    "def plot_retention(retention, retention_history, horizon, window=7):\n",
    "\n",
    "    # задаём размер сетки для графиков\n",
    "    plt.figure(figsize=(15, 10))\n",
    "\n",
    "    # исключаем размеры когорт и удержание первого дня\n",
    "    retention = retention.drop(columns=['cohort_size', 0])\n",
    "    # в таблице динамики оставляем только нужный лайфтайм\n",
    "    retention_history = retention_history.drop(columns=['cohort_size'])[\n",
    "        [horizon - 1]\n",
    "    ]\n",
    "\n",
    "    # если в индексах таблицы удержания только payer,\n",
    "    # добавляем второй признак — cohort\n",
    "    if retention.index.nlevels == 1:\n",
    "        retention['cohort'] = 'All users'\n",
    "        retention = retention.reset_index().set_index(['cohort', 'payer'])\n",
    "\n",
    "    # в таблице графиков — два столбца и две строки, четыре ячейки\n",
    "    # в первой строим кривые удержания платящих пользователей\n",
    "    ax1 = plt.subplot(2, 2, 1)\n",
    "    retention.query('payer == True').droplevel('payer').T.plot(\n",
    "        grid=True, ax=ax1\n",
    "    )\n",
    "    plt.legend()\n",
    "    plt.xlabel('Лайфтайм')\n",
    "    plt.title('Удержание платящих пользователей')\n",
    "\n",
    "    # во второй ячейке строим кривые удержания неплатящих\n",
    "    # вертикальная ось — от графика из первой ячейки\n",
    "    ax2 = plt.subplot(2, 2, 2, sharey=ax1)\n",
    "    retention.query('payer == False').droplevel('payer').T.plot(\n",
    "        grid=True, ax=ax2\n",
    "    )\n",
    "    plt.legend()\n",
    "    plt.xlabel('Лайфтайм')\n",
    "    plt.title('Удержание неплатящих пользователей')\n",
    "\n",
    "    # в третьей ячейке — динамика удержания платящих\n",
    "    ax3 = plt.subplot(2, 2, 3)\n",
    "    # получаем названия столбцов для сводной таблицы\n",
    "    columns = [\n",
    "        name\n",
    "        for name in retention_history.index.names\n",
    "        if name not in ['dt', 'payer']\n",
    "    ]\n",
    "    # фильтруем данные и строим график\n",
    "    filtered_data = retention_history.query('payer == True').pivot_table(\n",
    "        index='dt', columns=columns, values=horizon - 1, aggfunc='mean'\n",
    "    )\n",
    "    filter_data(filtered_data, window).plot(grid=True, ax=ax3)\n",
    "    plt.xlabel('Дата привлечения')\n",
    "    plt.title(\n",
    "        'Динамика удержания платящих пользователей на {}-й день'.format(\n",
    "            horizon\n",
    "        )\n",
    "    )\n",
    "\n",
    "    # в чётвертой ячейке — динамика удержания неплатящих\n",
    "    ax4 = plt.subplot(2, 2, 4, sharey=ax3)\n",
    "    # фильтруем данные и строим график\n",
    "    filtered_data = retention_history.query('payer == False').pivot_table(\n",
    "        index='dt', columns=columns, values=horizon - 1, aggfunc='mean'\n",
    "    )\n",
    "    filter_data(filtered_data, window).plot(grid=True, ax=ax4)\n",
    "    plt.xlabel('Дата привлечения')\n",
    "    plt.title(\n",
    "        'Динамика удержания неплатящих пользователей на {}-й день'.format(\n",
    "            horizon\n",
    "        )\n",
    "    )\n",
    "    \n",
    "    plt.tight_layout()\n",
    "    plt.show() \n",
    "# функция для визуализации конверсии\n",
    "\n",
    "def plot_conversion(conversion, conversion_history, horizon, window=7):\n",
    "\n",
    "    # задаём размер сетки для графиков\n",
    "    plt.figure(figsize=(15, 5))\n",
    "\n",
    "    # исключаем размеры когорт\n",
    "    conversion = conversion.drop(columns=['cohort_size'])\n",
    "    # в таблице динамики оставляем только нужный лайфтайм\n",
    "    conversion_history = conversion_history.drop(columns=['cohort_size'])[\n",
    "        [horizon - 1]\n",
    "    ]\n",
    "\n",
    "    # первый график — кривые конверсии\n",
    "    ax1 = plt.subplot(1, 2, 1)\n",
    "    conversion.T.plot(grid=True, ax=ax1)\n",
    "    plt.legend()\n",
    "    plt.xlabel('Лайфтайм')\n",
    "    plt.title('Конверсия пользователей')\n",
    "\n",
    "    # второй график — динамика конверсии\n",
    "    ax2 = plt.subplot(1, 2, 2, sharey=ax1)\n",
    "    columns = [\n",
    "        # столбцами сводной таблицы станут все столбцы индекса, кроме даты\n",
    "        name for name in conversion_history.index.names if name not in ['dt']\n",
    "    ]\n",
    "    filtered_data = conversion_history.pivot_table(\n",
    "        index='dt', columns=columns, values=horizon - 1, aggfunc='mean'\n",
    "    )"
   ]
  },
  {
   "cell_type": "code",
   "execution_count": null,
   "metadata": {},
   "outputs": [],
   "source": [
    "# функция для визуализации конверсии\n",
    "\n",
    "def plot_conversion(conversion, conversion_history, horizon, window=7):\n",
    "\n",
    "    # задаём размер сетки для графиков\n",
    "    plt.figure(figsize=(15, 5))\n",
    "\n",
    "    # исключаем размеры когорт\n",
    "    conversion = conversion.drop(columns=['cohort_size'])\n",
    "    # в таблице динамики оставляем только нужный лайфтайм\n",
    "    conversion_history = conversion_history.drop(columns=['cohort_size'])[\n",
    "        [horizon - 1]\n",
    "    ]\n",
    "\n",
    "    # первый график — кривые конверсии\n",
    "    ax1 = plt.subplot(1, 2, 1)\n",
    "    conversion.T.plot(grid=True, ax=ax1)\n",
    "    plt.legend()\n",
    "    plt.xlabel('Лайфтайм')\n",
    "    plt.title('Конверсия пользователей')\n",
    "\n",
    "    # второй график — динамика конверсии\n",
    "    ax2 = plt.subplot(1, 2, 2, sharey=ax1)\n",
    "    columns = [\n",
    "        # столбцами сводной таблицы станут все столбцы индекса, кроме даты\n",
    "        name for name in conversion_history.index.names if name not in ['dt']\n",
    "    ]\n",
    "    filtered_data = conversion_history.pivot_table(\n",
    "        index='dt', columns=columns, values=horizon - 1, aggfunc='mean'\n",
    "    )\n",
    "    filter_data(filtered_data, window).plot(grid=True, ax=ax2)\n",
    "    plt.xlabel('Дата привлечения')\n",
    "    plt.title('Динамика конверсии пользователей на {}-й день'.format(horizon))\n",
    "\n",
    "    plt.tight_layout()\n",
    "    plt.show() "
   ]
  },
  {
   "cell_type": "code",
   "execution_count": null,
   "metadata": {},
   "outputs": [],
   "source": [
    "# функция для визуализации LTV и ROI\n",
    "\n",
    "def plot_ltv_roi(ltv, ltv_history, roi, roi_history, horizon, window=7):\n",
    "\n",
    "    # задаём сетку отрисовки графиков\n",
    "    plt.figure(figsize=(20, 10))\n",
    "\n",
    "    # из таблицы ltv исключаем размеры когорт\n",
    "    ltv = ltv.drop(columns=['cohort_size'])\n",
    "    # в таблице динамики ltv оставляем только нужный лайфтайм\n",
    "    ltv_history = ltv_history.drop(columns=['cohort_size'])[[horizon - 1]]\n",
    "\n",
    "    # стоимость привлечения запишем в отдельный фрейм\n",
    "    cac_history = roi_history[['cac']]\n",
    "\n",
    "    # из таблицы roi исключаем размеры когорт и cac\n",
    "    roi = roi.drop(columns=['cohort_size', 'cac'])\n",
    "    # в таблице динамики roi оставляем только нужный лайфтайм\n",
    "    roi_history = roi_history.drop(columns=['cohort_size', 'cac'])[\n",
    "        [horizon - 1]\n",
    "    ]\n",
    "\n",
    "    # первый график — кривые ltv\n",
    "    ax1 = plt.subplot(2, 3, 1)\n",
    "    ltv.T.plot(grid=True, ax=ax1)\n",
    "    plt.legend()\n",
    "    plt.xlabel('Лайфтайм')\n",
    "    plt.title('LTV')\n",
    "\n",
    "    # второй график — динамика ltv\n",
    "    ax2 = plt.subplot(2, 3, 2, sharey=ax1)\n",
    "    # столбцами сводной таблицы станут все столбцы индекса, кроме даты\n",
    "    columns = [name for name in ltv_history.index.names if name not in ['dt']]\n",
    "    filtered_data = ltv_history.pivot_table(\n",
    "        index='dt', columns=columns, values=horizon - 1, aggfunc='mean'\n",
    "    )\n",
    "    filter_data(filtered_data, window).plot(grid=True, ax=ax2)\n",
    "    plt.xlabel('Дата привлечения')\n",
    "    plt.title('Динамика LTV пользователей на {}-й день'.format(horizon))\n",
    "\n",
    "    # третий график — динамика cac\n",
    "    ax3 = plt.subplot(2, 3, 3, sharey=ax1)\n",
    "    # столбцами сводной таблицы станут все столбцы индекса, кроме даты\n",
    "    columns = [name for name in cac_history.index.names if name not in ['dt']]\n",
    "    filtered_data = cac_history.pivot_table(\n",
    "        index='dt', columns=columns, values='cac', aggfunc='mean'\n",
    "    )\n",
    "    filter_data(filtered_data, window).plot(grid=True, ax=ax3)\n",
    "    plt.xlabel('Дата привлечения')\n",
    "    plt.title('Динамика стоимости привлечения пользователей')\n",
    "\n",
    "    # четвёртый график — кривые roi\n",
    "    ax4 = plt.subplot(2, 3, 4)\n",
    "    roi.T.plot(grid=True, ax=ax4)\n",
    "    plt.axhline(y=1, color='red', linestyle='--', label='Уровень окупаемости')\n",
    "    plt.legend()\n",
    "    plt.xlabel('Лайфтайм')\n",
    "    plt.title('ROI')\n",
    "\n",
    "    # пятый график — динамика roi\n",
    "    ax5 = plt.subplot(2, 3, 5, sharey=ax4)\n",
    "    # столбцами сводной таблицы станут все столбцы индекса, кроме даты\n",
    "    columns = [name for name in roi_history.index.names if name not in ['dt']]\n",
    "    filtered_data = roi_history.pivot_table(\n",
    "        index='dt', columns=columns, values=horizon - 1, aggfunc='mean'\n",
    "    )\n",
    "    filter_data(filtered_data, window).plot(grid=True, ax=ax5)\n",
    "    plt.axhline(y=1, color='red', linestyle='--', label='Уровень окупаемости')\n",
    "    plt.xlabel('Дата привлечения')\n",
    "    plt.title('Динамика ROI пользователей на {}-й день'.format(horizon))\n",
    "\n",
    "    plt.tight_layout()\n",
    "    plt.show()"
   ]
  },
  {
   "cell_type": "markdown",
   "metadata": {},
   "source": [
    "# Шаг 3. Проведите исследовательский анализ данных\n",
    "\n",
    "3.1. Построим профили пользователей."
   ]
  },
  {
   "cell_type": "code",
   "execution_count": null,
   "metadata": {},
   "outputs": [],
   "source": [
    "profiles = get_profiles(visits, orders, costs)\n",
    "print(profiles.head(5))"
   ]
  },
  {
   "cell_type": "markdown",
   "metadata": {},
   "source": [
    "3.2. Определим минимальную и максимальную дату привлечения пользователей"
   ]
  },
  {
   "cell_type": "code",
   "execution_count": null,
   "metadata": {},
   "outputs": [],
   "source": [
    "min_analysis_date = profiles['dt'].min() # минимальная дата\n",
    "observation_date = profiles['dt'].max() # максимальная дата\n",
    "print(min_analysis_date, observation_date)"
   ]
  },
  {
   "cell_type": "markdown",
   "metadata": {},
   "source": [
    "Ответим на дополнительные вопросы:\n",
    "* Из каких стран приходят посетители? Какие страны дают больше всего платящих пользователей?\n",
    "\n",
    "Определим,из каких стран приходят посетители и какие страны дают больше всего платящих пользователей. Считается, что на календаре 1 ноября 2019 года, а в бизнес-плане заложено, что пользователи должны окупаться не позднее чем через две недели после привлечения."
   ]
  },
  {
   "cell_type": "code",
   "execution_count": null,
   "metadata": {},
   "outputs": [],
   "source": [
    "region_share = pd.DataFrame()\n",
    "region_share['users_cnt'] = profiles.groupby('region')['user_id'].count()\n",
    "region_share['share'] = ((region_share['users_cnt'] / profiles['region'].count()) * 100)\n",
    "region_share.sort_values(by ='share', ascending = False).style.format({'share': '{:.1f}%'})"
   ]
  },
  {
   "cell_type": "markdown",
   "metadata": {},
   "source": [
    "На пользователей из США приходилось 66,7% посетителей. Доля других стран колебалась в пределах 10,0-11,7%. Построим таблицу, отражающую количество пользователей:"
   ]
  },
  {
   "cell_type": "code",
   "execution_count": null,
   "metadata": {},
   "outputs": [],
   "source": [
    "region_payer_share = pd.DataFrame()\n",
    "region_payer_share['users_cnt'] = profiles.query('payer == True').groupby('region')['user_id'].count()\n",
    "region_payer_share['share'] = ((region_payer_share['users_cnt'] / profiles.query('payer == True')['region'].count()) * 100)\n",
    "region_payer_share.sort_values(by='share', ascending=False).style.format({'share': '{:.1f}%'})"
   ]
  },
  {
   "cell_type": "markdown",
   "metadata": {},
   "source": [
    "Определим долю платящих пользователей отдельно по странам:"
   ]
  },
  {
   "cell_type": "code",
   "execution_count": null,
   "metadata": {},
   "outputs": [],
   "source": [
    "#функция для сводной таблицы по странам\n",
    "def pivot_share_result(column, df):\n",
    "    result = pd.DataFrame()\n",
    "    result['users_cnt'] = df.groupby(column)['user_id'].count()\n",
    "    result['users_share'] = ((result['users_cnt'] / df[column].count()) * 100)\n",
    "    result['payer_users_cnt'] = df.query('payer == True').groupby(column)['user_id'].count()\n",
    "    result['payer_share'] = ((result['payer_users_cnt'] / result['users_cnt']) * 100)\n",
    "    return result.sort_values(by='users_share', ascending=False).style.format({'users_share': '{:.1f}%', 'payer_share': '{:.1f}%'})"
   ]
  },
  {
   "cell_type": "code",
   "execution_count": null,
   "metadata": {},
   "outputs": [],
   "source": [
    "pivot_share_result('region', profiles)"
   ]
  },
  {
   "cell_type": "markdown",
   "metadata": {},
   "source": [
    "Больше всего пользователей в США, там же выше доля платящих пользователей (6,9%). Доля платящих пользователей оставшихся стран варьируется в пределах 3,8-4,1%."
   ]
  },
  {
   "cell_type": "markdown",
   "metadata": {},
   "source": [
    "Рассчитаем долю платящих пользователей отдельно по устройствам:"
   ]
  },
  {
   "cell_type": "code",
   "execution_count": null,
   "metadata": {},
   "outputs": [],
   "source": [
    "device_share = pd.DataFrame()\n",
    "device_share['users_cnt'] = profiles.groupby('device')['user_id'].count()\n",
    "\n",
    "device_share['share'] = ((device_share['users_cnt'] / profiles['device'].count()) * 100)\n",
    "device_share.sort_values(by = 'share', ascending = False).style.format({'share': '{:.1f}%'})"
   ]
  },
  {
   "cell_type": "markdown",
   "metadata": {},
   "source": [
    "Чаще всего клиенты пользуются устройствами iPhone (36,3%), доля каждого из остальных устройств не выше 23%. Можно сделать вывод, что мобильные устройства используются чаще, чем компьютеры:"
   ]
  },
  {
   "cell_type": "code",
   "execution_count": null,
   "metadata": {},
   "outputs": [],
   "source": [
    "device_payer_share = pd.DataFrame()\n",
    "device_payer_share['users_cnt'] = profiles.query('payer == True').groupby('device')['user_id'].count()\n",
    "device_payer_share['share'] = ((device_payer_share['users_cnt'] / profiles.query('payer == True')['device'].count()) * 100)\n",
    "device_payer_share.sort_values(by ='share', ascending = False).style.format({'share': '{:.1f}%'})"
   ]
  },
  {
   "cell_type": "markdown",
   "metadata": {},
   "source": [
    "Аналогичные выводы можно сделать и о платящих пользователях: чаще они используют телефоны, а среди них явно предпочитают iPhone (38,1%). Определим доли платящих пользователей по устройствам отдельно:"
   ]
  },
  {
   "cell_type": "code",
   "execution_count": null,
   "metadata": {},
   "outputs": [],
   "source": [
    "pivot_share_result('device', profiles)"
   ]
  },
  {
   "cell_type": "markdown",
   "metadata": {},
   "source": [
    "Превалируют пользователи ноутбуков Mac, 6,4%. Практически аналогична доля платящих пользователей устройств iPhone (6,2%). Меньше всего платящих среди пользователей ПК (5,0%).  \n",
    "Изучим рекламные источники привлечения и определим каналы, из которых пришло больше всего платящих пользователей. Разделение по источникам привлечения для всех пользователей указывает на то, что больше всего приходится на органический трафик (37,6%). Но органический трафик, как правило, не дает стабильно платящих пользователей. Это и подтверждается данными: большинство платящих пользователей пришли через канал FaceBoom 40,1%, TipTop 21,1% при этом органический трафик дает только 13,1%:"
   ]
  },
  {
   "cell_type": "code",
   "execution_count": null,
   "metadata": {},
   "outputs": [],
   "source": [
    "channel_share = pd.DataFrame()\n",
    "channel_share['users_cnt'] = profiles.groupby('channel')['user_id'].count()\n",
    "channel_share['share'] = ((channel_share['users_cnt'] / profiles['channel'].count()) * 100)\n",
    "\n",
    "channel_share['payer_users_cnt'] = profiles.query('payer == True').groupby('channel')['user_id'].count()\n",
    "channel_share['payer_share'] = ((channel_share['payer_users_cnt'] / profiles.query('payer == True')['channel'].count()) * 100)\n",
    "\n",
    "channel_share.sort_values(by = 'share', ascending = False).style.format({'share': '{:.1f}%', 'payer_share': '{:.1f}%'})"
   ]
  },
  {
   "cell_type": "markdown",
   "metadata": {},
   "source": [
    "Рассчитаем долю платящих пользователей отдельно по рекламным каналам:"
   ]
  },
  {
   "cell_type": "code",
   "execution_count": null,
   "metadata": {},
   "outputs": [],
   "source": [
    "pivot_share_result('channel', profiles)"
   ]
  },
  {
   "cell_type": "markdown",
   "metadata": {},
   "source": [
    "Наибольшее число платящих пользователей приходило через каналы FaceBoom (12.2%), AdNonSense(11.3%), lambdaMediaAds(10.5%), TipTop (9,6%). Конвертация пользователей органического трафика (2.1%), OppleCreativeMedia (2.7%), LeapBob (3.1%), MediaTornado (3,6%).   \n",
    "Таким образом, можно сделать промежуточные выводы:\n",
    "1. Профили пользователей рассматриваются в период минимальной 2019-05-01 и максимальной 2019-10-27 дат.\n",
    "2.  Наибольшая доля пользователей в целом и платящих пользователей приходится на США. \n",
    "3. Чаще всего пользователи Procrastinate Pro+  с устройствами iPhone, распределение среди платящих пользователей по устройствам выделяет еще одного лидера - Mac. Можно сделать вывод, что мобильные устройства и ноутбуки используются чаще, чем компьютеры и их пользователи чаще совершают покупки.\n",
    "4. Наибольшее число платящих пользователей пришло по каналам FaceBoom, AdNonSense, lambdaMediaAds, TipTop."
   ]
  },
  {
   "cell_type": "markdown",
   "metadata": {},
   "source": [
    "# Шаг 4. Маркетинг\n",
    "\n",
    "Выясните:\n",
    "- Сколько денег потратили? Всего / на каждый источник / по времени\n",
    "- Сколько в среднем стоило привлечение одного покупателя из каждого источника?\n",
    "\n",
    "Общая сумма расходов:"
   ]
  },
  {
   "cell_type": "code",
   "execution_count": null,
   "metadata": {},
   "outputs": [],
   "source": [
    "costs.sum()"
   ]
  },
  {
   "cell_type": "markdown",
   "metadata": {},
   "source": [
    "Определим, сколько денег на каждый источник и по времени. Распределение трат по источникам:"
   ]
  },
  {
   "cell_type": "code",
   "execution_count": null,
   "metadata": {},
   "outputs": [],
   "source": [
    "channel_costs_report = pd.DataFrame()\n",
    "channel_costs_report['costs'] = costs.groupby('channel')['costs'].sum()\n",
    "channel_costs_report['share'] = ((channel_costs_report['costs'] / costs['costs'].sum()) * 100)\n",
    "channel_costs_report.sort_values(by='share', ascending=False).style.format({'share': '{:.2f}%', 'payer_share': '{:.2f}%'})"
   ]
  },
  {
   "cell_type": "markdown",
   "metadata": {},
   "source": [
    "Визуализируем изменения метрик во времени:"
   ]
  },
  {
   "cell_type": "code",
   "execution_count": null,
   "metadata": {},
   "outputs": [],
   "source": [
    "filtered_data = costs.pivot_table(\n",
    "        index='dt', columns='channel', values='costs', aggfunc='sum'\n",
    "    )\n",
    "filtered_data.plot(                                             \n",
    "           figsize=(12, 10), # размеры картинки: (x_size, y_size)\n",
    "           grid=True, # отображать сетку или нет\n",
    "           rot=45,        \n",
    "           label='Каналы', # название линии                       \n",
    "           legend=True,# выводить ли легенду к графику\n",
    "           #colormap='ocean'\n",
    ") \n",
    "\n",
    "plt.yticks(np.arange(0, 650, 50)) #зададим шаг по oy\n",
    "plt.title('График изменения маркетинговых затрат в разбивке по каналам')\n",
    "plt.xlabel('Дата')\n",
    "plt.ylabel('Затраты')\n",
    "plt.show()"
   ]
  },
  {
   "cell_type": "markdown",
   "metadata": {},
   "source": [
    "Из графика видно, что наиболее крупные каналы (FaceBoom, TipTop) не дают возможность оценить изменения затрат на другие каналы. Два лидера не дают возможности подробнее оценить другие источники:"
   ]
  },
  {
   "cell_type": "code",
   "execution_count": null,
   "metadata": {},
   "outputs": [],
   "source": [
    "filtered_data2 = costs[~costs['channel'].isin(['TipTop', 'FaceBoom'])].pivot_table(\n",
    "        index='dt', columns='channel', values='costs', aggfunc='sum'\n",
    "    )\n",
    "\n",
    "filtered_data2.plot(                                             \n",
    "           figsize=(15, 10), # размеры картинки: (x_size, y_size)\n",
    "           grid=True, # отображать сетку или нет\n",
    "           rot=45,        \n",
    "           label='Каналы', # название линии                       \n",
    "           legend=True,# выводить ли легенду к графику\n",
    "           #colormap='ocean'\n",
    ") \n",
    "\n",
    "plt.yticks(np.arange(0,  60, 10)) #зададим шаг по oy\n",
    "plt.title('График изменения маркетинговых затрат в разбивке по каналам')\n",
    "plt.xlabel('Дата')\n",
    "plt.ylabel('Затраты')\n",
    "plt.show()"
   ]
  },
  {
   "cell_type": "markdown",
   "metadata": {},
   "source": [
    "Видно увеличение трат на WahooNetBanner. В тоже время затраты на AdNonSense, наоборот, стали снижаться с 06.2019. \n",
    "Определим стоимость привлечения одного пользователя (информация о стоимости привлечения находится в столбце acquisition_cost:"
   ]
  },
  {
   "cell_type": "code",
   "execution_count": null,
   "metadata": {},
   "outputs": [],
   "source": [
    "profiles.describe()\n",
    "\n",
    "# удаление органического трафика\n",
    "profiles = profiles.query('channel != \"organic\"')"
   ]
  },
  {
   "cell_type": "markdown",
   "metadata": {},
   "source": [
    "Из данных видно, что 50% выборки приходится на стоимость 0,24 ед., а вторая половина более. Таким образом, медианна стоимость привлечения составляет 0,24. Но в среднем затраты составляли 0,71 ед. Определим САС для каждого источника:"
   ]
  },
  {
   "cell_type": "code",
   "execution_count": null,
   "metadata": {},
   "outputs": [],
   "source": [
    "profiles['acquisition_cost'].hist(bins = 20)\n",
    "plt.title('Распределение стоимости привлечения одного пользователя')\n",
    "plt.xlabel('Стоимость привлечения')\n",
    "plt.ylabel('Частота')\n",
    "plt.show()\n",
    "#CAC по источникам трафика\n",
    "cac_by_channel = pd.DataFrame()\n",
    "cac_by_channel['acquisition_cost_mean'] = profiles.groupby('channel')['acquisition_cost'].mean()\n",
    "cac_by_channel.sort_values(by='acquisition_cost_mean', ascending=False).style.format({'acquisition_cost_mean': '{:.1f}'})"
   ]
  },
  {
   "cell_type": "markdown",
   "metadata": {},
   "source": [
    "Наиболее дорогим источником трафика является TipTop, средняя стоимость размещения источников составляет 2,80 ед за пользователя, цена приклечения FaceBoom и AdNonSense колеблется в границах 1,0-1,1 ед.    \n",
    "В результате были сделаны следующие выводы:  \n",
    "1. Общая сумма расходов на маркетинг составила 105497.3 ед. Распределение трат по источникам: большая часть TipTop (51,9% всех расходов),  на втором месте FaceBoom (30,8%), на прочие источники уходит от 0,9 до 4,9%.\n",
    "2. Медианная стоимость привлечения одного покупателя составляла 0,24. При этом среднее находится на значении 0,70. Среди источников трафика самым дорогим стал TipTop, самыми дешевыми OppleCreativeMedia, YRabbit, MediaTornado, LeapBob (около 0,2 ед за привлечение пользователя)."
   ]
  },
  {
   "cell_type": "markdown",
   "metadata": {},
   "source": [
    "# Шаг 5. Оцените окупаемость рекламы для привлечения пользователей\n",
    "\n",
    "С помощью LTV и ROI:\n",
    "- Проанализируйте общую окупаемость рекламы;\n",
    "- Проанализируйте окупаемость рекламы с разбивкой по устройствам;\n",
    "- Проанализируйте окупаемость рекламы с разбивкой по странам;\n",
    "- Проанализируйте окупаемость рекламы с разбивкой по рекламным каналам.\n",
    "\n",
    "Опишите проблемы, которые вы обнаружили. Ответьте на вопросы:\n",
    "- Окупается ли реклама, направленная на привлечение пользователей в целом? \n",
    "- Какие устройства, страны и рекламные каналы могут оказывать негативное влияние на окупаемость рекламы?\n",
    "- Чем могут быть вызваны проблемы окупаемости? Изучите конверсию и удержание с разбивкой по устройствам, странам, рекламным каналам.\n",
    "\n",
    "Опишите возможные причины обнаруженных проблем и сформируйте рекомендации для рекламного отдела. При решении этого шага считайте, что вы смотрите данные 1-го ноября 2019 года и что в вашей организации принято считать, что окупаемость должна наступать не позднее, чем через 2 недели после привлечения пользователей."
   ]
  },
  {
   "cell_type": "markdown",
   "metadata": {},
   "source": [
    "### Проанализируйте общую окупаемость рекламы"
   ]
  },
  {
   "cell_type": "code",
   "execution_count": null,
   "metadata": {},
   "outputs": [],
   "source": [
    "import time\n",
    "from datetime import datetime\n",
    "from datetime import date, timedelta as td\n",
    "\n",
    "observation_date = datetime(2019, 11, 1).date()  # момент анализа\n",
    "horizon_days = 14  # горизонт анализа \n",
    "\n",
    "# LTV и ROI\n",
    "ltv_raw, ltv_grouped, ltv_history, roi_grouped, roi_history = get_ltv(\n",
    "    profiles, orders, observation_date, horizon_days\n",
    ")\n",
    "\n",
    "plot_ltv_roi(ltv_grouped, ltv_history, roi_grouped, roi_history, horizon_days) "
   ]
  },
  {
   "cell_type": "markdown",
   "metadata": {},
   "source": [
    "Срок окупаемости выше 0,8 (80%), из чего следует, что реклама не окупается через рассматриваемый период 14 дней.  \n",
    "Колебания динамики LTV носит сезонный характер, из чего можно сделать вывод, что дело не в пользователях. Стоимость привлечения пользователей явно растет во времени. А уровень окупаемости, наоборот, снижается."
   ]
  },
  {
   "cell_type": "markdown",
   "metadata": {},
   "source": [
    "### Проанализируйте окупаемость рекламы с разбивкой по устройствам"
   ]
  },
  {
   "cell_type": "code",
   "execution_count": null,
   "metadata": {},
   "outputs": [],
   "source": [
    "# окупаемость по устройствам\n",
    "\n",
    "dimensions = ['device']\n",
    "\n",
    "ltv_raw, ltv_grouped, ltv_history, roi_grouped, roi_history = get_ltv(\n",
    "    profiles, orders, observation_date, horizon_days, dimensions=dimensions\n",
    ")\n",
    "\n",
    "plot_ltv_roi(\n",
    "    ltv_grouped, ltv_history, roi_grouped, roi_history, horizon_days, window=14\n",
    ")"
   ]
  },
  {
   "cell_type": "markdown",
   "metadata": {},
   "source": [
    "Реклама не окупается везде.   \n",
    "Стоимость привлечения растет на протяжении всего периода до сентября, после чего незначительно снижается для всех устройств.\n",
    "LTV всё так же подвержен сезонности, но стабилен.  \n",
    "Mac и iPhone стоимость привлечения высока, постоянно растет, а окупаемоcть падает."
   ]
  },
  {
   "cell_type": "code",
   "execution_count": null,
   "metadata": {},
   "outputs": [],
   "source": [
    "dimensions = ['device']\n",
    "# конверсия по устройствам\n",
    "\n",
    "conversion_raw, conversion_grouped, conversion_history = get_conversion(\n",
    "    profiles, orders, observation_date, horizon_days, dimensions=dimensions\n",
    ")\n",
    "\n",
    "plot_conversion(conversion_grouped, conversion_history, horizon_days) "
   ]
  },
  {
   "cell_type": "markdown",
   "metadata": {},
   "source": [
    "Mac, Android и iPhone конвертируются хорошо, на протяжении всего периода. Раз оба канала убыточны, дело не в устройствах, а в удержании."
   ]
  },
  {
   "cell_type": "code",
   "execution_count": null,
   "metadata": {},
   "outputs": [],
   "source": [
    "visits['visit_day'] = visits['session_start'].dt.date\n",
    "\n",
    "# удержание по устройствам\n",
    "dimensions = ['device']\n",
    "\n",
    "retention_raw, retention_grouped, retention_history = get_retention(\n",
    "    profiles, visits, observation_date, horizon_days, dimensions=dimensions\n",
    ")\n",
    "\n",
    "plot_retention(retention_grouped, retention_history, horizon_days) "
   ]
  },
  {
   "cell_type": "markdown",
   "metadata": {},
   "source": [
    "По графикам видно, что удержание не зависит от типа устройств."
   ]
  },
  {
   "cell_type": "markdown",
   "metadata": {},
   "source": [
    "### Проанализируйте окупаемость рекламы с разбивкой по странам"
   ]
  },
  {
   "cell_type": "code",
   "execution_count": null,
   "metadata": {},
   "outputs": [],
   "source": [
    "# окупаемость по странам\n",
    "\n",
    "dimensions = ['region']\n",
    "\n",
    "ltv_raw, ltv_grouped, ltv_history, roi_grouped, roi_history = get_ltv(\n",
    "    profiles, orders, observation_date, horizon_days, dimensions=dimensions\n",
    ")\n",
    "\n",
    "plot_ltv_roi(\n",
    "    ltv_grouped, ltv_history, roi_grouped, roi_history, horizon_days, window=14\n",
    ")"
   ]
  },
  {
   "cell_type": "markdown",
   "metadata": {},
   "source": [
    "Реклама окупается не во всех странах. Уровень окупаемости в США самый низкий. Ранее было выявлено, что большая часть аудитории находится в США.  \n",
    "Стоимость привлечения в США на протяжении всего периода самая высокая и растет.   \n",
    "Как и ранее LTV подвержен сезонности.   \n",
    "Выше всего окупаемость в Великобритании и Германии. Ниже всего в США, страна явный аутсайдер. Окупаемость стала снижаться с июня 2019 г. По каким-то причинам приложение стало менее привлекательным."
   ]
  },
  {
   "cell_type": "code",
   "execution_count": null,
   "metadata": {},
   "outputs": [],
   "source": [
    "# конверсия по странам\n",
    "\n",
    "conversion_raw, conversion_grouped, conversion_history = get_conversion(\n",
    "    profiles, orders, observation_date, horizon_days, dimensions=dimensions\n",
    ")\n",
    "\n",
    "plot_conversion(conversion_grouped, conversion_history, horizon_days) "
   ]
  },
  {
   "cell_type": "markdown",
   "metadata": {},
   "source": [
    "Ниже конверсия у пользователей из Англии, Франции, Германии. Она находится примерно на одном уровне (около 0,4), в отличии от США."
   ]
  },
  {
   "cell_type": "code",
   "execution_count": null,
   "metadata": {},
   "outputs": [],
   "source": [
    "# удержание по странам\n",
    "\n",
    "retention_raw, retention_grouped, retention_history = get_retention(\n",
    "    profiles, visits, observation_date, horizon_days, dimensions = dimensions\n",
    ")\n",
    "\n",
    "plot_retention(retention_grouped, retention_history, horizon_days)"
   ]
  },
  {
   "cell_type": "markdown",
   "metadata": {},
   "source": [
    "Удержание платящих пользователей из США очень низкое."
   ]
  },
  {
   "cell_type": "markdown",
   "metadata": {},
   "source": [
    "### Проанализируйте окупаемость рекламы с разбивкой по рекламным каналам"
   ]
  },
  {
   "cell_type": "markdown",
   "metadata": {},
   "source": [
    "Проверим, не играет ли роль реклама определенного канала."
   ]
  },
  {
   "cell_type": "code",
   "execution_count": null,
   "metadata": {},
   "outputs": [],
   "source": [
    "# окупаемость по источникам привлечения\n",
    "\n",
    "dimensions = ['channel']\n",
    "\n",
    "ltv_raw, ltv_grouped, ltv_history, roi_grouped, roi_history = get_ltv(\n",
    "    profiles, orders, observation_date, horizon_days, dimensions = dimensions\n",
    ")\n",
    "\n",
    "plot_ltv_roi(\n",
    "    ltv_grouped, ltv_history, roi_grouped, roi_history, horizon_days, window = 14\n",
    ") "
   ]
  },
  {
   "cell_type": "markdown",
   "metadata": {},
   "source": [
    "Наибольший рост затрат от рекламы канала TipTop. При высоких тратах аналогичного роста эффективности нет.\n",
    "Не окупаются пользователи, привлеченные из каналов LeapBop, FaceBoom, TipTop.\n",
    "Хорошо окупалался канал YRabbit ROI пользователей на конец второй недели в июле был высоким."
   ]
  },
  {
   "cell_type": "code",
   "execution_count": null,
   "metadata": {},
   "outputs": [],
   "source": [
    "#конверсия по каналам\n",
    "\n",
    "conversion_raw, conversion_grouped, conversion_history = get_conversion(\n",
    "    profiles, orders, observation_date, horizon_days, dimensions=dimensions\n",
    ")\n",
    "\n",
    "plot_conversion(conversion_grouped, conversion_history, horizon_days) "
   ]
  },
  {
   "cell_type": "code",
   "execution_count": null,
   "metadata": {},
   "outputs": [],
   "source": [
    "# удержание по каналам\n",
    "\n",
    "retention_raw, retention_grouped, retention_history = get_retention(\n",
    "    profiles, visits, observation_date, horizon_days, dimensions=dimensions\n",
    ")\n",
    "\n",
    "plot_retention(retention_grouped, retention_history, horizon_days) "
   ]
  },
  {
   "cell_type": "markdown",
   "metadata": {},
   "source": [
    "Плохо конвертируются пользователи из каналов RocketSuperAds, MediaTornado, YRabbit. Явными аутсайдерами по удержанию являются пользователи из каналов FaceBoom, AdNonSense."
   ]
  },
  {
   "cell_type": "markdown",
   "metadata": {},
   "source": [
    "# Шаг 6. Напишите выводы\n",
    "- Выделите причины неэффективности привлечения пользователей;\n",
    "1. Выявлен рост стоимости привлечения пользователей из неэффективного рекламного канала TipTop. Следует уменьшить затраты на этот источник привлечения. \n",
    "2. Уровень окупаемости затрат на рекламу для пользователей из США в целом наиболее низкий, при этом основной аудиторией являются пользователи из США. Стоимость их привлечения самая высокая. \n",
    "3. Владельцы Mac и iPhone наиболее дорогостоящая аудитория, но окупаемость не выше остальных.\n",
    "- Сформируйте рекомендации для отдела маркетинга для повышения эффективности.\n",
    "1. Сформировать новый маркетинговые предложения для владельцев Android, этот сегмент не самый активный, но стоимость его привлечения ниже.\n",
    "2. Направить рекламный бюджет на рекламу для других стран, кроме США. Например, в Англию и Германию.\n",
    "3. Следует обратить внимание на другие каналы, кроме LeapBop, FaceBoom, TipTop, которые по стоимости привлечения обходятся дешевле. Следует исключить такие удерживаются пользователи из каналов FaceBoom и AdNonSense. Можно попробовать переключить внимание на более дешевые, но прибыльные каналы."
   ]
  },
  {
   "cell_type": "code",
   "execution_count": null,
   "metadata": {},
   "outputs": [],
   "source": []
  }
 ],
 "metadata": {
  "ExecuteTimeLog": [
   {
    "duration": 1451,
    "start_time": "2022-02-28T08:37:04.209Z"
   },
   {
    "duration": 480,
    "start_time": "2022-02-28T08:46:22.153Z"
   },
   {
    "duration": 9263,
    "start_time": "2022-02-28T08:46:59.712Z"
   },
   {
    "duration": 478,
    "start_time": "2022-02-28T08:47:17.369Z"
   },
   {
    "duration": 8742,
    "start_time": "2022-02-28T08:47:44.215Z"
   },
   {
    "duration": 1215,
    "start_time": "2022-02-28T08:49:06.159Z"
   },
   {
    "duration": 347,
    "start_time": "2022-02-28T09:20:57.450Z"
   },
   {
    "duration": 95,
    "start_time": "2022-02-28T09:23:28.739Z"
   },
   {
    "duration": 1206,
    "start_time": "2022-02-28T09:23:35.429Z"
   },
   {
    "duration": 95,
    "start_time": "2022-02-28T10:21:37.187Z"
   },
   {
    "duration": 1926,
    "start_time": "2022-02-28T10:21:44.684Z"
   },
   {
    "duration": 1337,
    "start_time": "2022-02-28T10:22:30.260Z"
   },
   {
    "duration": 267,
    "start_time": "2022-02-28T10:49:51.511Z"
   },
   {
    "duration": 273,
    "start_time": "2022-02-28T10:50:06.212Z"
   },
   {
    "duration": 244,
    "start_time": "2022-02-28T10:51:23.958Z"
   },
   {
    "duration": 1379,
    "start_time": "2022-02-28T10:56:06.282Z"
   },
   {
    "duration": 286,
    "start_time": "2022-02-28T10:56:13.123Z"
   },
   {
    "duration": 11,
    "start_time": "2022-02-28T11:02:11.376Z"
   },
   {
    "duration": 4,
    "start_time": "2022-02-28T11:03:56.570Z"
   },
   {
    "duration": 7,
    "start_time": "2022-02-28T11:04:16.205Z"
   },
   {
    "duration": 9,
    "start_time": "2022-02-28T11:04:35.685Z"
   },
   {
    "duration": 16,
    "start_time": "2022-02-28T11:12:43.239Z"
   },
   {
    "duration": 290,
    "start_time": "2022-02-28T11:14:49.404Z"
   },
   {
    "duration": 243,
    "start_time": "2022-02-28T11:14:56.937Z"
   },
   {
    "duration": 9,
    "start_time": "2022-02-28T12:25:18.123Z"
   },
   {
    "duration": 1306,
    "start_time": "2022-02-28T12:25:26.589Z"
   },
   {
    "duration": 1346,
    "start_time": "2022-02-28T12:26:17.141Z"
   },
   {
    "duration": 1268,
    "start_time": "2022-02-28T12:27:18.060Z"
   },
   {
    "duration": 786,
    "start_time": "2022-02-28T12:27:25.499Z"
   },
   {
    "duration": 32,
    "start_time": "2022-02-28T13:37:28.525Z"
   },
   {
    "duration": 31,
    "start_time": "2022-02-28T13:37:40.664Z"
   },
   {
    "duration": 28,
    "start_time": "2022-02-28T13:37:55.226Z"
   },
   {
    "duration": 28,
    "start_time": "2022-02-28T13:38:01.155Z"
   },
   {
    "duration": 28,
    "start_time": "2022-02-28T13:38:40.146Z"
   },
   {
    "duration": 270,
    "start_time": "2022-02-28T15:38:41.745Z"
   },
   {
    "duration": 77,
    "start_time": "2022-02-28T15:39:34.714Z"
   },
   {
    "duration": 256,
    "start_time": "2022-02-28T15:39:39.584Z"
   },
   {
    "duration": 253,
    "start_time": "2022-02-28T15:41:53.273Z"
   },
   {
    "duration": 267,
    "start_time": "2022-02-28T15:42:11.328Z"
   },
   {
    "duration": 273,
    "start_time": "2022-02-28T15:43:00.840Z"
   },
   {
    "duration": 50,
    "start_time": "2022-02-28T15:43:18.888Z"
   },
   {
    "duration": 409,
    "start_time": "2022-02-28T15:43:21.247Z"
   },
   {
    "duration": 361,
    "start_time": "2022-02-28T15:43:29.590Z"
   },
   {
    "duration": 765,
    "start_time": "2022-02-28T15:47:48.822Z"
   },
   {
    "duration": 90,
    "start_time": "2022-02-28T15:49:04.073Z"
   },
   {
    "duration": 102,
    "start_time": "2022-02-28T15:50:22.090Z"
   },
   {
    "duration": 108,
    "start_time": "2022-02-28T15:51:04.689Z"
   },
   {
    "duration": 1304,
    "start_time": "2022-02-28T15:51:55.144Z"
   },
   {
    "duration": 5213,
    "start_time": "2022-02-28T15:52:06.031Z"
   },
   {
    "duration": 1339,
    "start_time": "2022-02-28T15:52:25.176Z"
   },
   {
    "duration": 9,
    "start_time": "2022-02-28T15:52:30.083Z"
   },
   {
    "duration": 11,
    "start_time": "2022-02-28T15:52:35.508Z"
   },
   {
    "duration": 4,
    "start_time": "2022-02-28T15:52:39.911Z"
   },
   {
    "duration": 7,
    "start_time": "2022-02-28T15:52:43.557Z"
   },
   {
    "duration": 9,
    "start_time": "2022-02-28T15:52:46.335Z"
   },
   {
    "duration": 17,
    "start_time": "2022-02-28T15:52:49.747Z"
   },
   {
    "duration": 5025,
    "start_time": "2022-02-28T15:52:52.485Z"
   },
   {
    "duration": 1294,
    "start_time": "2022-02-28T15:53:47.310Z"
   },
   {
    "duration": 1237,
    "start_time": "2022-02-28T15:54:01.518Z"
   },
   {
    "duration": 15,
    "start_time": "2022-02-28T15:54:07.597Z"
   },
   {
    "duration": 10,
    "start_time": "2022-02-28T15:54:12.605Z"
   },
   {
    "duration": 15,
    "start_time": "2022-02-28T15:54:19.918Z"
   },
   {
    "duration": 4,
    "start_time": "2022-02-28T15:54:22.180Z"
   },
   {
    "duration": 7,
    "start_time": "2022-02-28T15:54:25.398Z"
   },
   {
    "duration": 9,
    "start_time": "2022-02-28T15:54:27.885Z"
   },
   {
    "duration": 8,
    "start_time": "2022-02-28T15:54:32.870Z"
   },
   {
    "duration": 15,
    "start_time": "2022-02-28T15:54:35.766Z"
   },
   {
    "duration": 4746,
    "start_time": "2022-02-28T15:54:38.140Z"
   },
   {
    "duration": 1241,
    "start_time": "2022-02-28T15:54:56.685Z"
   },
   {
    "duration": 798,
    "start_time": "2022-02-28T15:55:06.292Z"
   },
   {
    "duration": 91,
    "start_time": "2022-02-28T15:56:10.149Z"
   },
   {
    "duration": 1131,
    "start_time": "2022-02-28T15:56:16.380Z"
   },
   {
    "duration": 240,
    "start_time": "2022-02-28T15:56:34.188Z"
   },
   {
    "duration": 1087,
    "start_time": "2022-02-28T15:56:41.460Z"
   },
   {
    "duration": 274,
    "start_time": "2022-02-28T15:56:49.060Z"
   },
   {
    "duration": 29,
    "start_time": "2022-02-28T16:20:45.030Z"
   },
   {
    "duration": 2591,
    "start_time": "2022-02-28T16:22:13.736Z"
   },
   {
    "duration": 3901,
    "start_time": "2022-02-28T16:22:39.696Z"
   },
   {
    "duration": 2060,
    "start_time": "2022-02-28T16:22:54.152Z"
   },
   {
    "duration": 291,
    "start_time": "2022-02-28T16:24:26.687Z"
   },
   {
    "duration": 1005,
    "start_time": "2022-02-28T16:26:00.469Z"
   },
   {
    "duration": 2202,
    "start_time": "2022-03-01T05:47:55.340Z"
   },
   {
    "duration": 7,
    "start_time": "2022-03-01T05:48:01.763Z"
   },
   {
    "duration": 8,
    "start_time": "2022-03-01T05:48:06.833Z"
   },
   {
    "duration": 5,
    "start_time": "2022-03-01T09:08:09.884Z"
   },
   {
    "duration": 12,
    "start_time": "2022-03-01T09:08:15.921Z"
   },
   {
    "duration": 598,
    "start_time": "2022-03-01T09:08:18.680Z"
   },
   {
    "duration": 23,
    "start_time": "2022-03-01T09:08:22.781Z"
   },
   {
    "duration": 330,
    "start_time": "2022-03-01T09:08:25.085Z"
   },
   {
    "duration": 384,
    "start_time": "2022-03-01T09:10:42.951Z"
   },
   {
    "duration": 27,
    "start_time": "2022-03-01T09:11:21.581Z"
   },
   {
    "duration": 24,
    "start_time": "2022-03-01T09:11:56.237Z"
   },
   {
    "duration": 291,
    "start_time": "2022-03-01T09:25:15.054Z"
   },
   {
    "duration": 22,
    "start_time": "2022-03-01T09:29:53.936Z"
   },
   {
    "duration": 20,
    "start_time": "2022-03-01T09:30:08.729Z"
   },
   {
    "duration": 5,
    "start_time": "2022-03-01T09:40:06.370Z"
   },
   {
    "duration": 30,
    "start_time": "2022-03-01T09:40:21.530Z"
   },
   {
    "duration": 24,
    "start_time": "2022-03-01T09:40:27.581Z"
   },
   {
    "duration": 25,
    "start_time": "2022-03-01T09:40:30.781Z"
   },
   {
    "duration": 32,
    "start_time": "2022-03-01T09:40:33.162Z"
   },
   {
    "duration": 45,
    "start_time": "2022-03-01T09:41:46.505Z"
   },
   {
    "duration": 32,
    "start_time": "2022-03-01T09:42:29.377Z"
   },
   {
    "duration": 12,
    "start_time": "2022-03-01T13:10:50.108Z"
   },
   {
    "duration": 9,
    "start_time": "2022-03-01T13:10:58.252Z"
   },
   {
    "duration": 14,
    "start_time": "2022-03-01T13:11:51.723Z"
   },
   {
    "duration": 463,
    "start_time": "2022-03-01T13:13:08.008Z"
   },
   {
    "duration": 441,
    "start_time": "2022-03-01T13:13:34.824Z"
   },
   {
    "duration": 500,
    "start_time": "2022-03-01T13:15:27.926Z"
   },
   {
    "duration": 28,
    "start_time": "2022-03-01T13:17:19.772Z"
   },
   {
    "duration": 326,
    "start_time": "2022-03-01T13:17:53.452Z"
   },
   {
    "duration": 247,
    "start_time": "2022-03-01T13:18:18.948Z"
   },
   {
    "duration": 268,
    "start_time": "2022-03-01T13:18:23.447Z"
   },
   {
    "duration": 211,
    "start_time": "2022-03-01T13:45:06.824Z"
   },
   {
    "duration": 238,
    "start_time": "2022-03-01T13:45:21.192Z"
   },
   {
    "duration": 214,
    "start_time": "2022-03-01T13:45:32.043Z"
   },
   {
    "duration": 11,
    "start_time": "2022-03-01T13:45:52.461Z"
   },
   {
    "duration": 12,
    "start_time": "2022-03-01T13:45:59.228Z"
   },
   {
    "duration": 445,
    "start_time": "2022-03-01T13:46:09.939Z"
   },
   {
    "duration": 503,
    "start_time": "2022-03-01T13:48:45.442Z"
   },
   {
    "duration": 179,
    "start_time": "2022-03-02T06:05:08.707Z"
   },
   {
    "duration": 2200,
    "start_time": "2022-03-02T06:05:25.612Z"
   },
   {
    "duration": 6,
    "start_time": "2022-03-02T06:05:27.814Z"
   },
   {
    "duration": 16,
    "start_time": "2022-03-02T06:05:27.822Z"
   },
   {
    "duration": 9,
    "start_time": "2022-03-02T06:05:27.840Z"
   },
   {
    "duration": 16,
    "start_time": "2022-03-02T06:05:27.851Z"
   },
   {
    "duration": 9,
    "start_time": "2022-03-02T06:05:27.869Z"
   },
   {
    "duration": 7,
    "start_time": "2022-03-02T06:05:27.880Z"
   },
   {
    "duration": 5,
    "start_time": "2022-03-02T06:05:27.889Z"
   },
   {
    "duration": 13,
    "start_time": "2022-03-02T06:05:27.897Z"
   },
   {
    "duration": 581,
    "start_time": "2022-03-02T06:05:27.912Z"
   },
   {
    "duration": 20,
    "start_time": "2022-03-02T06:05:28.495Z"
   },
   {
    "duration": 278,
    "start_time": "2022-03-02T06:05:28.518Z"
   },
   {
    "duration": 26,
    "start_time": "2022-03-02T06:05:28.798Z"
   },
   {
    "duration": 27,
    "start_time": "2022-03-02T06:05:28.825Z"
   },
   {
    "duration": 4,
    "start_time": "2022-03-02T06:05:28.854Z"
   },
   {
    "duration": 33,
    "start_time": "2022-03-02T06:05:28.860Z"
   },
   {
    "duration": 22,
    "start_time": "2022-03-02T06:05:28.894Z"
   },
   {
    "duration": 23,
    "start_time": "2022-03-02T06:05:28.938Z"
   },
   {
    "duration": 4,
    "start_time": "2022-03-02T06:05:28.962Z"
   },
   {
    "duration": 37,
    "start_time": "2022-03-02T06:05:28.968Z"
   },
   {
    "duration": 53,
    "start_time": "2022-03-02T06:05:29.007Z"
   },
   {
    "duration": 29,
    "start_time": "2022-03-02T06:05:29.062Z"
   },
   {
    "duration": 9,
    "start_time": "2022-03-02T06:05:29.092Z"
   },
   {
    "duration": 36,
    "start_time": "2022-03-02T06:05:29.102Z"
   },
   {
    "duration": 406,
    "start_time": "2022-03-02T06:05:29.140Z"
   },
   {
    "duration": 436,
    "start_time": "2022-03-02T06:05:29.548Z"
   },
   {
    "duration": 51,
    "start_time": "2022-03-02T06:05:29.988Z"
   },
   {
    "duration": 260,
    "start_time": "2022-03-02T06:05:30.042Z"
   },
   {
    "duration": 18,
    "start_time": "2022-03-02T06:05:30.338Z"
   },
   {
    "duration": 18,
    "start_time": "2022-03-02T06:05:35.604Z"
   },
   {
    "duration": 352,
    "start_time": "2022-03-02T06:14:43.301Z"
   },
   {
    "duration": 1039,
    "start_time": "2022-03-02T06:16:48.302Z"
   },
   {
    "duration": 6,
    "start_time": "2022-03-02T06:16:58.483Z"
   },
   {
    "duration": 8,
    "start_time": "2022-03-02T06:17:03.349Z"
   },
   {
    "duration": 3,
    "start_time": "2022-03-02T06:17:07.496Z"
   },
   {
    "duration": 5,
    "start_time": "2022-03-02T06:17:09.974Z"
   },
   {
    "duration": 6,
    "start_time": "2022-03-02T06:17:12.816Z"
   },
   {
    "duration": 10,
    "start_time": "2022-03-02T06:17:16.318Z"
   },
   {
    "duration": 526,
    "start_time": "2022-03-02T06:17:18.991Z"
   },
   {
    "duration": 22,
    "start_time": "2022-03-02T06:17:22.052Z"
   },
   {
    "duration": 22,
    "start_time": "2022-03-02T06:17:24.434Z"
   },
   {
    "duration": 21,
    "start_time": "2022-03-02T06:17:27.478Z"
   },
   {
    "duration": 4,
    "start_time": "2022-03-02T06:17:30.962Z"
   },
   {
    "duration": 27,
    "start_time": "2022-03-02T06:17:34.521Z"
   },
   {
    "duration": 21,
    "start_time": "2022-03-02T06:17:37.223Z"
   },
   {
    "duration": 20,
    "start_time": "2022-03-02T06:17:39.855Z"
   },
   {
    "duration": 4,
    "start_time": "2022-03-02T06:17:42.621Z"
   },
   {
    "duration": 28,
    "start_time": "2022-03-02T06:17:45.213Z"
   },
   {
    "duration": 36,
    "start_time": "2022-03-02T06:17:47.965Z"
   },
   {
    "duration": 29,
    "start_time": "2022-03-02T06:17:50.831Z"
   },
   {
    "duration": 8,
    "start_time": "2022-03-02T06:17:54.257Z"
   },
   {
    "duration": 374,
    "start_time": "2022-03-02T06:17:59.437Z"
   },
   {
    "duration": 419,
    "start_time": "2022-03-02T06:18:03.059Z"
   },
   {
    "duration": 23,
    "start_time": "2022-03-02T06:18:06.538Z"
   },
   {
    "duration": 243,
    "start_time": "2022-03-02T06:18:08.842Z"
   },
   {
    "duration": 1788,
    "start_time": "2022-03-02T06:18:12.878Z"
   },
   {
    "duration": 2312,
    "start_time": "2022-03-02T06:24:10.663Z"
   },
   {
    "duration": 2062,
    "start_time": "2022-03-02T06:31:48.329Z"
   },
   {
    "duration": 1035,
    "start_time": "2022-03-02T06:32:41.328Z"
   },
   {
    "duration": 3230,
    "start_time": "2022-03-02T08:47:38.382Z"
   },
   {
    "duration": 135,
    "start_time": "2022-03-02T08:49:11.580Z"
   },
   {
    "duration": 131,
    "start_time": "2022-03-02T08:49:15.884Z"
   },
   {
    "duration": 1199,
    "start_time": "2022-03-02T08:49:31.044Z"
   },
   {
    "duration": 1586,
    "start_time": "2022-03-02T08:56:19.015Z"
   },
   {
    "duration": 1124,
    "start_time": "2022-03-02T08:56:45.199Z"
   },
   {
    "duration": 1176,
    "start_time": "2022-03-02T09:06:26.102Z"
   },
   {
    "duration": 2223,
    "start_time": "2022-03-02T10:03:14.151Z"
   },
   {
    "duration": 2431,
    "start_time": "2022-03-02T10:03:45.022Z"
   },
   {
    "duration": 2300,
    "start_time": "2022-03-02T10:03:58.006Z"
   },
   {
    "duration": 2391,
    "start_time": "2022-03-02T10:04:07.286Z"
   },
   {
    "duration": 2261,
    "start_time": "2022-03-02T10:04:21.846Z"
   },
   {
    "duration": 1193,
    "start_time": "2022-03-02T10:20:13.539Z"
   },
   {
    "duration": 1081,
    "start_time": "2022-03-02T10:20:31.411Z"
   },
   {
    "duration": 1027,
    "start_time": "2022-03-02T10:21:49.122Z"
   },
   {
    "duration": 11,
    "start_time": "2022-03-02T10:22:56.806Z"
   },
   {
    "duration": 2109,
    "start_time": "2022-03-02T10:23:01.257Z"
   },
   {
    "duration": 2203,
    "start_time": "2022-03-02T10:23:35.953Z"
   },
   {
    "duration": 2528,
    "start_time": "2022-03-02T10:39:38.272Z"
   },
   {
    "duration": 898,
    "start_time": "2022-03-02T10:40:16.943Z"
   },
   {
    "duration": 2400,
    "start_time": "2022-03-02T10:40:39.176Z"
   },
   {
    "duration": 20,
    "start_time": "2022-03-02T12:08:04.086Z"
   },
   {
    "duration": 5,
    "start_time": "2022-03-02T12:13:26.177Z"
   },
   {
    "duration": 23,
    "start_time": "2022-03-02T12:13:29.649Z"
   },
   {
    "duration": 1666,
    "start_time": "2022-03-02T13:22:06.988Z"
   },
   {
    "duration": 2258,
    "start_time": "2022-03-02T13:22:15.303Z"
   },
   {
    "duration": 2436,
    "start_time": "2022-03-02T13:30:52.090Z"
   },
   {
    "duration": 7,
    "start_time": "2022-03-02T13:31:01.732Z"
   },
   {
    "duration": 8,
    "start_time": "2022-03-02T13:31:10.720Z"
   },
   {
    "duration": 3,
    "start_time": "2022-03-02T13:31:16.611Z"
   },
   {
    "duration": 7,
    "start_time": "2022-03-02T13:31:23.085Z"
   },
   {
    "duration": 554,
    "start_time": "2022-03-02T13:31:34.242Z"
   },
   {
    "duration": 24,
    "start_time": "2022-03-02T13:31:40.093Z"
   },
   {
    "duration": 24,
    "start_time": "2022-03-02T13:31:43.479Z"
   },
   {
    "duration": 22,
    "start_time": "2022-03-02T13:32:03.367Z"
   },
   {
    "duration": 4,
    "start_time": "2022-03-02T13:32:15.531Z"
   },
   {
    "duration": 30,
    "start_time": "2022-03-02T13:32:18.158Z"
   },
   {
    "duration": 24,
    "start_time": "2022-03-02T13:33:40.418Z"
   },
   {
    "duration": 24,
    "start_time": "2022-03-02T13:33:51.361Z"
   },
   {
    "duration": 185,
    "start_time": "2022-03-02T13:34:01.265Z"
   },
   {
    "duration": 23,
    "start_time": "2022-03-02T13:34:05.338Z"
   },
   {
    "duration": 23,
    "start_time": "2022-03-02T14:06:15.258Z"
   },
   {
    "duration": 4,
    "start_time": "2022-03-02T14:06:23.193Z"
   },
   {
    "duration": 4,
    "start_time": "2022-03-02T14:06:28.330Z"
   },
   {
    "duration": 5,
    "start_time": "2022-03-02T14:06:32.039Z"
   },
   {
    "duration": 28,
    "start_time": "2022-03-02T14:06:40.329Z"
   },
   {
    "duration": 23,
    "start_time": "2022-03-02T14:08:01.145Z"
   },
   {
    "duration": 28,
    "start_time": "2022-03-02T14:09:41.404Z"
   },
   {
    "duration": 50,
    "start_time": "2022-03-02T14:17:29.401Z"
   },
   {
    "duration": 163,
    "start_time": "2022-03-02T14:17:34.945Z"
   },
   {
    "duration": 30,
    "start_time": "2022-03-02T14:17:43.201Z"
   },
   {
    "duration": 51,
    "start_time": "2022-03-02T14:17:58.953Z"
   },
   {
    "duration": 29,
    "start_time": "2022-03-02T14:18:05.272Z"
   },
   {
    "duration": 37,
    "start_time": "2022-03-02T14:21:44.678Z"
   },
   {
    "duration": 23,
    "start_time": "2022-03-02T14:30:23.687Z"
   },
   {
    "duration": 29,
    "start_time": "2022-03-02T15:04:36.277Z"
   },
   {
    "duration": 4,
    "start_time": "2022-03-02T15:04:59.603Z"
   },
   {
    "duration": 27,
    "start_time": "2022-03-02T15:05:00.952Z"
   },
   {
    "duration": 21,
    "start_time": "2022-03-02T15:05:03.934Z"
   },
   {
    "duration": 21,
    "start_time": "2022-03-02T15:05:06.653Z"
   },
   {
    "duration": 29,
    "start_time": "2022-03-02T15:05:09.584Z"
   },
   {
    "duration": 29,
    "start_time": "2022-03-02T15:05:17.084Z"
   },
   {
    "duration": 23,
    "start_time": "2022-03-02T15:34:00.666Z"
   },
   {
    "duration": 22,
    "start_time": "2022-03-02T15:37:23.854Z"
   },
   {
    "duration": 23,
    "start_time": "2022-03-02T17:42:08.045Z"
   },
   {
    "duration": 232,
    "start_time": "2022-03-02T18:14:16.206Z"
   },
   {
    "duration": 1180,
    "start_time": "2022-03-02T20:17:23.189Z"
   },
   {
    "duration": 2214,
    "start_time": "2022-03-03T01:20:27.033Z"
   },
   {
    "duration": 6,
    "start_time": "2022-03-03T01:20:29.249Z"
   },
   {
    "duration": 6,
    "start_time": "2022-03-03T01:20:29.262Z"
   },
   {
    "duration": 17,
    "start_time": "2022-03-03T01:20:29.270Z"
   },
   {
    "duration": 25,
    "start_time": "2022-03-03T01:20:29.288Z"
   },
   {
    "duration": 14,
    "start_time": "2022-03-03T01:20:29.315Z"
   },
   {
    "duration": 11,
    "start_time": "2022-03-03T01:20:29.332Z"
   },
   {
    "duration": 12,
    "start_time": "2022-03-03T01:20:29.345Z"
   },
   {
    "duration": 11,
    "start_time": "2022-03-03T01:20:29.359Z"
   },
   {
    "duration": 560,
    "start_time": "2022-03-03T01:20:29.371Z"
   },
   {
    "duration": 20,
    "start_time": "2022-03-03T01:20:29.933Z"
   },
   {
    "duration": 584,
    "start_time": "2022-03-03T01:20:29.963Z"
   },
   {
    "duration": 27,
    "start_time": "2022-03-03T01:20:30.550Z"
   },
   {
    "duration": 5,
    "start_time": "2022-03-03T01:20:30.579Z"
   },
   {
    "duration": 32,
    "start_time": "2022-03-03T01:20:30.586Z"
   },
   {
    "duration": 22,
    "start_time": "2022-03-03T01:20:30.620Z"
   },
   {
    "duration": 40,
    "start_time": "2022-03-03T01:20:30.643Z"
   },
   {
    "duration": 30,
    "start_time": "2022-03-03T01:20:30.685Z"
   },
   {
    "duration": 67,
    "start_time": "2022-03-03T01:20:30.717Z"
   },
   {
    "duration": 30,
    "start_time": "2022-03-03T01:20:30.787Z"
   },
   {
    "duration": 11,
    "start_time": "2022-03-03T01:20:30.819Z"
   },
   {
    "duration": 32,
    "start_time": "2022-03-03T01:20:30.834Z"
   },
   {
    "duration": 386,
    "start_time": "2022-03-03T01:20:30.868Z"
   },
   {
    "duration": 435,
    "start_time": "2022-03-03T01:20:31.256Z"
   },
   {
    "duration": 28,
    "start_time": "2022-03-03T01:20:31.693Z"
   },
   {
    "duration": 257,
    "start_time": "2022-03-03T01:20:31.723Z"
   },
   {
    "duration": 1809,
    "start_time": "2022-03-03T01:20:31.982Z"
   },
   {
    "duration": 2074,
    "start_time": "2022-03-03T01:20:33.793Z"
   },
   {
    "duration": 1110,
    "start_time": "2022-03-03T01:20:35.869Z"
   },
   {
    "duration": 2190,
    "start_time": "2022-03-03T01:20:36.981Z"
   },
   {
    "duration": 2119,
    "start_time": "2022-03-03T01:20:39.173Z"
   },
   {
    "duration": 1112,
    "start_time": "2022-03-03T01:20:41.293Z"
   },
   {
    "duration": 1921,
    "start_time": "2022-03-03T01:20:42.407Z"
   },
   {
    "duration": 2565,
    "start_time": "2022-03-03T01:20:44.329Z"
   },
   {
    "duration": 1187,
    "start_time": "2022-03-03T01:20:46.896Z"
   },
   {
    "duration": 2381,
    "start_time": "2022-03-03T01:20:48.085Z"
   },
   {
    "duration": 2737,
    "start_time": "2022-03-09T08:44:26.608Z"
   },
   {
    "duration": 3157,
    "start_time": "2022-03-09T08:47:01.965Z"
   },
   {
    "duration": 10,
    "start_time": "2022-03-09T08:47:05.125Z"
   },
   {
    "duration": 27,
    "start_time": "2022-03-09T08:47:05.138Z"
   },
   {
    "duration": 21,
    "start_time": "2022-03-09T08:47:05.168Z"
   },
   {
    "duration": 19,
    "start_time": "2022-03-09T08:47:05.192Z"
   },
   {
    "duration": 14,
    "start_time": "2022-03-09T08:47:05.213Z"
   },
   {
    "duration": 17,
    "start_time": "2022-03-09T08:47:05.230Z"
   },
   {
    "duration": 27,
    "start_time": "2022-03-09T08:47:05.251Z"
   },
   {
    "duration": 21,
    "start_time": "2022-03-09T08:47:05.281Z"
   },
   {
    "duration": 2278,
    "start_time": "2022-03-09T08:47:05.304Z"
   },
   {
    "duration": -18,
    "start_time": "2022-03-09T08:47:07.603Z"
   },
   {
    "duration": -17,
    "start_time": "2022-03-09T08:47:07.604Z"
   },
   {
    "duration": -18,
    "start_time": "2022-03-09T08:47:07.606Z"
   },
   {
    "duration": -18,
    "start_time": "2022-03-09T08:47:07.608Z"
   },
   {
    "duration": -17,
    "start_time": "2022-03-09T08:47:07.609Z"
   },
   {
    "duration": -17,
    "start_time": "2022-03-09T08:47:07.610Z"
   },
   {
    "duration": -17,
    "start_time": "2022-03-09T08:47:07.612Z"
   },
   {
    "duration": -16,
    "start_time": "2022-03-09T08:47:07.613Z"
   },
   {
    "duration": -16,
    "start_time": "2022-03-09T08:47:07.614Z"
   },
   {
    "duration": -15,
    "start_time": "2022-03-09T08:47:07.615Z"
   },
   {
    "duration": -15,
    "start_time": "2022-03-09T08:47:07.616Z"
   },
   {
    "duration": -16,
    "start_time": "2022-03-09T08:47:07.618Z"
   },
   {
    "duration": -16,
    "start_time": "2022-03-09T08:47:07.619Z"
   },
   {
    "duration": -15,
    "start_time": "2022-03-09T08:47:07.620Z"
   },
   {
    "duration": -15,
    "start_time": "2022-03-09T08:47:07.621Z"
   },
   {
    "duration": -15,
    "start_time": "2022-03-09T08:47:07.622Z"
   },
   {
    "duration": -14,
    "start_time": "2022-03-09T08:47:07.623Z"
   },
   {
    "duration": -15,
    "start_time": "2022-03-09T08:47:07.625Z"
   },
   {
    "duration": -15,
    "start_time": "2022-03-09T08:47:07.626Z"
   },
   {
    "duration": -45,
    "start_time": "2022-03-09T08:47:07.658Z"
   },
   {
    "duration": -49,
    "start_time": "2022-03-09T08:47:07.663Z"
   },
   {
    "duration": -49,
    "start_time": "2022-03-09T08:47:07.664Z"
   },
   {
    "duration": -49,
    "start_time": "2022-03-09T08:47:07.666Z"
   },
   {
    "duration": -50,
    "start_time": "2022-03-09T08:47:07.668Z"
   },
   {
    "duration": -50,
    "start_time": "2022-03-09T08:47:07.669Z"
   },
   {
    "duration": -54,
    "start_time": "2022-03-09T08:47:07.674Z"
   },
   {
    "duration": 1357,
    "start_time": "2022-03-09T09:01:21.004Z"
   },
   {
    "duration": 1390,
    "start_time": "2022-03-09T09:02:59.896Z"
   },
   {
    "duration": 1261,
    "start_time": "2022-03-09T09:03:44.995Z"
   },
   {
    "duration": 2840,
    "start_time": "2022-03-09T09:03:58.239Z"
   },
   {
    "duration": 13,
    "start_time": "2022-03-09T09:04:01.082Z"
   },
   {
    "duration": 32,
    "start_time": "2022-03-09T09:04:01.098Z"
   },
   {
    "duration": 34,
    "start_time": "2022-03-09T09:04:01.132Z"
   },
   {
    "duration": 45,
    "start_time": "2022-03-09T09:04:01.169Z"
   },
   {
    "duration": 40,
    "start_time": "2022-03-09T09:04:01.217Z"
   },
   {
    "duration": 20,
    "start_time": "2022-03-09T09:04:01.260Z"
   },
   {
    "duration": 20,
    "start_time": "2022-03-09T09:04:01.282Z"
   },
   {
    "duration": 23,
    "start_time": "2022-03-09T09:04:01.306Z"
   },
   {
    "duration": 885,
    "start_time": "2022-03-09T09:04:01.332Z"
   },
   {
    "duration": 27,
    "start_time": "2022-03-09T09:04:02.220Z"
   },
   {
    "duration": 560,
    "start_time": "2022-03-09T09:04:02.250Z"
   },
   {
    "duration": 38,
    "start_time": "2022-03-09T09:04:02.813Z"
   },
   {
    "duration": 6,
    "start_time": "2022-03-09T09:04:02.854Z"
   },
   {
    "duration": 66,
    "start_time": "2022-03-09T09:04:02.863Z"
   },
   {
    "duration": 60,
    "start_time": "2022-03-09T09:04:02.932Z"
   },
   {
    "duration": 31,
    "start_time": "2022-03-09T09:04:02.994Z"
   },
   {
    "duration": 61,
    "start_time": "2022-03-09T09:04:03.027Z"
   },
   {
    "duration": 52,
    "start_time": "2022-03-09T09:04:03.090Z"
   },
   {
    "duration": 63,
    "start_time": "2022-03-09T09:04:03.144Z"
   },
   {
    "duration": 13,
    "start_time": "2022-03-09T09:04:03.209Z"
   },
   {
    "duration": 22,
    "start_time": "2022-03-09T09:04:03.224Z"
   },
   {
    "duration": 680,
    "start_time": "2022-03-09T09:04:03.249Z"
   },
   {
    "duration": 683,
    "start_time": "2022-03-09T09:04:03.931Z"
   },
   {
    "duration": 32,
    "start_time": "2022-03-09T09:04:04.616Z"
   },
   {
    "duration": 406,
    "start_time": "2022-03-09T09:04:04.650Z"
   },
   {
    "duration": 1685,
    "start_time": "2022-03-09T09:04:05.060Z"
   },
   {
    "duration": 22,
    "start_time": "2022-03-09T09:04:06.726Z"
   },
   {
    "duration": 21,
    "start_time": "2022-03-09T09:04:06.728Z"
   },
   {
    "duration": 22,
    "start_time": "2022-03-09T09:04:06.729Z"
   },
   {
    "duration": -5,
    "start_time": "2022-03-09T09:04:06.757Z"
   },
   {
    "duration": -7,
    "start_time": "2022-03-09T09:04:06.761Z"
   },
   {
    "duration": -8,
    "start_time": "2022-03-09T09:04:06.763Z"
   },
   {
    "duration": -7,
    "start_time": "2022-03-09T09:04:06.764Z"
   },
   {
    "duration": -7,
    "start_time": "2022-03-09T09:04:06.765Z"
   },
   {
    "duration": -8,
    "start_time": "2022-03-09T09:04:06.767Z"
   },
   {
    "duration": 1451,
    "start_time": "2022-03-09T09:07:08.721Z"
   },
   {
    "duration": 2856,
    "start_time": "2022-03-09T09:10:49.091Z"
   },
   {
    "duration": 9,
    "start_time": "2022-03-09T09:10:51.950Z"
   },
   {
    "duration": 28,
    "start_time": "2022-03-09T09:10:51.961Z"
   },
   {
    "duration": 41,
    "start_time": "2022-03-09T09:10:51.991Z"
   },
   {
    "duration": 32,
    "start_time": "2022-03-09T09:10:52.035Z"
   },
   {
    "duration": 33,
    "start_time": "2022-03-09T09:10:52.069Z"
   },
   {
    "duration": 47,
    "start_time": "2022-03-09T09:10:52.104Z"
   },
   {
    "duration": 32,
    "start_time": "2022-03-09T09:10:52.154Z"
   },
   {
    "duration": 33,
    "start_time": "2022-03-09T09:10:52.189Z"
   },
   {
    "duration": 864,
    "start_time": "2022-03-09T09:10:52.224Z"
   },
   {
    "duration": 28,
    "start_time": "2022-03-09T09:10:53.091Z"
   },
   {
    "duration": 539,
    "start_time": "2022-03-09T09:10:53.121Z"
   },
   {
    "duration": 42,
    "start_time": "2022-03-09T09:10:53.663Z"
   },
   {
    "duration": 5,
    "start_time": "2022-03-09T09:10:53.707Z"
   },
   {
    "duration": 47,
    "start_time": "2022-03-09T09:10:53.715Z"
   },
   {
    "duration": 45,
    "start_time": "2022-03-09T09:10:53.765Z"
   },
   {
    "duration": 27,
    "start_time": "2022-03-09T09:10:53.813Z"
   },
   {
    "duration": 62,
    "start_time": "2022-03-09T09:10:53.842Z"
   },
   {
    "duration": 59,
    "start_time": "2022-03-09T09:10:53.906Z"
   },
   {
    "duration": 39,
    "start_time": "2022-03-09T09:10:53.988Z"
   },
   {
    "duration": 13,
    "start_time": "2022-03-09T09:10:54.030Z"
   },
   {
    "duration": 44,
    "start_time": "2022-03-09T09:10:54.046Z"
   },
   {
    "duration": 737,
    "start_time": "2022-03-09T09:10:54.095Z"
   },
   {
    "duration": 695,
    "start_time": "2022-03-09T09:10:54.835Z"
   },
   {
    "duration": 36,
    "start_time": "2022-03-09T09:10:55.532Z"
   },
   {
    "duration": 389,
    "start_time": "2022-03-09T09:10:55.587Z"
   },
   {
    "duration": 1529,
    "start_time": "2022-03-09T09:10:55.978Z"
   },
   {
    "duration": 35,
    "start_time": "2022-03-09T09:10:57.475Z"
   },
   {
    "duration": 35,
    "start_time": "2022-03-09T09:10:57.476Z"
   },
   {
    "duration": 35,
    "start_time": "2022-03-09T09:10:57.478Z"
   },
   {
    "duration": 35,
    "start_time": "2022-03-09T09:10:57.479Z"
   },
   {
    "duration": 35,
    "start_time": "2022-03-09T09:10:57.481Z"
   },
   {
    "duration": 13,
    "start_time": "2022-03-09T09:10:57.504Z"
   },
   {
    "duration": 10,
    "start_time": "2022-03-09T09:10:57.509Z"
   },
   {
    "duration": 10,
    "start_time": "2022-03-09T09:10:57.510Z"
   },
   {
    "duration": 11,
    "start_time": "2022-03-09T09:10:57.511Z"
   },
   {
    "duration": 35,
    "start_time": "2022-03-09T09:11:55.349Z"
   },
   {
    "duration": 457,
    "start_time": "2022-03-09T09:12:00.410Z"
   },
   {
    "duration": 386,
    "start_time": "2022-03-09T09:13:29.650Z"
   },
   {
    "duration": 1412,
    "start_time": "2022-03-09T09:14:23.981Z"
   },
   {
    "duration": 1372,
    "start_time": "2022-03-09T09:14:43.237Z"
   },
   {
    "duration": 1319,
    "start_time": "2022-03-09T09:15:24.785Z"
   },
   {
    "duration": 1331,
    "start_time": "2022-03-09T09:16:39.957Z"
   },
   {
    "duration": 2940,
    "start_time": "2022-03-09T09:16:52.787Z"
   },
   {
    "duration": 9,
    "start_time": "2022-03-09T09:16:55.730Z"
   },
   {
    "duration": 26,
    "start_time": "2022-03-09T09:16:55.742Z"
   },
   {
    "duration": 22,
    "start_time": "2022-03-09T09:16:55.771Z"
   },
   {
    "duration": 21,
    "start_time": "2022-03-09T09:16:55.796Z"
   },
   {
    "duration": 18,
    "start_time": "2022-03-09T09:16:55.820Z"
   },
   {
    "duration": 21,
    "start_time": "2022-03-09T09:16:55.840Z"
   },
   {
    "duration": 25,
    "start_time": "2022-03-09T09:16:55.865Z"
   },
   {
    "duration": 23,
    "start_time": "2022-03-09T09:16:55.893Z"
   },
   {
    "duration": 844,
    "start_time": "2022-03-09T09:16:55.919Z"
   },
   {
    "duration": 38,
    "start_time": "2022-03-09T09:16:56.765Z"
   },
   {
    "duration": 554,
    "start_time": "2022-03-09T09:16:56.806Z"
   },
   {
    "duration": 41,
    "start_time": "2022-03-09T09:16:57.363Z"
   },
   {
    "duration": 6,
    "start_time": "2022-03-09T09:16:57.406Z"
   },
   {
    "duration": 42,
    "start_time": "2022-03-09T09:16:57.414Z"
   },
   {
    "duration": 50,
    "start_time": "2022-03-09T09:16:57.459Z"
   },
   {
    "duration": 26,
    "start_time": "2022-03-09T09:16:57.511Z"
   },
   {
    "duration": 63,
    "start_time": "2022-03-09T09:16:57.539Z"
   },
   {
    "duration": 52,
    "start_time": "2022-03-09T09:16:57.604Z"
   },
   {
    "duration": 57,
    "start_time": "2022-03-09T09:16:57.659Z"
   },
   {
    "duration": 19,
    "start_time": "2022-03-09T09:16:57.719Z"
   },
   {
    "duration": 48,
    "start_time": "2022-03-09T09:16:57.740Z"
   },
   {
    "duration": 653,
    "start_time": "2022-03-09T09:16:57.793Z"
   },
   {
    "duration": 688,
    "start_time": "2022-03-09T09:16:58.449Z"
   },
   {
    "duration": 75,
    "start_time": "2022-03-09T09:16:59.140Z"
   },
   {
    "duration": 384,
    "start_time": "2022-03-09T09:16:59.218Z"
   },
   {
    "duration": 2865,
    "start_time": "2022-03-09T09:16:59.604Z"
   },
   {
    "duration": 3531,
    "start_time": "2022-03-09T09:17:02.471Z"
   },
   {
    "duration": 1746,
    "start_time": "2022-03-09T09:17:06.005Z"
   },
   {
    "duration": 3483,
    "start_time": "2022-03-09T09:17:07.753Z"
   },
   {
    "duration": 3472,
    "start_time": "2022-03-09T09:17:11.239Z"
   },
   {
    "duration": 1718,
    "start_time": "2022-03-09T09:17:14.714Z"
   },
   {
    "duration": 3159,
    "start_time": "2022-03-09T09:17:16.434Z"
   },
   {
    "duration": 4092,
    "start_time": "2022-03-09T09:17:19.595Z"
   },
   {
    "duration": 1866,
    "start_time": "2022-03-09T09:17:23.689Z"
   },
   {
    "duration": 3754,
    "start_time": "2022-03-09T09:17:25.557Z"
   }
  ],
  "kernelspec": {
   "display_name": "Python 3 (ipykernel)",
   "language": "python",
   "name": "python3"
  },
  "language_info": {
   "codemirror_mode": {
    "name": "ipython",
    "version": 3
   },
   "file_extension": ".py",
   "mimetype": "text/x-python",
   "name": "python",
   "nbconvert_exporter": "python",
   "pygments_lexer": "ipython3",
   "version": "3.7.8"
  },
  "toc": {
   "base_numbering": 1,
   "nav_menu": {},
   "number_sections": true,
   "sideBar": true,
   "skip_h1_title": true,
   "title_cell": "Table of Contents",
   "title_sidebar": "Contents",
   "toc_cell": false,
   "toc_position": {},
   "toc_section_display": true,
   "toc_window_display": true
  }
 },
 "nbformat": 4,
 "nbformat_minor": 4
}
