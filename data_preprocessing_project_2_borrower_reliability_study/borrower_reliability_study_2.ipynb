{
 "cells": [
  {
   "cell_type": "markdown",
   "metadata": {},
   "source": [
    "# Исследование надёжности заёмщиков\n",
    "\n",
    "### Описание исследования\n",
    "\n",
    "Заказчик — кредитный отдел банка. Нужно разобраться, влияет ли семейное положение и количество детей клиента на факт погашения кредита в срок. Входные данные от банка — статистика о платёжеспособности клиентов.\n",
    "\n",
    "Результаты исследования будут учтены при построении модели **кредитного скоринга**.\n",
    "\n",
    "### Цель исследования.\n",
    "    \n",
    "Суть исследования: \n",
    "\n",
    "Провести анализ данных при помощи которых банк разработает модель **кредитного скоринга** — специальной системы, которая оценивает способность потенциального заёмщика вернуть кредит банку.\n",
    "    \n",
    "_____\n",
    "### Задачи исследования.\n",
    "\n",
    "1. Выявить, есть ли зависимость между показателями:\n",
    "* количество детей и возвратом кредита в срок;\n",
    "* семейным положением и возвратом кредита в срок;\n",
    "* уровнем дохода и возвратом кредита в срок;\n",
    "2. Проанализировать, как ак разные цели кредита влияют на его возврат в срок?\n",
    "_____\n",
    "### Исходные данные.\n",
    "    \n",
    "Данные о клиентах банка.\n",
    "______\n",
    "\n",
    "#### Данное исследование разделим на несколько частей.\n",
    "\n",
    "### Часть 1. Изучение общей информации:\n",
    "* [1. Изучение файлов с данными, получение общей информации, загрузка библиотек.](#1-bullet)\n",
    "* [2. Нахождение и ликвидация пропусков.](#2-bullet)\n",
    "\n",
    "### Часть 2. Подготовка данных:\n",
    "* [1. Приведение данных к нужным типам.](#3-bullet)\n",
    "* [2. Нахождение и исправление аномалий и ошибок.](#4-bullet)\n",
    "* [Ответы на вопросы](#5-bullet)"
   ]
  },
  {
   "cell_type": "markdown",
   "metadata": {},
   "source": [
    "## Шаг 1. Откройте файл с данными и изучите общую информацию"
   ]
  },
  {
   "cell_type": "code",
   "execution_count": 1,
   "metadata": {
    "scrolled": false
   },
   "outputs": [
    {
     "name": "stdout",
     "output_type": "stream",
     "text": [
      "<class 'pandas.core.frame.DataFrame'>\n",
      "RangeIndex: 21525 entries, 0 to 21524\n",
      "Data columns (total 12 columns):\n",
      " #   Column            Non-Null Count  Dtype  \n",
      "---  ------            --------------  -----  \n",
      " 0   children          21525 non-null  int64  \n",
      " 1   days_employed     19351 non-null  float64\n",
      " 2   dob_years         21525 non-null  int64  \n",
      " 3   education         21525 non-null  object \n",
      " 4   education_id      21525 non-null  int64  \n",
      " 5   family_status     21525 non-null  object \n",
      " 6   family_status_id  21525 non-null  int64  \n",
      " 7   gender            21525 non-null  object \n",
      " 8   income_type       21525 non-null  object \n",
      " 9   debt              21525 non-null  int64  \n",
      " 10  total_income      19351 non-null  float64\n",
      " 11  purpose           21525 non-null  object \n",
      "dtypes: float64(2), int64(5), object(5)\n",
      "memory usage: 2.0+ MB\n"
     ]
    },
    {
     "data": {
      "text/html": [
       "<div>\n",
       "<style scoped>\n",
       "    .dataframe tbody tr th:only-of-type {\n",
       "        vertical-align: middle;\n",
       "    }\n",
       "\n",
       "    .dataframe tbody tr th {\n",
       "        vertical-align: top;\n",
       "    }\n",
       "\n",
       "    .dataframe thead th {\n",
       "        text-align: right;\n",
       "    }\n",
       "</style>\n",
       "<table border=\"1\" class=\"dataframe\">\n",
       "  <thead>\n",
       "    <tr style=\"text-align: right;\">\n",
       "      <th></th>\n",
       "      <th>children</th>\n",
       "      <th>days_employed</th>\n",
       "      <th>dob_years</th>\n",
       "      <th>education</th>\n",
       "      <th>education_id</th>\n",
       "      <th>family_status</th>\n",
       "      <th>family_status_id</th>\n",
       "      <th>gender</th>\n",
       "      <th>income_type</th>\n",
       "      <th>debt</th>\n",
       "      <th>total_income</th>\n",
       "      <th>purpose</th>\n",
       "    </tr>\n",
       "  </thead>\n",
       "  <tbody>\n",
       "    <tr>\n",
       "      <th>0</th>\n",
       "      <td>1</td>\n",
       "      <td>-8437.673028</td>\n",
       "      <td>42</td>\n",
       "      <td>высшее</td>\n",
       "      <td>0</td>\n",
       "      <td>женат / замужем</td>\n",
       "      <td>0</td>\n",
       "      <td>F</td>\n",
       "      <td>сотрудник</td>\n",
       "      <td>0</td>\n",
       "      <td>253875.639453</td>\n",
       "      <td>покупка жилья</td>\n",
       "    </tr>\n",
       "    <tr>\n",
       "      <th>1</th>\n",
       "      <td>1</td>\n",
       "      <td>-4024.803754</td>\n",
       "      <td>36</td>\n",
       "      <td>среднее</td>\n",
       "      <td>1</td>\n",
       "      <td>женат / замужем</td>\n",
       "      <td>0</td>\n",
       "      <td>F</td>\n",
       "      <td>сотрудник</td>\n",
       "      <td>0</td>\n",
       "      <td>112080.014102</td>\n",
       "      <td>приобретение автомобиля</td>\n",
       "    </tr>\n",
       "    <tr>\n",
       "      <th>2</th>\n",
       "      <td>0</td>\n",
       "      <td>-5623.422610</td>\n",
       "      <td>33</td>\n",
       "      <td>Среднее</td>\n",
       "      <td>1</td>\n",
       "      <td>женат / замужем</td>\n",
       "      <td>0</td>\n",
       "      <td>M</td>\n",
       "      <td>сотрудник</td>\n",
       "      <td>0</td>\n",
       "      <td>145885.952297</td>\n",
       "      <td>покупка жилья</td>\n",
       "    </tr>\n",
       "    <tr>\n",
       "      <th>3</th>\n",
       "      <td>3</td>\n",
       "      <td>-4124.747207</td>\n",
       "      <td>32</td>\n",
       "      <td>среднее</td>\n",
       "      <td>1</td>\n",
       "      <td>женат / замужем</td>\n",
       "      <td>0</td>\n",
       "      <td>M</td>\n",
       "      <td>сотрудник</td>\n",
       "      <td>0</td>\n",
       "      <td>267628.550329</td>\n",
       "      <td>дополнительное образование</td>\n",
       "    </tr>\n",
       "    <tr>\n",
       "      <th>4</th>\n",
       "      <td>0</td>\n",
       "      <td>340266.072047</td>\n",
       "      <td>53</td>\n",
       "      <td>среднее</td>\n",
       "      <td>1</td>\n",
       "      <td>гражданский брак</td>\n",
       "      <td>1</td>\n",
       "      <td>F</td>\n",
       "      <td>пенсионер</td>\n",
       "      <td>0</td>\n",
       "      <td>158616.077870</td>\n",
       "      <td>сыграть свадьбу</td>\n",
       "    </tr>\n",
       "  </tbody>\n",
       "</table>\n",
       "</div>"
      ],
      "text/plain": [
       "   children  days_employed  dob_years education  education_id  \\\n",
       "0         1   -8437.673028         42    высшее             0   \n",
       "1         1   -4024.803754         36   среднее             1   \n",
       "2         0   -5623.422610         33   Среднее             1   \n",
       "3         3   -4124.747207         32   среднее             1   \n",
       "4         0  340266.072047         53   среднее             1   \n",
       "\n",
       "      family_status  family_status_id gender income_type  debt   total_income  \\\n",
       "0   женат / замужем                 0      F   сотрудник     0  253875.639453   \n",
       "1   женат / замужем                 0      F   сотрудник     0  112080.014102   \n",
       "2   женат / замужем                 0      M   сотрудник     0  145885.952297   \n",
       "3   женат / замужем                 0      M   сотрудник     0  267628.550329   \n",
       "4  гражданский брак                 1      F   пенсионер     0  158616.077870   \n",
       "\n",
       "                      purpose  \n",
       "0               покупка жилья  \n",
       "1     приобретение автомобиля  \n",
       "2               покупка жилья  \n",
       "3  дополнительное образование  \n",
       "4             сыграть свадьбу  "
      ]
     },
     "metadata": {},
     "output_type": "display_data"
    },
    {
     "data": {
      "text/html": [
       "<div>\n",
       "<style scoped>\n",
       "    .dataframe tbody tr th:only-of-type {\n",
       "        vertical-align: middle;\n",
       "    }\n",
       "\n",
       "    .dataframe tbody tr th {\n",
       "        vertical-align: top;\n",
       "    }\n",
       "\n",
       "    .dataframe thead th {\n",
       "        text-align: right;\n",
       "    }\n",
       "</style>\n",
       "<table border=\"1\" class=\"dataframe\">\n",
       "  <thead>\n",
       "    <tr style=\"text-align: right;\">\n",
       "      <th></th>\n",
       "      <th>null</th>\n",
       "      <th>%</th>\n",
       "    </tr>\n",
       "  </thead>\n",
       "  <tbody>\n",
       "    <tr>\n",
       "      <th>days_employed</th>\n",
       "      <td>2174</td>\n",
       "      <td>10.0</td>\n",
       "    </tr>\n",
       "    <tr>\n",
       "      <th>total_income</th>\n",
       "      <td>2174</td>\n",
       "      <td>10.0</td>\n",
       "    </tr>\n",
       "    <tr>\n",
       "      <th>children</th>\n",
       "      <td>0</td>\n",
       "      <td>0.0</td>\n",
       "    </tr>\n",
       "    <tr>\n",
       "      <th>dob_years</th>\n",
       "      <td>0</td>\n",
       "      <td>0.0</td>\n",
       "    </tr>\n",
       "    <tr>\n",
       "      <th>education</th>\n",
       "      <td>0</td>\n",
       "      <td>0.0</td>\n",
       "    </tr>\n",
       "    <tr>\n",
       "      <th>education_id</th>\n",
       "      <td>0</td>\n",
       "      <td>0.0</td>\n",
       "    </tr>\n",
       "    <tr>\n",
       "      <th>family_status</th>\n",
       "      <td>0</td>\n",
       "      <td>0.0</td>\n",
       "    </tr>\n",
       "    <tr>\n",
       "      <th>family_status_id</th>\n",
       "      <td>0</td>\n",
       "      <td>0.0</td>\n",
       "    </tr>\n",
       "    <tr>\n",
       "      <th>gender</th>\n",
       "      <td>0</td>\n",
       "      <td>0.0</td>\n",
       "    </tr>\n",
       "    <tr>\n",
       "      <th>income_type</th>\n",
       "      <td>0</td>\n",
       "      <td>0.0</td>\n",
       "    </tr>\n",
       "    <tr>\n",
       "      <th>debt</th>\n",
       "      <td>0</td>\n",
       "      <td>0.0</td>\n",
       "    </tr>\n",
       "    <tr>\n",
       "      <th>purpose</th>\n",
       "      <td>0</td>\n",
       "      <td>0.0</td>\n",
       "    </tr>\n",
       "  </tbody>\n",
       "</table>\n",
       "</div>"
      ],
      "text/plain": [
       "                  null     %\n",
       "days_employed     2174  10.0\n",
       "total_income      2174  10.0\n",
       "children             0   0.0\n",
       "dob_years            0   0.0\n",
       "education            0   0.0\n",
       "education_id         0   0.0\n",
       "family_status        0   0.0\n",
       "family_status_id     0   0.0\n",
       "gender               0   0.0\n",
       "income_type          0   0.0\n",
       "debt                 0   0.0\n",
       "purpose              0   0.0"
      ]
     },
     "execution_count": 1,
     "metadata": {},
     "output_type": "execute_result"
    }
   ],
   "source": [
    "import pandas as pd\n",
    "\n",
    "\n",
    "df = pd.read_csv('data.csv')\n",
    "df.info()\n",
    "display(df.head())\n",
    "gaps_data = pd.DataFrame({'null':df.isnull().sum(), '%':df.isnull().sum() / len(df) * 100}) #пропуски в данных и их % от всех данных\n",
    "\n",
    "gaps_data.sort_values(by='null', ascending=False).round()"
   ]
  },
  {
   "cell_type": "markdown",
   "metadata": {},
   "source": [
    "**Вывод**\n",
    "\n",
    "В таблице 12 столбцов, согласно заданию:\n",
    "* `children` — количество детей в семье\n",
    "* `days_employed` — общий трудовой стаж в днях\n",
    "* `dob_years` — возраст клиента в годах\n",
    "* `education` — уровень образования клиента\n",
    "* `education_id` — идентификатор уровня образования\n",
    "* `family_status` — семейное положение\n",
    "* `family_status_id` — идентификатор семейного положения\n",
    "* `gender` — пол клиента\n",
    "* `income_type` — тип занятости\n",
    "* `debt` — имел ли задолженность по возврату кредитов\n",
    "* `total_income` — ежемесячный доход\n",
    "* `purpose` — цель получения кредита\n",
    "\n",
    "1. В столбцах \"days_employed\" и \"total_income\" пропущены значения.\n",
    "Пропуски неслучаные, так как есть взаимосвязь между пропусками в колонках, вероятность пропуска зависит от других значений, в том числе и от значений собственного столбца. Возможные причины пропусков данных могут быть ошибки ввода данных, сокрытие информации.\n",
    "2. Тип данных. В столбцах \"days_employed\" и \"total_income\" (стаже и доходе) стоят значения типа float (вещественный) их требуется заменить на int (целочисленный).\n",
    "3. В столбце \"education\" требуется удаление дубликатов.\n",
    "4. В \"days_employed\" (стаже) есть отрицательные значения - их можно заменить на положительные, не удаляя столбец. Следует отметить, что значения стажа для некоторых групп существенно высокие, однако колонка прямо не участвует в расчетах, поэтому носит справочный характер и не требует пересчета. Возможной причиной изменений может быть ошибка предоставления данных, требуется уточнение от сотрудников, предоставивших данные (возможно, в часах вместо дней или отработанных человеко-часах, выгруженных из табеля учета рабочего времени).\n"
   ]
  },
  {
   "cell_type": "markdown",
   "metadata": {},
   "source": [
    "## Шаг 2. Предобработка данных"
   ]
  },
  {
   "cell_type": "markdown",
   "metadata": {},
   "source": [
    "### Обработка пропусков"
   ]
  },
  {
   "cell_type": "code",
   "execution_count": 2,
   "metadata": {},
   "outputs": [
    {
     "data": {
      "text/html": [
       "<div>\n",
       "<style scoped>\n",
       "    .dataframe tbody tr th:only-of-type {\n",
       "        vertical-align: middle;\n",
       "    }\n",
       "\n",
       "    .dataframe tbody tr th {\n",
       "        vertical-align: top;\n",
       "    }\n",
       "\n",
       "    .dataframe thead th {\n",
       "        text-align: right;\n",
       "    }\n",
       "</style>\n",
       "<table border=\"1\" class=\"dataframe\">\n",
       "  <thead>\n",
       "    <tr style=\"text-align: right;\">\n",
       "      <th></th>\n",
       "      <th>null</th>\n",
       "      <th>%</th>\n",
       "    </tr>\n",
       "  </thead>\n",
       "  <tbody>\n",
       "    <tr>\n",
       "      <th>children</th>\n",
       "      <td>0</td>\n",
       "      <td>0.0</td>\n",
       "    </tr>\n",
       "    <tr>\n",
       "      <th>days_employed</th>\n",
       "      <td>0</td>\n",
       "      <td>0.0</td>\n",
       "    </tr>\n",
       "    <tr>\n",
       "      <th>dob_years</th>\n",
       "      <td>0</td>\n",
       "      <td>0.0</td>\n",
       "    </tr>\n",
       "    <tr>\n",
       "      <th>education</th>\n",
       "      <td>0</td>\n",
       "      <td>0.0</td>\n",
       "    </tr>\n",
       "    <tr>\n",
       "      <th>education_id</th>\n",
       "      <td>0</td>\n",
       "      <td>0.0</td>\n",
       "    </tr>\n",
       "    <tr>\n",
       "      <th>family_status</th>\n",
       "      <td>0</td>\n",
       "      <td>0.0</td>\n",
       "    </tr>\n",
       "    <tr>\n",
       "      <th>family_status_id</th>\n",
       "      <td>0</td>\n",
       "      <td>0.0</td>\n",
       "    </tr>\n",
       "    <tr>\n",
       "      <th>gender</th>\n",
       "      <td>0</td>\n",
       "      <td>0.0</td>\n",
       "    </tr>\n",
       "    <tr>\n",
       "      <th>income_type</th>\n",
       "      <td>0</td>\n",
       "      <td>0.0</td>\n",
       "    </tr>\n",
       "    <tr>\n",
       "      <th>debt</th>\n",
       "      <td>0</td>\n",
       "      <td>0.0</td>\n",
       "    </tr>\n",
       "    <tr>\n",
       "      <th>total_income</th>\n",
       "      <td>0</td>\n",
       "      <td>0.0</td>\n",
       "    </tr>\n",
       "    <tr>\n",
       "      <th>purpose</th>\n",
       "      <td>0</td>\n",
       "      <td>0.0</td>\n",
       "    </tr>\n",
       "    <tr>\n",
       "      <th>group_age</th>\n",
       "      <td>0</td>\n",
       "      <td>0.0</td>\n",
       "    </tr>\n",
       "  </tbody>\n",
       "</table>\n",
       "</div>"
      ],
      "text/plain": [
       "                  null    %\n",
       "children             0  0.0\n",
       "days_employed        0  0.0\n",
       "dob_years            0  0.0\n",
       "education            0  0.0\n",
       "education_id         0  0.0\n",
       "family_status        0  0.0\n",
       "family_status_id     0  0.0\n",
       "gender               0  0.0\n",
       "income_type          0  0.0\n",
       "debt                 0  0.0\n",
       "total_income         0  0.0\n",
       "purpose              0  0.0\n",
       "group_age            0  0.0"
      ]
     },
     "execution_count": 2,
     "metadata": {},
     "output_type": "execute_result"
    }
   ],
   "source": [
    "medians_total_income = df.groupby('income_type')['total_income'].median() #медианные уровни дохода для каждого типа занятости\n",
    "#замена в группах с нулевыми на медианы по группам занятости\n",
    "df.loc[(df['total_income'].isnull()) & (df['income_type'] == 'госслужащий'), 'total_income'] = medians_total_income[2]\n",
    "df.loc[(df['total_income'].isnull()) & (df['income_type'] == 'компаньон'), 'total_income'] = medians_total_income[3]\n",
    "df.loc[(df['total_income'].isnull()) & (df['income_type'] == 'пенсионер'), 'total_income'] = medians_total_income[4]\n",
    "df.loc[(df['total_income'].isnull()) & (df['income_type'] == 'предприниматель'), 'total_income'] = medians_total_income[5]\n",
    "df.loc[(df['total_income'].isnull()) & (df['income_type'] == 'сотрудник'), 'total_income'] = medians_total_income[6]\n",
    "\n",
    "df.loc[df['total_income'] == 0, 'total_income'].value_counts() #проверка замены\n",
    "\n",
    "df.loc[df['dob_years'] == 0, 'income_type'].value_counts() #ошибочный возраст по типам занятости\n",
    "\n",
    "age_medians = df.groupby('income_type')['dob_years'].median() #медианный возраст для каждой группы\n",
    "\n",
    "df.loc[(df['dob_years'] == 0) & (df['income_type'] == 'сотрудник'), 'dob_years'] = age_medians[6]\n",
    "df.loc[(df['dob_years'] == 0) & (df['income_type'] == 'пенсионер'), 'dob_years'] = age_medians[4]\n",
    "df.loc[(df['dob_years'] == 0) & (df['income_type'] == 'компаньон'), 'dob_years'] = age_medians[3]\n",
    "df.loc[(df['dob_years'] == 0) & (df['income_type'] == 'госслужащий'), 'dob_years'] = age_medians[2]\n",
    "\n",
    "df.loc[df['dob_years'] == 0, 'dob_years'].value_counts() #проверка замены\n",
    "\n",
    "\n",
    "age_statistics = df['dob_years'].describe() #данные статистики, границы распределения совокупности 25%-50%-75%\n",
    "age_statistics[4:7] #результаты 34 - 43 - 53\n",
    "\n",
    "def group(age):\n",
    "    if age <= age_statistics[4]: return 'меньше 34'\n",
    "    elif age_statistics[4] < age <= age_statistics[5]: \n",
    "        return 'от 34 до 43'\n",
    "    elif age_statistics[5] < age <= age_statistics[6]: \n",
    "        return 'от 43 до 53'\n",
    "    else: return 'старше 53'\n",
    "    \n",
    "df['group_age'] = df['dob_years'].apply(group)\n",
    "\n",
    "medians_days_employed = df.groupby('group_age')['days_employed'].median() #медианные уровни стажа\n",
    "\n",
    "#замена в группах с нулевыми на медианы по стажу на базе групп в годах\n",
    "\n",
    "df.loc[(df['days_employed'].isnull()) & (df['group_age'] == 'от 34 до 43'), 'days_employed'] = medians_days_employed[0]\n",
    "df.loc[(df['days_employed'].isnull()) & (df['group_age'] == 'от 43 до 53'), 'days_employed'] = medians_days_employed[1]\n",
    "df.loc[(df['days_employed'].isnull()) & (df['group_age'] == 'старше 53'), 'days_employed'] = medians_days_employed[2]\n",
    "df.loc[(df['days_employed'].isnull()) & (df['group_age'] == 'меньше 34'), 'days_employed'] = medians_days_employed[3]\n",
    "\n",
    "gaps_data = pd.DataFrame({'null':df.isnull().sum(), '%':df.isnull().sum() / len(df) * 100}) #пропуски в данных и их % от всех данных\n",
    "\n",
    "gaps_data.sort_values(by='null', ascending=False).round()"
   ]
  },
  {
   "cell_type": "markdown",
   "metadata": {},
   "source": [
    "**Вывод**\n",
    "* Пропуски в стаже и ежемесячном доходе заменены на медианное значение.  Принцип заполнения пропусков - по характерному медианному значению. \n",
    "* После обработки данные о стаже стали положительными."
   ]
  },
  {
   "cell_type": "markdown",
   "metadata": {},
   "source": [
    "### Замена типа данных"
   ]
  },
  {
   "cell_type": "code",
   "execution_count": 5,
   "metadata": {},
   "outputs": [
    {
     "name": "stdout",
     "output_type": "stream",
     "text": [
      "<class 'pandas.core.frame.DataFrame'>\n",
      "RangeIndex: 21525 entries, 0 to 21524\n",
      "Data columns (total 13 columns):\n",
      " #   Column            Non-Null Count  Dtype \n",
      "---  ------            --------------  ----- \n",
      " 0   children          21525 non-null  int64 \n",
      " 1   days_employed     21525 non-null  int32 \n",
      " 2   dob_years         21525 non-null  int64 \n",
      " 3   education         21525 non-null  object\n",
      " 4   education_id      21525 non-null  int64 \n",
      " 5   family_status     21525 non-null  object\n",
      " 6   family_status_id  21525 non-null  int64 \n",
      " 7   gender            21525 non-null  object\n",
      " 8   income_type       21525 non-null  object\n",
      " 9   debt              21525 non-null  int64 \n",
      " 10  total_income      21525 non-null  int32 \n",
      " 11  purpose           21525 non-null  object\n",
      " 12  group_age         21525 non-null  object\n",
      "dtypes: int32(2), int64(5), object(6)\n",
      "memory usage: 2.0+ MB\n"
     ]
    }
   ],
   "source": [
    "df['days_employed'] = df['days_employed'].astype('int')\n",
    "df['total_income'] = df['total_income'].astype('int')\n",
    "df.info()"
   ]
  },
  {
   "cell_type": "markdown",
   "metadata": {},
   "source": [
    "**Вывод**\n",
    "<br> В столбцах \"days_employed\" и \"total_income\" (стаже и доходе) значения типа float (вещественный) были заменены на int (целочисленный)."
   ]
  },
  {
   "cell_type": "markdown",
   "metadata": {},
   "source": [
    "# Обработка дубликатов"
   ]
  },
  {
   "cell_type": "code",
   "execution_count": null,
   "metadata": {},
   "outputs": [],
   "source": [
    "#обработка видимых дубликатов с разным регистром в столбце education\n",
    "df['education'] = df['education'].str.lower()\n",
    "#проверим прочие столбцы\n",
    "print(df['children'].value_counts())\n",
    "print(df['family_status'].value_counts())\n",
    "print(df['purpose'].value_counts())\n",
    "print(df['income_type'].value_counts())\n",
    "#в данных о детях есть отрицательные (-1) и слишков высокие значения (20, возможно ошибка)\n",
    "df['children'] = df['children'].replace(-1, 1)\n",
    "df['children'] = df['children'].replace(20, 2) #предположим, что ошибочен только ноль\n",
    "\n",
    "\n",
    "df.duplicated().sum() #число дубликатов\n",
    "\n",
    "df = df.drop_duplicates().reset_index(drop = True) #удаление идентичных дубликатов\n",
    "\n",
    "df.duplicated().sum()"
   ]
  },
  {
   "cell_type": "markdown",
   "metadata": {},
   "source": [
    "**Вывод**"
   ]
  },
  {
   "cell_type": "markdown",
   "metadata": {},
   "source": [
    "После обработки дубликатов видно, что данные о целях кредита требуют лемматизации с целью замены для последующей группировки.  \n",
    "Для категоризации были выделены вручную ключевые слова:\n",
    "* недвижимость (включающая слова \"недвижимость\" и \"жилье\", сюда же была отнесена цель ремонт жилья, тк это неотделимое улучшение залога кредита и часто сопутствует кредитованию на покупку или строительство); \n",
    "* образование; \n",
    "* автомобиль; \n",
    "* свадьба.  \n",
    "Итоговая категоризация будет содержать две залоговых цели кредита (недвижимость и жилье) и два потребительских (образование и свадьба)."
   ]
  },
  {
   "cell_type": "markdown",
   "metadata": {},
   "source": [
    "### Лемматизация"
   ]
  },
  {
   "cell_type": "code",
   "execution_count": null,
   "metadata": {},
   "outputs": [],
   "source": [
    "import pandas as pd\n",
    "from pymystem3 import Mystem # pymystem3 импортируется\n",
    "m = Mystem()\n",
    "\n",
    "def lemma_pur(row): #функция лемматизации\n",
    "    lemma = m.lemmatize(row['purpose'])\n",
    "    if 'автомобиль' in lemma:\n",
    "        return \"автомобиль\" #формируем группы для категорий\n",
    "    if \"образование\" in lemma:\n",
    "        return \"образование\"\n",
    "    if \"свадьба\" in lemma:\n",
    "        return \"свадьба\"\n",
    "    if \"недвижимость\" or \"жилье\" in lemma:\n",
    "        return \"недвижимость\"\n",
    "\n",
    "df['purpose'] = df.apply(lemma_pur, axis=1) #не сохраняю исходный столбец со значениями до лемматизации, тк эти данные не нужны в дальнейшем\n",
    "\n",
    "display(df.head()) \n"
   ]
  },
  {
   "cell_type": "code",
   "execution_count": null,
   "metadata": {},
   "outputs": [],
   "source": [
    "df['purpose'].value_counts()"
   ]
  },
  {
   "cell_type": "markdown",
   "metadata": {},
   "source": [
    "**Вывод**"
   ]
  },
  {
   "cell_type": "markdown",
   "metadata": {},
   "source": [
    "После лемматизации не только устранены дубликаты, но и сформированы группы для проверки гипотезы о наличии взаимосвязи между целью кредита и вероятностью невыплаты."
   ]
  },
  {
   "cell_type": "markdown",
   "metadata": {},
   "source": [
    "### Категоризация данных"
   ]
  },
  {
   "cell_type": "code",
   "execution_count": null,
   "metadata": {},
   "outputs": [],
   "source": [
    "#категоризация по семейному статусу не требуется, 5 категорий сформированы изначально\n",
    "print(df['family_status'].value_counts())\n",
    "#категоризация по числу детей не требуется, только по наличию\n",
    "def got_children(children):\n",
    "    if children > 0: \n",
    "        return \"есть дети\"\n",
    "    else: \n",
    "        return \"нет детей\"\n",
    "    \n",
    "df['got_children'] = df['children'].apply(got_children)\n",
    "\n",
    "#категоризация по доходам\n",
    "statistics = df['total_income'].describe() #данные статистики, границы распределения совокупности 25%-50%-75%\n",
    "statistics[4:7] #выбираем столбцы с границами для функции, чтобы разделить на 4 группы\n",
    "def total_income(income):\n",
    "    if income <= statistics[4]:\n",
    "        return \"низкий\"\n",
    "    elif statistics[4] < income <= statistics[5]:\n",
    "        return \"средний\"\n",
    "    elif statistics[5] < income <= statistics[6]: \n",
    "        return \"высокий\"\n",
    "    else: \n",
    "        return \"очень высокий\"\n",
    "\n",
    "df['income_group'] = df['total_income'].apply(total_income)\n",
    "df.head()"
   ]
  },
  {
   "cell_type": "markdown",
   "metadata": {},
   "source": [
    "**Вывод**"
   ]
  },
  {
   "cell_type": "markdown",
   "metadata": {},
   "source": [
    "В результате сформированы группы по уровню доходов (для группировки использовались данные о квантилях нормального распределения 25%-50%-75%):\n",
    "* `низкий` — клиенты, чей доход менее 103053.15 \n",
    "* `средний` — клиенты с доходом от 103053.15 до 145017.93\n",
    "* `высокий` — клиенты с доходом от от 145017.93 до 203435.06\n",
    "* `очень высокий` — клиенты с доходом выше 203435.06\n",
    "Сформированы категории клиентов по наличию детей (есть дети / нет детей)."
   ]
  },
  {
   "cell_type": "markdown",
   "metadata": {},
   "source": [
    "## Шаг 3. Ответьте на вопросы"
   ]
  },
  {
   "cell_type": "markdown",
   "metadata": {},
   "source": [
    "- Есть ли зависимость между наличием детей и возвратом кредита в срок?"
   ]
  },
  {
   "cell_type": "code",
   "execution_count": null,
   "metadata": {},
   "outputs": [],
   "source": [
    "#построим сводную таблицу, групп всего две, поэтому столбец для расчета отношения не понадобится\n",
    "data_pivot = round(df.pivot_table(index = ['got_children'], values = 'debt') * 100, 1)\n",
    "data_pivot"
   ]
  },
  {
   "cell_type": "markdown",
   "metadata": {},
   "source": [
    "**Вывод**  \n",
    "Зависимость между наличием детей и возвратом кредита в срок есть: при отсутствии детей ниже вероятность кредитной задолженности (7,5%), чем при их наличии (9,2%)"
   ]
  },
  {
   "cell_type": "markdown",
   "metadata": {},
   "source": [
    "- Есть ли зависимость между семейным положением и возвратом кредита в срок?"
   ]
  },
  {
   "cell_type": "code",
   "execution_count": null,
   "metadata": {},
   "outputs": [],
   "source": [
    "#построим сводную таблицу\n",
    "data_pivot = df.pivot_table(index = ['family_status'], columns = 'debt', values = 'gender', aggfunc = 'count').round(2)\n",
    "data_pivot['ratio'] = round(data_pivot[1] / (data_pivot[0] + data_pivot[1]) * 100, 1)\n",
    "data_pivot.sort_values('ratio', ascending = False)"
   ]
  },
  {
   "cell_type": "markdown",
   "metadata": {},
   "source": [
    "**Вывод**"
   ]
  },
  {
   "cell_type": "markdown",
   "metadata": {},
   "source": [
    "Зависимость между семейным положением и возвратом кредита в срок есть: \n",
    "* вероятность невыплаты ниже (и составляет 7,5%), если клиент находится в браке, чем если он не женат (не замужем) (9,8%) или состоит в незарегистрированном браке (9,3%).  \n",
    "В тоже время после семейных отношений ответственность не снижается, а растет:\n",
    "* для клиентов, вдовцов/вдовиц - 6,6%;\n",
    "* для клиентов, находящихся в разводе - 7,1%."
   ]
  },
  {
   "cell_type": "markdown",
   "metadata": {},
   "source": [
    "- Есть ли зависимость между уровнем дохода и возвратом кредита в срок?"
   ]
  },
  {
   "cell_type": "code",
   "execution_count": null,
   "metadata": {},
   "outputs": [],
   "source": [
    "#построим сводную таблицу\n",
    "data_pivot = df.pivot_table(index = ['income_group'], columns = 'debt', values = 'gender', aggfunc = 'count').round(2)\n",
    "data_pivot['ratio'] = round(data_pivot[1] / (data_pivot[0] + data_pivot[1]) * 100, 1)\n",
    "data_pivot.sort_values('ratio', ascending = False)"
   ]
  },
  {
   "cell_type": "markdown",
   "metadata": {},
   "source": [
    "**Вывод**"
   ]
  },
  {
   "cell_type": "markdown",
   "metadata": {},
   "source": [
    "Гипотеза о зависимости между уровнем дохода и возвратом кредита в срок опровергнута.  \n",
    " Клиенты с высоким и средним доходам чаще не выплачивают кредит (8,8 и 8,5% соответственно), чем клиенты с низким доходом (8,0%), одновеременно, клиенты с очень высоким доходом меньше всех подвержены вероятности невыплаты (7,1%).\n"
   ]
  },
  {
   "cell_type": "markdown",
   "metadata": {},
   "source": [
    "- Как разные цели кредита влияют на его возврат в срок?"
   ]
  },
  {
   "cell_type": "code",
   "execution_count": null,
   "metadata": {},
   "outputs": [],
   "source": [
    "#построим сводную таблицу\n",
    "data_pivot = df.pivot_table(index = ['purpose'], columns = 'debt', values = 'gender', aggfunc = 'count').round(2)\n",
    "data_pivot['ratio'] = round(data_pivot[1] / (data_pivot[0] + data_pivot[1]) * 100, 1)\n",
    "data_pivot.sort_values('ratio', ascending = False)"
   ]
  },
  {
   "cell_type": "markdown",
   "metadata": {},
   "source": [
    "**Вывод**"
   ]
  },
  {
   "cell_type": "markdown",
   "metadata": {},
   "source": [
    "Между целями кредита и вероятностью его задолженности есть взаимосвязь, но стоит отметить, что ее характер не явный и больше связан со скоростью возврата инвестированных средств и их размером.   \n",
    "Кредит на недвижимость, как правило, выдается под более низкий процент, чем потребительские кредиты, кроме того, залогом по нему является сам объект собственности.\n",
    "Поэтому клиент с большей вероятность выплатит кредит (вероятность невыплаты 7,2%).  \n",
    "В тоже время кредит на свадьбу, как правило, на меньшую сумму и срок, что также снижает вероятность невыплаты (8,0%).\n",
    "Вероятность невыплаты кредитов на образование и автомобиль отличается не значительно (9,2 и 9,4% соответственно)."
   ]
  },
  {
   "cell_type": "markdown",
   "metadata": {},
   "source": [
    "## Шаг 4. Общий вывод"
   ]
  },
  {
   "cell_type": "markdown",
   "metadata": {},
   "source": [
    "**Семейное положение и количество детей клиента на факт погашения кредита в срок.**"
   ]
  },
  {
   "cell_type": "markdown",
   "metadata": {},
   "source": [
    "Исходная проблема: нужно разобраться, влияет ли семейное положение и количество детей клиента на факт погашения кредита в срок. Входные данные от банка — статистика о платёжеспособности клиентов. Результаты анализа будут использованы для кредитного скоринга (оценки кредитоспособности клиента) банка.  \n",
    "В результате исследования были подвтерждены следующие гипотезы:  \n",
    "* `существует зависимость между наличием детей и вероятностью невыплаты кредита в срок`: при отсутствии детей ниже вероятность кредитной задолженности (7,5%), чем при их наличии (9,2%)\n",
    "* `существует зависимость между семейным положением и вероятностью невыплаты кредита в срок`: наиболее дисциплинированными клиентами с низким риском кредитования являются  вдовцы/вдовицы (6,6%) и находящиеся в разводе (7,1%). Вероятность невыплаты ниже (и составляет 7,5%), если клиент находится в браке, чем если он не женат (не замужем) (9,8%) или состоит в незарегистрированном браке (9,3%).\n",
    "* `существует зависимость между целью кредитования и вероятностью невыплаты кредита в срок`: наиболее низок риск выдачи кредита на недвижимость и свадьбу (7,2 и 8,0%), чем автокредитования и образование (9,4 и 9,2%).  \n",
    "Уровень дохода на верноятность выплаты кредита не влияет."
   ]
  },
  {
   "cell_type": "markdown",
   "metadata": {},
   "source": [
    "## Чек-лист готовности проекта\n",
    "\n",
    "Поставьте 'x' в выполненных пунктах. Далее нажмите Shift+Enter."
   ]
  },
  {
   "cell_type": "markdown",
   "metadata": {},
   "source": [
    "- [x]  открыт файл;\n",
    "- [x]  файл изучен;\n",
    "- [x]  определены пропущенные значения;\n",
    "- [x]  заполнены пропущенные значения;\n",
    "- [x]  есть пояснение, какие пропущенные значения обнаружены;\n",
    "- [x]  описаны возможные причины появления пропусков в данных;\n",
    "- [x]  объяснено, по какому принципу заполнены пропуски;\n",
    "- [x]  заменен вещественный тип данных на целочисленный;\n",
    "- [x]  есть пояснение, какой метод используется для изменения типа данных и почему;\n",
    "- [x]  удалены дубликаты;\n",
    "- [x]  есть пояснение, какой метод используется для поиска и удаления дубликатов;\n",
    "- [x]  описаны возможные причины появления дубликатов в данных;\n",
    "- [x]  выделены леммы в значениях столбца с целями получения кредита;\n",
    "- [x]  описан процесс лемматизации;\n",
    "- [x]  данные категоризированы;\n",
    "- [x]  есть объяснение принципа категоризации данных;\n",
    "- [x]  есть ответ на вопрос: \"Есть ли зависимость между наличием детей и возвратом кредита в срок?\";\n",
    "- [x]  есть ответ на вопрос: \"Есть ли зависимость между семейным положением и возвратом кредита в срок?\";\n",
    "- [x]  есть ответ на вопрос: \"Есть ли зависимость между уровнем дохода и возвратом кредита в срок?\";\n",
    "- [x]  есть ответ на вопрос: \"Как разные цели кредита влияют на его возврат в срок?\";\n",
    "- [x]  в каждом этапе есть выводы;\n",
    "- [x]  есть общий вывод."
   ]
  }
 ],
 "metadata": {
  "ExecuteTimeLog": [
   {
    "duration": 856,
    "start_time": "2021-12-02T14:02:53.097Z"
   },
   {
    "duration": 5204,
    "start_time": "2021-12-07T12:37:05.998Z"
   },
   {
    "duration": 101,
    "start_time": "2021-12-07T12:44:27.366Z"
   },
   {
    "duration": 36,
    "start_time": "2021-12-07T12:44:57.965Z"
   },
   {
    "duration": 32,
    "start_time": "2021-12-07T12:45:18.539Z"
   },
   {
    "duration": 87,
    "start_time": "2021-12-07T12:45:22.829Z"
   },
   {
    "duration": 35,
    "start_time": "2021-12-07T12:45:26.765Z"
   },
   {
    "duration": 27,
    "start_time": "2021-12-07T12:45:34.078Z"
   },
   {
    "duration": 13,
    "start_time": "2021-12-07T12:52:05.550Z"
   },
   {
    "duration": 29,
    "start_time": "2021-12-07T12:58:08.943Z"
   },
   {
    "duration": 259,
    "start_time": "2021-12-07T12:58:35.616Z"
   },
   {
    "duration": 1858,
    "start_time": "2021-12-07T12:58:48.638Z"
   },
   {
    "duration": 1167,
    "start_time": "2021-12-07T13:12:51.234Z"
   },
   {
    "duration": 4361,
    "start_time": "2021-12-07T13:13:02.891Z"
   },
   {
    "duration": 4506,
    "start_time": "2021-12-07T13:13:38.851Z"
   },
   {
    "duration": 4363,
    "start_time": "2021-12-07T13:14:00.810Z"
   },
   {
    "duration": 4119,
    "start_time": "2021-12-07T13:15:50.258Z"
   },
   {
    "duration": 4310,
    "start_time": "2021-12-07T13:16:07.273Z"
   },
   {
    "duration": 4516,
    "start_time": "2021-12-07T13:16:30.480Z"
   },
   {
    "duration": 4319,
    "start_time": "2021-12-07T13:17:05.745Z"
   },
   {
    "duration": 473,
    "start_time": "2021-12-07T13:19:21.254Z"
   },
   {
    "duration": 475,
    "start_time": "2021-12-07T13:19:30.710Z"
   },
   {
    "duration": 555,
    "start_time": "2021-12-07T13:19:41.030Z"
   },
   {
    "duration": 437,
    "start_time": "2021-12-07T13:19:53.493Z"
   },
   {
    "duration": 521,
    "start_time": "2021-12-07T13:20:25.574Z"
   },
   {
    "duration": 483,
    "start_time": "2021-12-07T13:20:49.446Z"
   },
   {
    "duration": 1365,
    "start_time": "2021-12-07T13:23:47.003Z"
   },
   {
    "duration": 30,
    "start_time": "2021-12-07T13:24:09.458Z"
   },
   {
    "duration": 1258,
    "start_time": "2021-12-07T13:24:20.018Z"
   },
   {
    "duration": 30,
    "start_time": "2021-12-07T13:24:38.162Z"
   },
   {
    "duration": 82,
    "start_time": "2021-12-07T13:24:48.497Z"
   },
   {
    "duration": 29,
    "start_time": "2021-12-07T13:24:53.755Z"
   },
   {
    "duration": 14,
    "start_time": "2021-12-07T13:24:57.473Z"
   },
   {
    "duration": 29,
    "start_time": "2021-12-07T13:25:00.170Z"
   },
   {
    "duration": 3878,
    "start_time": "2021-12-07T13:25:04.521Z"
   },
   {
    "duration": 332,
    "start_time": "2021-12-07T13:34:12.903Z"
   },
   {
    "duration": 143,
    "start_time": "2021-12-07T13:34:48.018Z"
   },
   {
    "duration": 1382,
    "start_time": "2021-12-07T13:35:15.673Z"
   },
   {
    "duration": 34,
    "start_time": "2021-12-07T13:35:28.937Z"
   },
   {
    "duration": 1307,
    "start_time": "2021-12-07T13:36:01.269Z"
   },
   {
    "duration": 3914,
    "start_time": "2021-12-07T13:39:21.820Z"
   },
   {
    "duration": 3468,
    "start_time": "2021-12-07T13:39:39.830Z"
   },
   {
    "duration": 3840,
    "start_time": "2021-12-07T13:39:54.390Z"
   },
   {
    "duration": 10188,
    "start_time": "2021-12-07T13:41:24.364Z"
   },
   {
    "duration": 3842,
    "start_time": "2021-12-07T13:41:52.165Z"
   },
   {
    "duration": 2057,
    "start_time": "2021-12-07T13:42:44.461Z"
   },
   {
    "duration": 2004,
    "start_time": "2021-12-07T13:43:03.618Z"
   },
   {
    "duration": 1948,
    "start_time": "2021-12-07T13:43:26.380Z"
   },
   {
    "duration": 2193,
    "start_time": "2021-12-07T13:44:23.551Z"
   },
   {
    "duration": 36,
    "start_time": "2021-12-07T13:44:36.658Z"
   },
   {
    "duration": 1971,
    "start_time": "2021-12-07T13:44:45.540Z"
   },
   {
    "duration": 85,
    "start_time": "2021-12-07T13:44:56.845Z"
   },
   {
    "duration": 30,
    "start_time": "2021-12-07T13:45:01.913Z"
   },
   {
    "duration": 14,
    "start_time": "2021-12-07T13:45:07.305Z"
   },
   {
    "duration": 29,
    "start_time": "2021-12-07T13:45:11.969Z"
   },
   {
    "duration": 3714,
    "start_time": "2021-12-07T13:45:18.185Z"
   },
   {
    "duration": 33,
    "start_time": "2021-12-07T14:21:01.452Z"
   },
   {
    "duration": 112,
    "start_time": "2021-12-07T14:21:09.416Z"
   },
   {
    "duration": 28,
    "start_time": "2021-12-07T14:21:13.148Z"
   },
   {
    "duration": 13,
    "start_time": "2021-12-07T14:21:16.347Z"
   },
   {
    "duration": 29,
    "start_time": "2021-12-07T14:21:19.557Z"
   },
   {
    "duration": 1317,
    "start_time": "2021-12-07T14:21:23.689Z"
   },
   {
    "duration": 1217,
    "start_time": "2021-12-07T14:21:51.195Z"
   },
   {
    "duration": 1272,
    "start_time": "2021-12-07T14:22:33.948Z"
   },
   {
    "duration": 3501,
    "start_time": "2021-12-07T14:22:55.451Z"
   },
   {
    "duration": 1972,
    "start_time": "2021-12-07T14:23:50.107Z"
   },
   {
    "duration": 2016,
    "start_time": "2021-12-07T14:38:23.452Z"
   },
   {
    "duration": 2162,
    "start_time": "2021-12-07T14:39:50.743Z"
   },
   {
    "duration": 2035,
    "start_time": "2021-12-07T14:40:10.983Z"
   },
   {
    "duration": 1963,
    "start_time": "2021-12-07T14:40:18.823Z"
   },
   {
    "duration": 2022,
    "start_time": "2021-12-07T14:44:02.148Z"
   },
   {
    "duration": 1215,
    "start_time": "2021-12-07T14:46:10.394Z"
   },
   {
    "duration": 1136,
    "start_time": "2021-12-07T14:46:32.058Z"
   },
   {
    "duration": 1238,
    "start_time": "2021-12-07T14:48:46.686Z"
   },
   {
    "duration": 86,
    "start_time": "2021-12-07T14:48:55.893Z"
   },
   {
    "duration": 38,
    "start_time": "2021-12-07T14:48:59.329Z"
   },
   {
    "duration": 18,
    "start_time": "2021-12-07T14:49:03.416Z"
   },
   {
    "duration": 26,
    "start_time": "2021-12-07T14:49:06.248Z"
   },
   {
    "duration": 3538,
    "start_time": "2021-12-07T14:49:11.232Z"
   },
   {
    "duration": 1904,
    "start_time": "2021-12-07T14:52:31.881Z"
   },
   {
    "duration": 1968,
    "start_time": "2021-12-07T14:53:58.415Z"
   },
   {
    "duration": 90,
    "start_time": "2021-12-07T14:54:35.598Z"
   },
   {
    "duration": 28,
    "start_time": "2021-12-07T14:54:47.135Z"
   },
   {
    "duration": 14,
    "start_time": "2021-12-07T14:55:03.836Z"
   },
   {
    "duration": 28,
    "start_time": "2021-12-07T14:55:06.677Z"
   },
   {
    "duration": 3795,
    "start_time": "2021-12-07T14:55:10.998Z"
   },
   {
    "duration": 1246,
    "start_time": "2021-12-07T14:56:47.205Z"
   },
   {
    "duration": 1040,
    "start_time": "2021-12-07T14:57:54.340Z"
   },
   {
    "duration": 2512,
    "start_time": "2021-12-07T14:58:28.972Z"
   },
   {
    "duration": 87,
    "start_time": "2021-12-07T14:58:43.899Z"
   },
   {
    "duration": 28,
    "start_time": "2021-12-07T14:58:54.762Z"
   },
   {
    "duration": 17,
    "start_time": "2021-12-07T14:58:59.394Z"
   },
   {
    "duration": 27,
    "start_time": "2021-12-07T14:59:02.809Z"
   },
   {
    "duration": 4329,
    "start_time": "2021-12-07T14:59:09.314Z"
   },
   {
    "duration": 2559,
    "start_time": "2021-12-07T14:59:50.098Z"
   },
   {
    "duration": 2419,
    "start_time": "2021-12-07T15:00:40.394Z"
   },
   {
    "duration": 16,
    "start_time": "2021-12-07T15:02:07.866Z"
   },
   {
    "duration": 15,
    "start_time": "2021-12-07T15:02:32.215Z"
   },
   {
    "duration": 92,
    "start_time": "2021-12-07T15:02:41.319Z"
   },
   {
    "duration": 14,
    "start_time": "2021-12-07T15:02:59.679Z"
   },
   {
    "duration": 87,
    "start_time": "2021-12-07T15:03:40.574Z"
   },
   {
    "duration": 98,
    "start_time": "2021-12-07T15:03:51.080Z"
   },
   {
    "duration": 16,
    "start_time": "2021-12-07T15:04:00.278Z"
   },
   {
    "duration": 654,
    "start_time": "2021-12-08T11:16:02.197Z"
   },
   {
    "duration": 29,
    "start_time": "2021-12-08T11:16:09.388Z"
   },
   {
    "duration": 14,
    "start_time": "2021-12-08T11:16:16.775Z"
   },
   {
    "duration": 28,
    "start_time": "2021-12-08T11:16:21.867Z"
   },
   {
    "duration": 4135,
    "start_time": "2021-12-08T11:16:27.029Z"
   },
   {
    "duration": 30,
    "start_time": "2021-12-08T11:37:53.863Z"
   },
   {
    "duration": 2560,
    "start_time": "2021-12-08T11:38:05.713Z"
   },
   {
    "duration": 231,
    "start_time": "2021-12-08T12:26:46.577Z"
   },
   {
    "duration": 10,
    "start_time": "2021-12-08T12:26:52.626Z"
   },
   {
    "duration": 7,
    "start_time": "2021-12-08T12:27:15.090Z"
   },
   {
    "duration": 10,
    "start_time": "2021-12-08T12:27:40.772Z"
   },
   {
    "duration": 4349,
    "start_time": "2021-12-08T12:41:44.409Z"
   },
   {
    "duration": 9,
    "start_time": "2021-12-08T12:41:55.480Z"
   },
   {
    "duration": 7,
    "start_time": "2021-12-08T12:46:43.026Z"
   },
   {
    "duration": 9,
    "start_time": "2021-12-08T12:46:52.013Z"
   },
   {
    "duration": 9,
    "start_time": "2021-12-08T13:01:10.339Z"
   },
   {
    "duration": 14,
    "start_time": "2021-12-08T13:03:42.943Z"
   },
   {
    "duration": 54,
    "start_time": "2021-12-08T13:08:46.737Z"
   },
   {
    "duration": 62,
    "start_time": "2021-12-08T13:08:53.867Z"
   },
   {
    "duration": 62,
    "start_time": "2021-12-08T13:11:21.509Z"
   },
   {
    "duration": 59,
    "start_time": "2021-12-08T13:12:26.816Z"
   },
   {
    "duration": 953,
    "start_time": "2021-12-08T13:12:41.649Z"
   },
   {
    "duration": 603,
    "start_time": "2021-12-08T13:13:51.152Z"
   },
   {
    "duration": 632,
    "start_time": "2021-12-08T13:18:56.618Z"
   },
   {
    "duration": 606,
    "start_time": "2021-12-08T13:30:46.450Z"
   },
   {
    "duration": 623,
    "start_time": "2021-12-08T13:38:51.351Z"
   },
   {
    "duration": 26,
    "start_time": "2021-12-08T13:46:21.761Z"
   },
   {
    "duration": 32,
    "start_time": "2021-12-08T13:46:31.226Z"
   },
   {
    "duration": 27,
    "start_time": "2021-12-08T13:46:57.868Z"
   },
   {
    "duration": 14,
    "start_time": "2021-12-08T13:47:24.900Z"
   },
   {
    "duration": 15,
    "start_time": "2021-12-08T13:47:33.284Z"
   },
   {
    "duration": 61,
    "start_time": "2021-12-08T13:47:41.076Z"
   },
   {
    "duration": 15,
    "start_time": "2021-12-08T13:47:45.855Z"
   },
   {
    "duration": 58,
    "start_time": "2021-12-08T13:48:17.875Z"
   },
   {
    "duration": 88,
    "start_time": "2021-12-08T13:48:32.236Z"
   },
   {
    "duration": 16,
    "start_time": "2021-12-08T13:48:43.757Z"
   },
   {
    "duration": 15,
    "start_time": "2021-12-08T13:48:54.530Z"
   },
   {
    "duration": 178,
    "start_time": "2021-12-08T13:53:49.319Z"
   },
   {
    "duration": 4340,
    "start_time": "2021-12-08T13:54:08.590Z"
   },
   {
    "duration": 16,
    "start_time": "2021-12-08T13:54:18.318Z"
   },
   {
    "duration": 17,
    "start_time": "2021-12-08T13:55:36.246Z"
   },
   {
    "duration": 17,
    "start_time": "2021-12-08T13:56:10.174Z"
   },
   {
    "duration": 4791,
    "start_time": "2021-12-08T13:57:45.313Z"
   },
   {
    "duration": 4238,
    "start_time": "2021-12-08T13:57:59.579Z"
   },
   {
    "duration": 61,
    "start_time": "2021-12-08T13:58:53.180Z"
   },
   {
    "duration": 24,
    "start_time": "2021-12-08T13:59:14.123Z"
   },
   {
    "duration": 20,
    "start_time": "2021-12-08T14:11:36.336Z"
   },
   {
    "duration": 27,
    "start_time": "2021-12-08T14:11:48.593Z"
   },
   {
    "duration": 22,
    "start_time": "2021-12-08T14:12:05.784Z"
   },
   {
    "duration": 90,
    "start_time": "2021-12-08T14:12:16.897Z"
   },
   {
    "duration": 14,
    "start_time": "2021-12-08T14:12:51.392Z"
   },
   {
    "duration": 15,
    "start_time": "2021-12-08T14:12:59.129Z"
   },
   {
    "duration": 52,
    "start_time": "2021-12-08T14:14:39.878Z"
   },
   {
    "duration": 22,
    "start_time": "2021-12-08T14:15:11.508Z"
   },
   {
    "duration": 16,
    "start_time": "2021-12-08T14:15:36.429Z"
   },
   {
    "duration": 59,
    "start_time": "2021-12-08T14:15:54.364Z"
   },
   {
    "duration": 24,
    "start_time": "2021-12-08T14:16:02.067Z"
   },
   {
    "duration": 24,
    "start_time": "2021-12-08T14:17:48.554Z"
   },
   {
    "duration": 23,
    "start_time": "2021-12-08T14:20:40.952Z"
   },
   {
    "duration": 25,
    "start_time": "2021-12-08T14:21:12.103Z"
   },
   {
    "duration": 23,
    "start_time": "2021-12-08T14:29:04.833Z"
   },
   {
    "duration": 645,
    "start_time": "2021-12-09T07:18:16.979Z"
   },
   {
    "duration": 569,
    "start_time": "2021-12-09T08:58:00.632Z"
   },
   {
    "duration": 652,
    "start_time": "2021-12-09T08:58:29.833Z"
   },
   {
    "duration": 648,
    "start_time": "2021-12-09T09:05:43.711Z"
   },
   {
    "duration": 89,
    "start_time": "2021-12-09T09:06:13.248Z"
   },
   {
    "duration": 28,
    "start_time": "2021-12-09T09:06:18.404Z"
   },
   {
    "duration": 14,
    "start_time": "2021-12-09T09:06:26.511Z"
   },
   {
    "duration": 30,
    "start_time": "2021-12-09T09:06:31.366Z"
   },
   {
    "duration": 4573,
    "start_time": "2021-12-09T09:06:38.115Z"
   },
   {
    "duration": 713,
    "start_time": "2021-12-09T09:06:49.554Z"
   },
   {
    "duration": 685,
    "start_time": "2021-12-09T09:08:44.127Z"
   },
   {
    "duration": 19,
    "start_time": "2021-12-09T09:09:19.418Z"
   },
   {
    "duration": 25,
    "start_time": "2021-12-09T11:02:30.452Z"
   },
   {
    "duration": 21,
    "start_time": "2021-12-09T11:02:36.444Z"
   },
   {
    "duration": 11,
    "start_time": "2021-12-09T11:02:46.396Z"
   },
   {
    "duration": 15,
    "start_time": "2021-12-09T11:02:58.859Z"
   },
   {
    "duration": 83,
    "start_time": "2021-12-09T11:09:55.174Z"
   },
   {
    "duration": 96,
    "start_time": "2021-12-09T11:10:04.902Z"
   },
   {
    "duration": 29,
    "start_time": "2021-12-09T11:10:24.303Z"
   },
   {
    "duration": 30,
    "start_time": "2021-12-09T11:11:24.663Z"
   },
   {
    "duration": 33,
    "start_time": "2021-12-09T11:11:38.187Z"
   },
   {
    "duration": 29,
    "start_time": "2021-12-09T11:11:54.440Z"
   },
   {
    "duration": 31,
    "start_time": "2021-12-09T11:11:58.602Z"
   },
   {
    "duration": 30,
    "start_time": "2021-12-09T11:12:01.878Z"
   },
   {
    "duration": 30,
    "start_time": "2021-12-09T11:12:04.301Z"
   },
   {
    "duration": 84,
    "start_time": "2021-12-09T11:13:05.805Z"
   },
   {
    "duration": 27,
    "start_time": "2021-12-09T11:13:16.358Z"
   },
   {
    "duration": 15,
    "start_time": "2021-12-09T11:13:20.703Z"
   },
   {
    "duration": 28,
    "start_time": "2021-12-09T11:13:24.045Z"
   },
   {
    "duration": 319,
    "start_time": "2021-12-09T11:42:00.746Z"
   },
   {
    "duration": 261,
    "start_time": "2021-12-09T11:42:05.707Z"
   },
   {
    "duration": 28,
    "start_time": "2021-12-09T11:42:12.555Z"
   },
   {
    "duration": 4333,
    "start_time": "2021-12-09T11:42:16.880Z"
   },
   {
    "duration": 616,
    "start_time": "2021-12-09T11:42:24.401Z"
   },
   {
    "duration": 19,
    "start_time": "2021-12-09T11:42:28.154Z"
   },
   {
    "duration": 15,
    "start_time": "2021-12-09T11:42:33.442Z"
   },
   {
    "duration": 24,
    "start_time": "2021-12-09T11:42:42.896Z"
   },
   {
    "duration": 24,
    "start_time": "2021-12-09T11:43:45.903Z"
   },
   {
    "duration": 84,
    "start_time": "2021-12-09T11:48:00.334Z"
   },
   {
    "duration": 28,
    "start_time": "2021-12-09T11:48:04.768Z"
   },
   {
    "duration": 14,
    "start_time": "2021-12-09T11:48:08.278Z"
   },
   {
    "duration": 31,
    "start_time": "2021-12-09T11:48:10.868Z"
   },
   {
    "duration": 4836,
    "start_time": "2021-12-09T11:48:15.358Z"
   },
   {
    "duration": 621,
    "start_time": "2021-12-09T11:48:24.790Z"
   },
   {
    "duration": 19,
    "start_time": "2021-12-09T11:48:32.233Z"
   },
   {
    "duration": 24,
    "start_time": "2021-12-09T11:48:35.996Z"
   },
   {
    "duration": 22,
    "start_time": "2021-12-09T11:53:50.583Z"
   },
   {
    "duration": 278,
    "start_time": "2021-12-09T11:57:18.246Z"
   },
   {
    "duration": 284,
    "start_time": "2021-12-09T11:57:29.912Z"
   },
   {
    "duration": 1411,
    "start_time": "2021-12-09T11:58:29.908Z"
   },
   {
    "duration": 16,
    "start_time": "2021-12-09T11:59:12.863Z"
   },
   {
    "duration": 289,
    "start_time": "2021-12-09T11:59:26.994Z"
   },
   {
    "duration": 14,
    "start_time": "2021-12-09T11:59:32.868Z"
   },
   {
    "duration": 16,
    "start_time": "2021-12-09T11:59:52.571Z"
   },
   {
    "duration": 15,
    "start_time": "2021-12-09T12:01:51.241Z"
   },
   {
    "duration": 22,
    "start_time": "2021-12-09T12:07:39.828Z"
   },
   {
    "duration": 23,
    "start_time": "2021-12-09T12:07:52.634Z"
   },
   {
    "duration": 23,
    "start_time": "2021-12-09T12:44:54.342Z"
   },
   {
    "duration": 93,
    "start_time": "2021-12-09T13:07:43.007Z"
   },
   {
    "duration": 30,
    "start_time": "2021-12-09T13:08:16.682Z"
   },
   {
    "duration": 13,
    "start_time": "2021-12-09T13:08:24.931Z"
   },
   {
    "duration": 31,
    "start_time": "2021-12-09T13:08:34.304Z"
   },
   {
    "duration": 4636,
    "start_time": "2021-12-09T13:11:07.861Z"
   },
   {
    "duration": 947,
    "start_time": "2021-12-10T07:15:34.683Z"
   },
   {
    "duration": 42,
    "start_time": "2021-12-10T07:15:35.633Z"
   },
   {
    "duration": 39,
    "start_time": "2021-12-10T07:15:35.678Z"
   },
   {
    "duration": 42,
    "start_time": "2021-12-10T07:15:35.720Z"
   },
   {
    "duration": 6800,
    "start_time": "2021-12-10T07:15:35.765Z"
   },
   {
    "duration": 1026,
    "start_time": "2021-12-10T07:15:42.568Z"
   },
   {
    "duration": 32,
    "start_time": "2021-12-10T07:15:43.597Z"
   },
   {
    "duration": 47,
    "start_time": "2021-12-10T07:15:43.632Z"
   },
   {
    "duration": 60,
    "start_time": "2021-12-10T07:15:43.682Z"
   },
   {
    "duration": 35,
    "start_time": "2021-12-10T07:15:43.744Z"
   },
   {
    "duration": 8,
    "start_time": "2021-12-10T07:16:01.197Z"
   },
   {
    "duration": 135,
    "start_time": "2021-12-10T07:16:59.367Z"
   },
   {
    "duration": 11,
    "start_time": "2021-12-10T07:21:57.427Z"
   },
   {
    "duration": 987,
    "start_time": "2021-12-10T08:51:50.704Z"
   },
   {
    "duration": 28,
    "start_time": "2021-12-10T08:51:59.142Z"
   },
   {
    "duration": 7,
    "start_time": "2021-12-10T09:12:42.527Z"
   },
   {
    "duration": 27,
    "start_time": "2021-12-10T09:39:02.860Z"
   },
   {
    "duration": 27,
    "start_time": "2021-12-10T09:39:48.589Z"
   },
   {
    "duration": 28,
    "start_time": "2021-12-10T09:40:08.001Z"
   },
   {
    "duration": 50,
    "start_time": "2021-12-10T09:41:14.992Z"
   },
   {
    "duration": 57,
    "start_time": "2021-12-10T09:42:12.511Z"
   },
   {
    "duration": 431,
    "start_time": "2021-12-10T09:43:31.043Z"
   },
   {
    "duration": 618,
    "start_time": "2021-12-10T09:43:53.920Z"
   },
   {
    "duration": 973,
    "start_time": "2021-12-10T09:47:55.117Z"
   },
   {
    "duration": 926,
    "start_time": "2021-12-10T09:48:22.967Z"
   },
   {
    "duration": 967,
    "start_time": "2021-12-10T09:48:47.624Z"
   },
   {
    "duration": 653,
    "start_time": "2021-12-10T09:48:55.294Z"
   },
   {
    "duration": 645,
    "start_time": "2021-12-10T09:49:46.216Z"
   },
   {
    "duration": 16,
    "start_time": "2021-12-10T09:51:02.942Z"
   },
   {
    "duration": 31,
    "start_time": "2021-12-10T09:51:07.613Z"
   },
   {
    "duration": 4940,
    "start_time": "2021-12-10T09:51:29.205Z"
   },
   {
    "duration": 647,
    "start_time": "2021-12-10T09:52:03.614Z"
   },
   {
    "duration": 19,
    "start_time": "2021-12-10T09:52:13.790Z"
   },
   {
    "duration": 25,
    "start_time": "2021-12-10T09:52:19.127Z"
   },
   {
    "duration": 23,
    "start_time": "2021-12-10T09:52:23.750Z"
   },
   {
    "duration": 22,
    "start_time": "2021-12-10T09:52:32.172Z"
   },
   {
    "duration": 25,
    "start_time": "2021-12-10T10:08:53.928Z"
   },
   {
    "duration": 27,
    "start_time": "2021-12-10T10:09:06.351Z"
   },
   {
    "duration": 27,
    "start_time": "2021-12-10T10:09:08.514Z"
   },
   {
    "duration": 31,
    "start_time": "2021-12-10T10:09:11.062Z"
   },
   {
    "duration": 26,
    "start_time": "2021-12-10T10:09:13.680Z"
   },
   {
    "duration": 27,
    "start_time": "2021-12-10T10:09:15.610Z"
   },
   {
    "duration": 26,
    "start_time": "2021-12-10T10:09:18.591Z"
   },
   {
    "duration": 15,
    "start_time": "2021-12-10T10:09:22.496Z"
   },
   {
    "duration": 25,
    "start_time": "2021-12-10T10:09:26.232Z"
   },
   {
    "duration": 2559,
    "start_time": "2021-12-10T10:09:40.283Z"
   },
   {
    "duration": 8,
    "start_time": "2021-12-10T10:09:57.063Z"
   },
   {
    "duration": 27,
    "start_time": "2021-12-10T10:10:09.945Z"
   },
   {
    "duration": 86,
    "start_time": "2021-12-10T10:10:23.501Z"
   },
   {
    "duration": 637,
    "start_time": "2021-12-10T10:10:28.718Z"
   },
   {
    "duration": 14,
    "start_time": "2021-12-10T10:10:33.244Z"
   },
   {
    "duration": 25,
    "start_time": "2021-12-10T10:10:36.423Z"
   },
   {
    "duration": 42,
    "start_time": "2021-12-10T10:11:10.575Z"
   },
   {
    "duration": 70,
    "start_time": "2021-12-10T11:37:57.129Z"
   },
   {
    "duration": 4168,
    "start_time": "2021-12-10T11:45:55.998Z"
   },
   {
    "duration": 8,
    "start_time": "2021-12-10T11:46:07.712Z"
   },
   {
    "duration": 2722,
    "start_time": "2021-12-10T11:48:13.748Z"
   },
   {
    "duration": 8,
    "start_time": "2021-12-10T11:48:22.453Z"
   },
   {
    "duration": 634,
    "start_time": "2021-12-10T11:48:28.151Z"
   },
   {
    "duration": 20,
    "start_time": "2021-12-10T11:48:42.729Z"
   },
   {
    "duration": 24,
    "start_time": "2021-12-10T11:48:46.256Z"
   },
   {
    "duration": 22,
    "start_time": "2021-12-10T11:49:37.762Z"
   },
   {
    "duration": 25,
    "start_time": "2021-12-10T11:50:08.149Z"
   },
   {
    "duration": 123,
    "start_time": "2021-12-10T11:51:32.425Z"
   },
   {
    "duration": 126,
    "start_time": "2021-12-10T11:52:20.660Z"
   },
   {
    "duration": 686,
    "start_time": "2021-12-10T11:52:32.696Z"
   },
   {
    "duration": 14,
    "start_time": "2021-12-10T11:52:59.249Z"
   },
   {
    "duration": 72,
    "start_time": "2021-12-10T11:53:04.165Z"
   },
   {
    "duration": 4987,
    "start_time": "2021-12-10T11:53:34.505Z"
   },
   {
    "duration": 9,
    "start_time": "2021-12-10T11:53:44.267Z"
   },
   {
    "duration": 666,
    "start_time": "2021-12-10T11:55:02.510Z"
   },
   {
    "duration": 20,
    "start_time": "2021-12-10T11:55:16.329Z"
   },
   {
    "duration": 34,
    "start_time": "2021-12-10T11:55:22.289Z"
   },
   {
    "duration": 24,
    "start_time": "2021-12-10T11:55:30.222Z"
   },
   {
    "duration": 24,
    "start_time": "2021-12-10T11:55:48.890Z"
   },
   {
    "duration": 881,
    "start_time": "2021-12-11T08:17:12.273Z"
   },
   {
    "duration": 1085,
    "start_time": "2021-12-11T08:17:13.158Z"
   },
   {
    "duration": 20,
    "start_time": "2021-12-11T08:17:14.247Z"
   },
   {
    "duration": 131,
    "start_time": "2021-12-11T08:17:14.271Z"
   },
   {
    "duration": 5515,
    "start_time": "2021-12-11T08:17:14.404Z"
   },
   {
    "duration": 11,
    "start_time": "2021-12-11T08:17:19.921Z"
   },
   {
    "duration": 1173,
    "start_time": "2021-12-11T08:17:19.934Z"
   },
   {
    "duration": 26,
    "start_time": "2021-12-11T08:17:21.118Z"
   },
   {
    "duration": 35,
    "start_time": "2021-12-11T08:17:21.147Z"
   },
   {
    "duration": 57,
    "start_time": "2021-12-11T08:17:21.185Z"
   },
   {
    "duration": 32,
    "start_time": "2021-12-11T08:17:21.245Z"
   },
   {
    "duration": 939,
    "start_time": "2021-12-11T08:20:53.484Z"
   },
   {
    "duration": 1073,
    "start_time": "2021-12-11T08:20:54.426Z"
   },
   {
    "duration": 27,
    "start_time": "2021-12-11T08:20:55.503Z"
   },
   {
    "duration": 120,
    "start_time": "2021-12-11T08:20:55.534Z"
   },
   {
    "duration": 5476,
    "start_time": "2021-12-11T08:20:55.657Z"
   },
   {
    "duration": 11,
    "start_time": "2021-12-11T08:21:01.136Z"
   },
   {
    "duration": 1179,
    "start_time": "2021-12-11T08:21:01.149Z"
   },
   {
    "duration": 29,
    "start_time": "2021-12-11T08:21:02.331Z"
   },
   {
    "duration": 56,
    "start_time": "2021-12-11T08:21:02.362Z"
   },
   {
    "duration": 32,
    "start_time": "2021-12-11T08:21:02.421Z"
   },
   {
    "duration": 32,
    "start_time": "2021-12-11T08:21:02.456Z"
   }
  ],
  "kernelspec": {
   "display_name": "Python 3 (ipykernel)",
   "language": "python",
   "name": "python3"
  },
  "language_info": {
   "codemirror_mode": {
    "name": "ipython",
    "version": 3
   },
   "file_extension": ".py",
   "mimetype": "text/x-python",
   "name": "python",
   "nbconvert_exporter": "python",
   "pygments_lexer": "ipython3",
   "version": "3.9.7"
  },
  "toc": {
   "base_numbering": 1,
   "nav_menu": {},
   "number_sections": true,
   "sideBar": true,
   "skip_h1_title": true,
   "title_cell": "Table of Contents",
   "title_sidebar": "Contents",
   "toc_cell": false,
   "toc_position": {},
   "toc_section_display": true,
   "toc_window_display": false
  }
 },
 "nbformat": 4,
 "nbformat_minor": 2
}
